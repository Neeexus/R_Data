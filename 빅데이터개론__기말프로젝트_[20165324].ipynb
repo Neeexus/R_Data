{
  "nbformat": 4,
  "nbformat_minor": 0,
  "metadata": {
    "colab": {
      "name": "빅데이터개론__기말프로젝트_[20165324].ipynb",
      "provenance": [],
      "collapsed_sections": []
    },
    "kernelspec": {
      "name": "ir",
      "display_name": "R"
    }
  },
  "cells": [
    {
      "cell_type": "markdown",
      "metadata": {
        "id": "d9UoYon29goG"
      },
      "source": [
        "# __빅데이터개론 기말프로젝트__\n",
        "\n",
        "* InClass Prediction Competition 주소 :\n",
        "  https://www.kaggle.com/t/b0dad38443624414a46ce6df520a26bc\n",
        "\n",
        "\n",
        "1. 기간 : 2020년 11월 30일[월요일] ~ 12월 16일[수요일] - 기간 외 제출 받지않음.\n",
        "2. 개인 프로젝트(팀별 프로젝트 아님!!) - copy & paste 발견시 0점 처리\n",
        "3. 주어진 데이터에 대한 분류 모델 생성 및 성능평가(kaggle submissions)\n",
        "  * Logistic Regression, Decision Trees, Random Forests, Support Vector Machine\n",
        "  * 4개의 분류 모델을 사용하여 Train set으로 학습, Test set으로 예측/분류를 진행하여 Kaggle에 submissions\n",
        "  * 4개의 분류 모델을 모두 사용해야 하며, 자신이 작업했던 내용을 Jupyter notebook(Jupyter, Google Colab) 또는 Rcript에 저장할 것.\n",
        "  * 또한, 모든 작업을 진행할 때는 필요한 부분에 주석을 반드시 작성할 것*(주석 미기입시 0점 처리)*\n",
        "\n",
        "```\n",
        "# Random Forest 또는 SVM predict에서 에러가 발생할 때 아래의 코드 사용\n",
        "# https://stackoverflow.com/questions/24829674/r-random-forest-error-type-of-predictors-in-new-data-do-not-match\n",
        "common <- intersect(names(train), names(test)) \n",
        "for (p in common) { \n",
        "  if (class(train[[p]]) == \"factor\") { \n",
        "    levels(test[[p]]) <- levels(train[[p]]) \n",
        "  } \n",
        "}\n",
        "```\n"
      ]
    },
    {
      "cell_type": "markdown",
      "metadata": {
        "id": "K-wRZG-8DL3c"
      },
      "source": [
        "# <b>패키지 설치"
      ]
    },
    {
      "cell_type": "code",
      "metadata": {
        "colab": {
          "base_uri": "https://localhost:8080/"
        },
        "id": "yBCcdEWoLy57",
        "outputId": "9d4cd556-e1f2-4775-d686-bdd4f3aa893c"
      },
      "source": [
        "#패키지 설치\r\n",
        "install.packages(c(\"tidyverse\", \"data.table\", \"devtools\", \"scatterplot3d\", \"plotly\",\"PerformanceAnalytics\",\"caret\",\"e1071\"))\r\n",
        "install.packages(c(\"rattle\", \"rpart.plot\"))\r\n",
        "library(rattle)\r\n",
        "library(rpart.plot)\r\n",
        "library(RColorBrewer)\r\n",
        "library(tidyverse)\r\n",
        "library(data.table)\r\n",
        "library(devtools)\r\n",
        "library(caret)"
      ],
      "execution_count": 2,
      "outputs": [
        {
          "output_type": "stream",
          "text": [
            "Installing packages into ‘/usr/local/lib/R/site-library’\n",
            "(as ‘lib’ is unspecified)\n",
            "\n",
            "Loading required package: lattice\n",
            "\n",
            "\n",
            "Attaching package: ‘caret’\n",
            "\n",
            "\n",
            "The following object is masked from ‘package:purrr’:\n",
            "\n",
            "    lift\n",
            "\n",
            "\n"
          ],
          "name": "stderr"
        }
      ]
    },
    {
      "cell_type": "code",
      "metadata": {
        "id": "CbGKqn7_MVdX"
      },
      "source": [
        "#파일 불러옴\r\n",
        "bank_DF <- fread(\"./Train.csv\") %>% as_tibble()\r\n",
        "bank_p<- fread(\"./Test.csv\")%>% as_tibble()"
      ],
      "execution_count": 435,
      "outputs": []
    },
    {
      "cell_type": "markdown",
      "metadata": {
        "id": "VgzF1jVDDi7J"
      },
      "source": [
        "# 데이터 구조 확인"
      ]
    },
    {
      "cell_type": "code",
      "metadata": {
        "colab": {
          "base_uri": "https://localhost:8080/",
          "height": 1000
        },
        "id": "snzd97O9MLkv",
        "outputId": "803349c2-3f10-4a5b-f520-22bc93932a24"
      },
      "source": [
        "#데이터 구조 확인\r\n",
        "bank_DF %>% str()\r\n",
        "bank_DF%>% summary()\r\n",
        "bank_DF<-na.omit(bank_DF)  #결측값 제거\r\n",
        "bank_DF$age %>% unique()\r\n",
        "bank_DF$job%>%unique()\r\n",
        "bank_DF$marital%>%unique()\r\n",
        "bank_DF$education%>%unique()\r\n",
        "bank_DF$default%>%unique()\r\n",
        "bank_DF$housing%>%unique()\r\n",
        "bank_DF$loan%>%unique()\r\n",
        "bank_DF$contact%>%unique()\r\n",
        "bank_DF$month%>%unique()\r\n",
        "bank_DF$day_of_week%>%unique()\r\n",
        "bank_DF$duration%>%unique()\r\n",
        "bank_DF$campaign%>%unique()\r\n",
        "bank_DF$pdays%>%unique()\r\n",
        "bank_DF$previous%>%unique()\r\n",
        "bank_DF$poutcome%>%unique()\r\n",
        "bank_DF$emp.var.rate%>%unique()\r\n",
        "bank_DF$cons.price.idx%>%unique()\r\n",
        "bank_DF$cons.conf.idx%>%unique()\r\n",
        "bank_DF$euribor3m%>%unique()\r\n",
        "bank_DF$nr.employed%>%unique()\r\n",
        "bank_DF$termDeposit%>%unique()\r\n"
      ],
      "execution_count": 436,
      "outputs": [
        {
          "output_type": "stream",
          "text": [
            "tibble [10,098 × 22] (S3: tbl_df/tbl/data.frame)\n",
            " $ ID            : chr [1:10098] \"T1\" \"T2\" \"T3\" \"T4\" ...\n",
            " $ age           : int [1:10098] 41 57 34 54 49 73 40 34 56 41 ...\n",
            " $ job           : chr [1:10098] \"technician\" \"retired\" \"technician\" \"management\" ...\n",
            " $ marital       : chr [1:10098] \"single\" \"single\" \"married\" \"married\" ...\n",
            " $ education     : chr [1:10098] \"university.degree\" \"high.school\" \"professional.course\" \"university.degree\" ...\n",
            " $ default       : chr [1:10098] \"no\" \"no\" \"unknown\" \"no\" ...\n",
            " $ housing       : chr [1:10098] \"no\" \"no\" \"yes\" \"no\" ...\n",
            " $ loan          : chr [1:10098] \"no\" \"no\" \"no\" \"no\" ...\n",
            " $ contact       : chr [1:10098] \"cellular\" \"telephone\" \"cellular\" \"cellular\" ...\n",
            " $ month         : chr [1:10098] \"nov\" \"jun\" \"jul\" \"nov\" ...\n",
            " $ day_of_week   : chr [1:10098] \"fri\" \"fri\" \"wed\" \"mon\" ...\n",
            " $ duration      : int [1:10098] 903 74 75 59 252 659 21 2462 266 205 ...\n",
            " $ campaign      : int [1:10098] 3 3 5 1 1 1 1 2 1 7 ...\n",
            " $ pdays         : int [1:10098] 999 999 999 999 999 999 999 999 999 999 ...\n",
            " $ previous      : int [1:10098] 1 0 0 0 0 0 0 0 0 0 ...\n",
            " $ poutcome      : chr [1:10098] \"failure\" \"nonexistent\" \"nonexistent\" \"nonexistent\" ...\n",
            " $ emp.var.rate  : num [1:10098] -0.1 1.4 1.4 -0.1 1.1 -1.8 1.4 -0.1 -1.8 1.1 ...\n",
            " $ cons.price.idx: num [1:10098] 93.2 94.5 93.9 93.2 94 ...\n",
            " $ cons.conf.idx : num [1:10098] -42 -41.8 -42.7 -42 -36.4 -34.8 -41.8 -42 -47.1 -36.4 ...\n",
            " $ euribor3m     : num [1:10098] 4.02 4.96 4.96 4.19 4.86 ...\n",
            " $ nr.employed   : num [1:10098] 5196 5228 5228 5196 5191 ...\n",
            " $ termDeposit   : chr [1:10098] \"no\" \"no\" \"no\" \"no\" ...\n",
            " - attr(*, \".internal.selfref\")=<externalptr> \n"
          ],
          "name": "stdout"
        },
        {
          "output_type": "display_data",
          "data": {
            "text/plain": [
              "      ID                 age           job              marital         \n",
              " Length:10098       Min.   :17.0   Length:10098       Length:10098      \n",
              " Class :character   1st Qu.:32.0   Class :character   Class :character  \n",
              " Mode  :character   Median :38.0   Mode  :character   Mode  :character  \n",
              "                    Mean   :40.3                                        \n",
              "                    3rd Qu.:48.0                                        \n",
              "                    Max.   :98.0                                        \n",
              "  education           default            housing              loan          \n",
              " Length:10098       Length:10098       Length:10098       Length:10098      \n",
              " Class :character   Class :character   Class :character   Class :character  \n",
              " Mode  :character   Mode  :character   Mode  :character   Mode  :character  \n",
              "                                                                            \n",
              "                                                                            \n",
              "                                                                            \n",
              "   contact             month           day_of_week           duration     \n",
              " Length:10098       Length:10098       Length:10098       Min.   :   3.0  \n",
              " Class :character   Class :character   Class :character   1st Qu.: 130.0  \n",
              " Mode  :character   Mode  :character   Mode  :character   Median : 243.0  \n",
              "                                                          Mean   : 356.1  \n",
              "                                                          3rd Qu.: 472.8  \n",
              "                                                          Max.   :4199.0  \n",
              "    campaign          pdays          previous        poutcome        \n",
              " Min.   : 1.000   Min.   :  0.0   Min.   :0.0000   Length:10098      \n",
              " 1st Qu.: 1.000   1st Qu.:999.0   1st Qu.:0.0000   Class :character  \n",
              " Median : 2.000   Median :999.0   Median :0.0000   Mode  :character  \n",
              " Mean   : 2.397   Mean   :906.1   Mean   :0.2802                     \n",
              " 3rd Qu.: 3.000   3rd Qu.:999.0   3rd Qu.:0.0000                     \n",
              " Max.   :42.000   Max.   :999.0   Max.   :6.0000                     \n",
              "  emp.var.rate     cons.price.idx  cons.conf.idx      euribor3m    \n",
              " Min.   :-3.4000   Min.   :92.20   Min.   :-50.80   Min.   :0.634  \n",
              " 1st Qu.:-1.8000   1st Qu.:92.96   1st Qu.:-42.70   1st Qu.:1.260  \n",
              " Median :-0.1000   Median :93.44   Median :-41.80   Median :4.120  \n",
              " Mean   :-0.3717   Mean   :93.50   Mean   :-40.27   Mean   :3.104  \n",
              " 3rd Qu.: 1.4000   3rd Qu.:93.99   3rd Qu.:-36.40   3rd Qu.:4.960  \n",
              " Max.   : 1.4000   Max.   :94.77   Max.   :-26.90   Max.   :5.045  \n",
              "  nr.employed   termDeposit       \n",
              " Min.   :4964   Length:10098      \n",
              " 1st Qu.:5099   Class :character  \n",
              " Median :5191   Mode  :character  \n",
              " Mean   :5142                     \n",
              " 3rd Qu.:5228                     \n",
              " Max.   :5228                     "
            ]
          },
          "metadata": {
            "tags": []
          }
        },
        {
          "output_type": "display_data",
          "data": {
            "text/plain": [
              " [1] 41 57 34 54 49 73 40 56 46 37 26 55 33 28 31 23 43 52 27 64 53 48 30 38 35\n",
              "[26] 50 98 36 47 42 20 60 32 39 58 24 77 25 22 44 29 80 71 51 74 82 59 45 66 63\n",
              "[51] 68 72 21 65 69 88 70 62 76 78 75 79 81 67 83 61 19 85 18 84 86 17 89 92 87"
            ],
            "text/latex": "\\begin{enumerate*}\n\\item 41\n\\item 57\n\\item 34\n\\item 54\n\\item 49\n\\item 73\n\\item 40\n\\item 56\n\\item 46\n\\item 37\n\\item 26\n\\item 55\n\\item 33\n\\item 28\n\\item 31\n\\item 23\n\\item 43\n\\item 52\n\\item 27\n\\item 64\n\\item 53\n\\item 48\n\\item 30\n\\item 38\n\\item 35\n\\item 50\n\\item 98\n\\item 36\n\\item 47\n\\item 42\n\\item 20\n\\item 60\n\\item 32\n\\item 39\n\\item 58\n\\item 24\n\\item 77\n\\item 25\n\\item 22\n\\item 44\n\\item 29\n\\item 80\n\\item 71\n\\item 51\n\\item 74\n\\item 82\n\\item 59\n\\item 45\n\\item 66\n\\item 63\n\\item 68\n\\item 72\n\\item 21\n\\item 65\n\\item 69\n\\item 88\n\\item 70\n\\item 62\n\\item 76\n\\item 78\n\\item 75\n\\item 79\n\\item 81\n\\item 67\n\\item 83\n\\item 61\n\\item 19\n\\item 85\n\\item 18\n\\item 84\n\\item 86\n\\item 17\n\\item 89\n\\item 92\n\\item 87\n\\end{enumerate*}\n",
            "text/markdown": "1. 41\n2. 57\n3. 34\n4. 54\n5. 49\n6. 73\n7. 40\n8. 56\n9. 46\n10. 37\n11. 26\n12. 55\n13. 33\n14. 28\n15. 31\n16. 23\n17. 43\n18. 52\n19. 27\n20. 64\n21. 53\n22. 48\n23. 30\n24. 38\n25. 35\n26. 50\n27. 98\n28. 36\n29. 47\n30. 42\n31. 20\n32. 60\n33. 32\n34. 39\n35. 58\n36. 24\n37. 77\n38. 25\n39. 22\n40. 44\n41. 29\n42. 80\n43. 71\n44. 51\n45. 74\n46. 82\n47. 59\n48. 45\n49. 66\n50. 63\n51. 68\n52. 72\n53. 21\n54. 65\n55. 69\n56. 88\n57. 70\n58. 62\n59. 76\n60. 78\n61. 75\n62. 79\n63. 81\n64. 67\n65. 83\n66. 61\n67. 19\n68. 85\n69. 18\n70. 84\n71. 86\n72. 17\n73. 89\n74. 92\n75. 87\n\n\n",
            "text/html": [
              "<style>\n",
              ".list-inline {list-style: none; margin:0; padding: 0}\n",
              ".list-inline>li {display: inline-block}\n",
              ".list-inline>li:not(:last-child)::after {content: \"\\00b7\"; padding: 0 .5ex}\n",
              "</style>\n",
              "<ol class=list-inline><li>41</li><li>57</li><li>34</li><li>54</li><li>49</li><li>73</li><li>40</li><li>56</li><li>46</li><li>37</li><li>26</li><li>55</li><li>33</li><li>28</li><li>31</li><li>23</li><li>43</li><li>52</li><li>27</li><li>64</li><li>53</li><li>48</li><li>30</li><li>38</li><li>35</li><li>50</li><li>98</li><li>36</li><li>47</li><li>42</li><li>20</li><li>60</li><li>32</li><li>39</li><li>58</li><li>24</li><li>77</li><li>25</li><li>22</li><li>44</li><li>29</li><li>80</li><li>71</li><li>51</li><li>74</li><li>82</li><li>59</li><li>45</li><li>66</li><li>63</li><li>68</li><li>72</li><li>21</li><li>65</li><li>69</li><li>88</li><li>70</li><li>62</li><li>76</li><li>78</li><li>75</li><li>79</li><li>81</li><li>67</li><li>83</li><li>61</li><li>19</li><li>85</li><li>18</li><li>84</li><li>86</li><li>17</li><li>89</li><li>92</li><li>87</li></ol>\n"
            ]
          },
          "metadata": {
            "tags": []
          }
        },
        {
          "output_type": "display_data",
          "data": {
            "text/plain": [
              " [1] \"technician\"    \"retired\"       \"management\"    \"blue-collar\"  \n",
              " [5] \"entrepreneur\"  \"admin.\"        \"self-employed\" \"services\"     \n",
              " [9] \"unemployed\"    \"student\"       \"housemaid\"     \"unknown\"      "
            ],
            "text/latex": "\\begin{enumerate*}\n\\item 'technician'\n\\item 'retired'\n\\item 'management'\n\\item 'blue-collar'\n\\item 'entrepreneur'\n\\item 'admin.'\n\\item 'self-employed'\n\\item 'services'\n\\item 'unemployed'\n\\item 'student'\n\\item 'housemaid'\n\\item 'unknown'\n\\end{enumerate*}\n",
            "text/markdown": "1. 'technician'\n2. 'retired'\n3. 'management'\n4. 'blue-collar'\n5. 'entrepreneur'\n6. 'admin.'\n7. 'self-employed'\n8. 'services'\n9. 'unemployed'\n10. 'student'\n11. 'housemaid'\n12. 'unknown'\n\n\n",
            "text/html": [
              "<style>\n",
              ".list-inline {list-style: none; margin:0; padding: 0}\n",
              ".list-inline>li {display: inline-block}\n",
              ".list-inline>li:not(:last-child)::after {content: \"\\00b7\"; padding: 0 .5ex}\n",
              "</style>\n",
              "<ol class=list-inline><li>'technician'</li><li>'retired'</li><li>'management'</li><li>'blue-collar'</li><li>'entrepreneur'</li><li>'admin.'</li><li>'self-employed'</li><li>'services'</li><li>'unemployed'</li><li>'student'</li><li>'housemaid'</li><li>'unknown'</li></ol>\n"
            ]
          },
          "metadata": {
            "tags": []
          }
        },
        {
          "output_type": "display_data",
          "data": {
            "text/plain": [
              "[1] \"single\"   \"married\"  \"divorced\" \"unknown\" "
            ],
            "text/latex": "\\begin{enumerate*}\n\\item 'single'\n\\item 'married'\n\\item 'divorced'\n\\item 'unknown'\n\\end{enumerate*}\n",
            "text/markdown": "1. 'single'\n2. 'married'\n3. 'divorced'\n4. 'unknown'\n\n\n",
            "text/html": [
              "<style>\n",
              ".list-inline {list-style: none; margin:0; padding: 0}\n",
              ".list-inline>li {display: inline-block}\n",
              ".list-inline>li:not(:last-child)::after {content: \"\\00b7\"; padding: 0 .5ex}\n",
              "</style>\n",
              "<ol class=list-inline><li>'single'</li><li>'married'</li><li>'divorced'</li><li>'unknown'</li></ol>\n"
            ]
          },
          "metadata": {
            "tags": []
          }
        },
        {
          "output_type": "display_data",
          "data": {
            "text/plain": [
              "[1] \"university.degree\"   \"high.school\"         \"professional.course\"\n",
              "[4] \"basic.4y\"            \"unknown\"             \"basic.9y\"           \n",
              "[7] \"basic.6y\"            \"illiterate\"         "
            ],
            "text/latex": "\\begin{enumerate*}\n\\item 'university.degree'\n\\item 'high.school'\n\\item 'professional.course'\n\\item 'basic.4y'\n\\item 'unknown'\n\\item 'basic.9y'\n\\item 'basic.6y'\n\\item 'illiterate'\n\\end{enumerate*}\n",
            "text/markdown": "1. 'university.degree'\n2. 'high.school'\n3. 'professional.course'\n4. 'basic.4y'\n5. 'unknown'\n6. 'basic.9y'\n7. 'basic.6y'\n8. 'illiterate'\n\n\n",
            "text/html": [
              "<style>\n",
              ".list-inline {list-style: none; margin:0; padding: 0}\n",
              ".list-inline>li {display: inline-block}\n",
              ".list-inline>li:not(:last-child)::after {content: \"\\00b7\"; padding: 0 .5ex}\n",
              "</style>\n",
              "<ol class=list-inline><li>'university.degree'</li><li>'high.school'</li><li>'professional.course'</li><li>'basic.4y'</li><li>'unknown'</li><li>'basic.9y'</li><li>'basic.6y'</li><li>'illiterate'</li></ol>\n"
            ]
          },
          "metadata": {
            "tags": []
          }
        },
        {
          "output_type": "display_data",
          "data": {
            "text/plain": [
              "[1] \"no\"      \"unknown\" \"yes\"    "
            ],
            "text/latex": "\\begin{enumerate*}\n\\item 'no'\n\\item 'unknown'\n\\item 'yes'\n\\end{enumerate*}\n",
            "text/markdown": "1. 'no'\n2. 'unknown'\n3. 'yes'\n\n\n",
            "text/html": [
              "<style>\n",
              ".list-inline {list-style: none; margin:0; padding: 0}\n",
              ".list-inline>li {display: inline-block}\n",
              ".list-inline>li:not(:last-child)::after {content: \"\\00b7\"; padding: 0 .5ex}\n",
              "</style>\n",
              "<ol class=list-inline><li>'no'</li><li>'unknown'</li><li>'yes'</li></ol>\n"
            ]
          },
          "metadata": {
            "tags": []
          }
        },
        {
          "output_type": "display_data",
          "data": {
            "text/plain": [
              "[1] \"no\"      \"yes\"     \"unknown\""
            ],
            "text/latex": "\\begin{enumerate*}\n\\item 'no'\n\\item 'yes'\n\\item 'unknown'\n\\end{enumerate*}\n",
            "text/markdown": "1. 'no'\n2. 'yes'\n3. 'unknown'\n\n\n",
            "text/html": [
              "<style>\n",
              ".list-inline {list-style: none; margin:0; padding: 0}\n",
              ".list-inline>li {display: inline-block}\n",
              ".list-inline>li:not(:last-child)::after {content: \"\\00b7\"; padding: 0 .5ex}\n",
              "</style>\n",
              "<ol class=list-inline><li>'no'</li><li>'yes'</li><li>'unknown'</li></ol>\n"
            ]
          },
          "metadata": {
            "tags": []
          }
        },
        {
          "output_type": "display_data",
          "data": {
            "text/plain": [
              "[1] \"no\"      \"unknown\" \"yes\"    "
            ],
            "text/latex": "\\begin{enumerate*}\n\\item 'no'\n\\item 'unknown'\n\\item 'yes'\n\\end{enumerate*}\n",
            "text/markdown": "1. 'no'\n2. 'unknown'\n3. 'yes'\n\n\n",
            "text/html": [
              "<style>\n",
              ".list-inline {list-style: none; margin:0; padding: 0}\n",
              ".list-inline>li {display: inline-block}\n",
              ".list-inline>li:not(:last-child)::after {content: \"\\00b7\"; padding: 0 .5ex}\n",
              "</style>\n",
              "<ol class=list-inline><li>'no'</li><li>'unknown'</li><li>'yes'</li></ol>\n"
            ]
          },
          "metadata": {
            "tags": []
          }
        },
        {
          "output_type": "display_data",
          "data": {
            "text/plain": [
              "[1] \"cellular\"  \"telephone\""
            ],
            "text/latex": "\\begin{enumerate*}\n\\item 'cellular'\n\\item 'telephone'\n\\end{enumerate*}\n",
            "text/markdown": "1. 'cellular'\n2. 'telephone'\n\n\n",
            "text/html": [
              "<style>\n",
              ".list-inline {list-style: none; margin:0; padding: 0}\n",
              ".list-inline>li {display: inline-block}\n",
              ".list-inline>li:not(:last-child)::after {content: \"\\00b7\"; padding: 0 .5ex}\n",
              "</style>\n",
              "<ol class=list-inline><li>'cellular'</li><li>'telephone'</li></ol>\n"
            ]
          },
          "metadata": {
            "tags": []
          }
        },
        {
          "output_type": "display_data",
          "data": {
            "text/plain": [
              " [1] \"nov\" \"jun\" \"jul\" \"may\" \"mar\" \"apr\" \"aug\" \"dec\" \"oct\" \"sep\""
            ],
            "text/latex": "\\begin{enumerate*}\n\\item 'nov'\n\\item 'jun'\n\\item 'jul'\n\\item 'may'\n\\item 'mar'\n\\item 'apr'\n\\item 'aug'\n\\item 'dec'\n\\item 'oct'\n\\item 'sep'\n\\end{enumerate*}\n",
            "text/markdown": "1. 'nov'\n2. 'jun'\n3. 'jul'\n4. 'may'\n5. 'mar'\n6. 'apr'\n7. 'aug'\n8. 'dec'\n9. 'oct'\n10. 'sep'\n\n\n",
            "text/html": [
              "<style>\n",
              ".list-inline {list-style: none; margin:0; padding: 0}\n",
              ".list-inline>li {display: inline-block}\n",
              ".list-inline>li:not(:last-child)::after {content: \"\\00b7\"; padding: 0 .5ex}\n",
              "</style>\n",
              "<ol class=list-inline><li>'nov'</li><li>'jun'</li><li>'jul'</li><li>'may'</li><li>'mar'</li><li>'apr'</li><li>'aug'</li><li>'dec'</li><li>'oct'</li><li>'sep'</li></ol>\n"
            ]
          },
          "metadata": {
            "tags": []
          }
        },
        {
          "output_type": "display_data",
          "data": {
            "text/plain": [
              "[1] \"fri\" \"wed\" \"mon\" \"thu\" \"tue\""
            ],
            "text/latex": "\\begin{enumerate*}\n\\item 'fri'\n\\item 'wed'\n\\item 'mon'\n\\item 'thu'\n\\item 'tue'\n\\end{enumerate*}\n",
            "text/markdown": "1. 'fri'\n2. 'wed'\n3. 'mon'\n4. 'thu'\n5. 'tue'\n\n\n",
            "text/html": [
              "<style>\n",
              ".list-inline {list-style: none; margin:0; padding: 0}\n",
              ".list-inline>li {display: inline-block}\n",
              ".list-inline>li:not(:last-child)::after {content: \"\\00b7\"; padding: 0 .5ex}\n",
              "</style>\n",
              "<ol class=list-inline><li>'fri'</li><li>'wed'</li><li>'mon'</li><li>'thu'</li><li>'tue'</li></ol>\n"
            ]
          },
          "metadata": {
            "tags": []
          }
        },
        {
          "output_type": "display_data",
          "data": {
            "text/plain": [
              "   [1]  903   74   75   59  252  659   21 2462  266  205  383  518  200  527\n",
              "  [15]  895  201  328  715  758  107   66   90  166  268 1212  184  213  494\n",
              "  [29]  134   95 1013  253  196  421  239  156  331 1186  153   70  179  405\n",
              "  [43]  118  293  345  249  476  120  343  211  450   52  302  744  175  700\n",
              "  [57]  124  139  160  260  163  202    8  545  131  167   79   20  195  226\n",
              "  [71]  181  140  209  147 1156   51  612  313  187  165  791  452  241  109\n",
              "  [85]  231  320  392  217  570   69  214  206 1514  126  597  274 1020  194\n",
              "  [99]  190  422  257  172   54  161  701  478  133  976  444 1207 1422   77\n",
              " [113]   57  169  180  192   88  315   13  146  102  522   85  216  856  125\n",
              " [127]   87  896 1008  560  312  219  360  429 1152  208  687  555  753  159\n",
              " [141]  116  654   44  349  220  222  106  495   96  341   55  317  259   98\n",
              " [155]   89  507   42  111  367  965  332  364  154  183  128  709   84  809\n",
              " [169]  742  189  294  145  262 1193   99   97  692  414  797  901  330  198\n",
              " [183]  115   92  504  532  304  144  324  305  766  273  394  767  105  554\n",
              " [197]  407  519  673  135  327  812  122  466  277   82  101   80  281   49\n",
              " [211]  363  269   16 1332  275  698 1151  420  769  720  223  594  296  136\n",
              " [225]  297  164  173  188  533  458  270  339  251  158  384   63   68  157\n",
              " [239]  171  229  454   26  400  571  142  141  356  335  646 4199  248  453\n",
              " [253]  379 1232   81  329  306  676  544    7  221  112  512  432  177   94\n",
              " [267]   19  537  233  303   62 1109  291  417   11   91  910  240 1176 1129\n",
              " [281]   31  397  547  123  852 1441  536   22  127  113  263  264   30  714\n",
              " [295] 1049  409  386  228  669 1088  347  487  238 1777  578  861  235 1017\n",
              " [309]  342   14 2260 1076  100  152  114  316  658  362  265  620  182  391\n",
              " [323]  103  110  178  358 1416  250   86  582 1360  862  731  149  137 1412\n",
              " [337]  863  435   73  550  530  716 1321  117  288  280  298  292  543  191\n",
              " [351]  768  261   83  130  777  282  232  739   17  434  406  210  680  514\n",
              " [365]  671  814  890  510  838  798  788  373  464   24  686  278   41  245\n",
              " [379]  541  446  148  151  618  587 1000   53  408  503  244  481  636  558\n",
              " [393] 1018  562  517  311   28  482  138   50  846   93  186  457 1077  225\n",
              " [407]  322  419  725   64 1096  401   34  607 1090  817  354  880  780  601\n",
              " [421]  705   43  574  946  600  738 1099  556  242  256  230  197  860   78\n",
              " [435]  483  426  470  617  390  662   29 1241   33  388  493  370  704  375\n",
              " [449] 1294  815  355  486  337  819   37   61  308   67  941  108  535  119\n",
              " [463]  129   76  539   23  471  283  143  670 1342  952  811   72  756  333\n",
              " [477]  473  207  732  365  442  635  885  733 1804 2372   38  474  867  199\n",
              " [491]  212  969  162  267  684  300  542  437 1002  378  309  424   56 1269\n",
              " [505]  369  801  227 1365   35  334  215  155  827  413  586  344  615  132\n",
              " [519]  592  425  534 1106 1063  326  718  580  605  479 1373  894  462   15\n",
              " [533]  859  285  772 1282  467  299  992  695  505  633  318  590   10  389\n",
              " [547]  538  321   71   48  472  290 1397  707  584  608  387  924  651  411\n",
              " [561]  301  121 1224  830  336 1214  359  224  438  548  295  966  656  193\n",
              " [575] 1007  829  893  888  923  763  416  150  185  480  423  706  243  176\n",
              " [589]  783  168  968  897 1721  613  726  668  934   45  849  325  237  499\n",
              " [603]  685  524 1399  850   36  104  789 1100  289 1730   65  551  988  448\n",
              " [617]  445 1089  276  361   39 1392  374  891  595  734  368  696  623 1003\n",
              " [631]  485 1187  314  475  627  920  552 1543  371  500  340  502  619  667\n",
              " [645]  236  272 1336  583  436 1120  795  399  983  204   32 1306  346  520\n",
              " [659]  258  621  385  565 1169   18  396 1262  564  593  994  492  234  254\n",
              " [673] 1117  380  569  431  348 1272 1340  935  771  489   60 1130 1246  799\n",
              " [687]  855  449  625  174  284 1173  974  884  271   25  666  804  395  561\n",
              " [701]  170  218  939  531 1234  506 1112  761  557  352  459   12  712  553\n",
              " [715] 3631   40 1014  727  882  864  937  721  463  501  691  246 1532  588\n",
              " [729]  844  509 1257  319 1027  563   47  529  428  525 1446  682  376  688\n",
              " [743] 1258  750  477  710 1143  899 1323  286  460  638  381  307  609 1380\n",
              " [757] 1423  933  653  781  803   46  657 2139  735  694  681  484 1071 1424\n",
              " [771]  652  410  255  610  911  958  513  729  931 1094  722    6  351  699\n",
              " [785]  876  579  567  993  947  568 1867    9  372 1123 1554  740 1468 1015\n",
              " [799]  677  663  447  515 1452  776   58  813 1640 1663  921 1135 1105  549\n",
              " [813]  455 1710 1079  338  247  559  427   27 1488  824  642 1064  743  730\n",
              " [827]  498  877 1242 1059 1009 1192 1432  443 1713  630 1248  749  857  516\n",
              " [841]  997 3322 1122  430  837 1370 1817 1259  323  404  508  719  936  393\n",
              " [855] 1051 1344 1092  203  697  366  599 1080 1302  441  523  957  647  581\n",
              " [869] 2033  461  433  664 1349  751  634  644  927  949 1882  576 1311 1692\n",
              " [883] 1011  717  845  690  858 1205  775 1046 1201  832  800  589  585 1138\n",
              " [897]  649  655  785  604  970 1327  955 1973 1608 1034 1121 2420  925 1062\n",
              " [911] 1082  836 1622 1288 1022  773  821  622  469 1739 1491  951  854  377\n",
              " [925]  382  847 1394  981  689  491 1180  792 1405 1720 1298 1093  711  465\n",
              " [939] 1689  402  874 1437  779 1617  310  603  917  353  577  728  754  648\n",
              " [953]  412 1184 1346  350 1597 1530  930  892  871 1243 1448  526  679 1141\n",
              " [967] 1127 1806 1040    5  611 1047 1456  440  787  737 1060  606 1369  624\n",
              " [981]  398  468  575  805 1019  287  736  614  497  979 1087 1038 3643  598\n",
              " [995]  645 1119  848  757  879 3094  279 1842 1480  626  996 1148  825  808\n",
              "[1009] 1603 1221 1030  796  546 1110  629  418  403  908 1125  919 1203 1615\n",
              "[1023] 1217  985 1231 1097  956  851  616  922    3 1178  873 2093 1068 1980\n",
              "[1037] 1124  906 1359  869 1602 1149  631  998 1317 1174  760  964  816  810\n",
              "[1051]  954 1204  878 1150  357 1906  528  762 1353  641  693 1081  415  650\n",
              "[1065]  632  566  759  782  683  962  596 1190  672  637  747 1058  793 1503\n",
              "[1079]  926  774  755  945  439  628  496 1374  999  490  702  540 1061  940\n",
              "[1093] 1850 1252 1206 1550 1065  875 1263  977  898 1073  572  913 1033  980\n",
              "[1107]  834 1161 2055  764  967 1584  675 1492  640 1268 1307  984 1606  918\n",
              "[1121] 3076 1182 1230 1132 2078  841  703  982  794 1590  724  591 1010 1366\n",
              "[1135]  942 1031 1499  833 2025  643 1820  745 1039    4 1618 1048 1165 1505\n",
              "[1149] 1279  488 1300 2122 1222 1868  986 1066 1469 1434 1276  978 1408 1545\n",
              "[1163] 1508 1574  904  511  828  786  950 1363 1357  902  708 1028 2184  881\n",
              "[1177]  943 1391 1345 1352 1085  835  932 1471 1449 1144  843  953 1153 1137\n",
              "[1191] 1463 1598 1056 1880 1707 1091 1202 1250 1044  973 1297  521 2769 1877\n",
              "[1205]  741 1211 2653  723 1665 1309 1677 1303 1271 1723 1334  938 1114 1024\n",
              "[1219] 1074 1946  853  820  886 1226 1669  915 1275  975  802  784  900 1134\n",
              "[1233] 1516 1277  456  660 1329 1556 1167 1467 1319 1265 1681 1502  661 1139\n",
              "[1247] 1227 1395 1012  961  870 1267 1960 1994  665 1210 1848 1735  713 2035\n",
              "[1261] 3253  972  971  765 1084 1240 1095 2203 1529 1133 3183 1036 1472 1975\n",
              "[1275] 2016 1348 1528  889  822  868 1555 1871  752 1573  806 1310 1386 1075\n",
              "[1289] 1001 1078 1032 2680 2028 1041 2299 1552  905 1540  573 1228  748 1136\n",
              "[1303] 1439 1571 1025 1962  840 1111 1613 1388  746  912  674  963 2015  883\n",
              "[1317] 2621 1447 1037  602  990  451 1624 1440 1057 1649 1233  678 1237 1767\n",
              "[1331] 1175 1512 1223 1126 1183 1290 1328 1531 1238  826 1070 2516 1575 1855\n",
              "[1345] 1154 2486 1131 1788  807 1256 1490 1356 1407  929 1104  639  987 1426\n",
              "[1359]  944 1042  839 1579 1255 1978"
            ],
            "text/latex": "\\begin{enumerate*}\n\\item 903\n\\item 74\n\\item 75\n\\item 59\n\\item 252\n\\item 659\n\\item 21\n\\item 2462\n\\item 266\n\\item 205\n\\item 383\n\\item 518\n\\item 200\n\\item 527\n\\item 895\n\\item 201\n\\item 328\n\\item 715\n\\item 758\n\\item 107\n\\item 66\n\\item 90\n\\item 166\n\\item 268\n\\item 1212\n\\item 184\n\\item 213\n\\item 494\n\\item 134\n\\item 95\n\\item 1013\n\\item 253\n\\item 196\n\\item 421\n\\item 239\n\\item 156\n\\item 331\n\\item 1186\n\\item 153\n\\item 70\n\\item 179\n\\item 405\n\\item 118\n\\item 293\n\\item 345\n\\item 249\n\\item 476\n\\item 120\n\\item 343\n\\item 211\n\\item 450\n\\item 52\n\\item 302\n\\item 744\n\\item 175\n\\item 700\n\\item 124\n\\item 139\n\\item 160\n\\item 260\n\\item 163\n\\item 202\n\\item 8\n\\item 545\n\\item 131\n\\item 167\n\\item 79\n\\item 20\n\\item 195\n\\item 226\n\\item 181\n\\item 140\n\\item 209\n\\item 147\n\\item 1156\n\\item 51\n\\item 612\n\\item 313\n\\item 187\n\\item 165\n\\item 791\n\\item 452\n\\item 241\n\\item 109\n\\item 231\n\\item 320\n\\item 392\n\\item 217\n\\item 570\n\\item 69\n\\item 214\n\\item 206\n\\item 1514\n\\item 126\n\\item 597\n\\item 274\n\\item 1020\n\\item 194\n\\item 190\n\\item 422\n\\item 257\n\\item 172\n\\item 54\n\\item 161\n\\item 701\n\\item 478\n\\item 133\n\\item 976\n\\item 444\n\\item 1207\n\\item 1422\n\\item 77\n\\item 57\n\\item 169\n\\item 180\n\\item 192\n\\item 88\n\\item 315\n\\item 13\n\\item 146\n\\item 102\n\\item 522\n\\item 85\n\\item 216\n\\item 856\n\\item 125\n\\item 87\n\\item 896\n\\item 1008\n\\item 560\n\\item 312\n\\item 219\n\\item 360\n\\item 429\n\\item 1152\n\\item 208\n\\item 687\n\\item 555\n\\item 753\n\\item 159\n\\item 116\n\\item 654\n\\item 44\n\\item 349\n\\item 220\n\\item 222\n\\item 106\n\\item 495\n\\item 96\n\\item 341\n\\item 55\n\\item 317\n\\item 259\n\\item 98\n\\item 89\n\\item 507\n\\item 42\n\\item 111\n\\item 367\n\\item 965\n\\item 332\n\\item 364\n\\item 154\n\\item 183\n\\item 128\n\\item 709\n\\item 84\n\\item 809\n\\item 742\n\\item 189\n\\item 294\n\\item 145\n\\item 262\n\\item 1193\n\\item 99\n\\item 97\n\\item 692\n\\item 414\n\\item 797\n\\item 901\n\\item 330\n\\item 198\n\\item 115\n\\item 92\n\\item 504\n\\item 532\n\\item 304\n\\item 144\n\\item 324\n\\item 305\n\\item 766\n\\item 273\n\\item 394\n\\item 767\n\\item 105\n\\item 554\n\\item 407\n\\item 519\n\\item 673\n\\item 135\n\\item ⋯\n\\item 904\n\\item 511\n\\item 828\n\\item 786\n\\item 950\n\\item 1363\n\\item 1357\n\\item 902\n\\item 708\n\\item 1028\n\\item 2184\n\\item 881\n\\item 943\n\\item 1391\n\\item 1345\n\\item 1352\n\\item 1085\n\\item 835\n\\item 932\n\\item 1471\n\\item 1449\n\\item 1144\n\\item 843\n\\item 953\n\\item 1153\n\\item 1137\n\\item 1463\n\\item 1598\n\\item 1056\n\\item 1880\n\\item 1707\n\\item 1091\n\\item 1202\n\\item 1250\n\\item 1044\n\\item 973\n\\item 1297\n\\item 521\n\\item 2769\n\\item 1877\n\\item 741\n\\item 1211\n\\item 2653\n\\item 723\n\\item 1665\n\\item 1309\n\\item 1677\n\\item 1303\n\\item 1271\n\\item 1723\n\\item 1334\n\\item 938\n\\item 1114\n\\item 1024\n\\item 1074\n\\item 1946\n\\item 853\n\\item 820\n\\item 886\n\\item 1226\n\\item 1669\n\\item 915\n\\item 1275\n\\item 975\n\\item 802\n\\item 784\n\\item 900\n\\item 1134\n\\item 1516\n\\item 1277\n\\item 456\n\\item 660\n\\item 1329\n\\item 1556\n\\item 1167\n\\item 1467\n\\item 1319\n\\item 1265\n\\item 1681\n\\item 1502\n\\item 661\n\\item 1139\n\\item 1227\n\\item 1395\n\\item 1012\n\\item 961\n\\item 870\n\\item 1267\n\\item 1960\n\\item 1994\n\\item 665\n\\item 1210\n\\item 1848\n\\item 1735\n\\item 713\n\\item 2035\n\\item 3253\n\\item 972\n\\item 971\n\\item 765\n\\item 1084\n\\item 1240\n\\item 1095\n\\item 2203\n\\item 1529\n\\item 1133\n\\item 3183\n\\item 1036\n\\item 1472\n\\item 1975\n\\item 2016\n\\item 1348\n\\item 1528\n\\item 889\n\\item 822\n\\item 868\n\\item 1555\n\\item 1871\n\\item 752\n\\item 1573\n\\item 806\n\\item 1310\n\\item 1386\n\\item 1075\n\\item 1001\n\\item 1078\n\\item 1032\n\\item 2680\n\\item 2028\n\\item 1041\n\\item 2299\n\\item 1552\n\\item 905\n\\item 1540\n\\item 573\n\\item 1228\n\\item 748\n\\item 1136\n\\item 1439\n\\item 1571\n\\item 1025\n\\item 1962\n\\item 840\n\\item 1111\n\\item 1613\n\\item 1388\n\\item 746\n\\item 912\n\\item 674\n\\item 963\n\\item 2015\n\\item 883\n\\item 2621\n\\item 1447\n\\item 1037\n\\item 602\n\\item 990\n\\item 451\n\\item 1624\n\\item 1440\n\\item 1057\n\\item 1649\n\\item 1233\n\\item 678\n\\item 1237\n\\item 1767\n\\item 1175\n\\item 1512\n\\item 1223\n\\item 1126\n\\item 1183\n\\item 1290\n\\item 1328\n\\item 1531\n\\item 1238\n\\item 826\n\\item 1070\n\\item 2516\n\\item 1575\n\\item 1855\n\\item 1154\n\\item 2486\n\\item 1131\n\\item 1788\n\\item 807\n\\item 1256\n\\item 1490\n\\item 1356\n\\item 1407\n\\item 929\n\\item 1104\n\\item 639\n\\item 987\n\\item 1426\n\\item 944\n\\item 1042\n\\item 839\n\\item 1579\n\\item 1255\n\\item 1978\n\\end{enumerate*}\n",
            "text/markdown": "1. 903\n2. 74\n3. 75\n4. 59\n5. 252\n6. 659\n7. 21\n8. 2462\n9. 266\n10. 205\n11. 383\n12. 518\n13. 200\n14. 527\n15. 895\n16. 201\n17. 328\n18. 715\n19. 758\n20. 107\n21. 66\n22. 90\n23. 166\n24. 268\n25. 1212\n26. 184\n27. 213\n28. 494\n29. 134\n30. 95\n31. 1013\n32. 253\n33. 196\n34. 421\n35. 239\n36. 156\n37. 331\n38. 1186\n39. 153\n40. 70\n41. 179\n42. 405\n43. 118\n44. 293\n45. 345\n46. 249\n47. 476\n48. 120\n49. 343\n50. 211\n51. 450\n52. 52\n53. 302\n54. 744\n55. 175\n56. 700\n57. 124\n58. 139\n59. 160\n60. 260\n61. 163\n62. 202\n63. 8\n64. 545\n65. 131\n66. 167\n67. 79\n68. 20\n69. 195\n70. 226\n71. 181\n72. 140\n73. 209\n74. 147\n75. 1156\n76. 51\n77. 612\n78. 313\n79. 187\n80. 165\n81. 791\n82. 452\n83. 241\n84. 109\n85. 231\n86. 320\n87. 392\n88. 217\n89. 570\n90. 69\n91. 214\n92. 206\n93. 1514\n94. 126\n95. 597\n96. 274\n97. 1020\n98. 194\n99. 190\n100. 422\n101. 257\n102. 172\n103. 54\n104. 161\n105. 701\n106. 478\n107. 133\n108. 976\n109. 444\n110. 1207\n111. 1422\n112. 77\n113. 57\n114. 169\n115. 180\n116. 192\n117. 88\n118. 315\n119. 13\n120. 146\n121. 102\n122. 522\n123. 85\n124. 216\n125. 856\n126. 125\n127. 87\n128. 896\n129. 1008\n130. 560\n131. 312\n132. 219\n133. 360\n134. 429\n135. 1152\n136. 208\n137. 687\n138. 555\n139. 753\n140. 159\n141. 116\n142. 654\n143. 44\n144. 349\n145. 220\n146. 222\n147. 106\n148. 495\n149. 96\n150. 341\n151. 55\n152. 317\n153. 259\n154. 98\n155. 89\n156. 507\n157. 42\n158. 111\n159. 367\n160. 965\n161. 332\n162. 364\n163. 154\n164. 183\n165. 128\n166. 709\n167. 84\n168. 809\n169. 742\n170. 189\n171. 294\n172. 145\n173. 262\n174. 1193\n175. 99\n176. 97\n177. 692\n178. 414\n179. 797\n180. 901\n181. 330\n182. 198\n183. 115\n184. 92\n185. 504\n186. 532\n187. 304\n188. 144\n189. 324\n190. 305\n191. 766\n192. 273\n193. 394\n194. 767\n195. 105\n196. 554\n197. 407\n198. 519\n199. 673\n200. 135\n201. ⋯\n202. 904\n203. 511\n204. 828\n205. 786\n206. 950\n207. 1363\n208. 1357\n209. 902\n210. 708\n211. 1028\n212. 2184\n213. 881\n214. 943\n215. 1391\n216. 1345\n217. 1352\n218. 1085\n219. 835\n220. 932\n221. 1471\n222. 1449\n223. 1144\n224. 843\n225. 953\n226. 1153\n227. 1137\n228. 1463\n229. 1598\n230. 1056\n231. 1880\n232. 1707\n233. 1091\n234. 1202\n235. 1250\n236. 1044\n237. 973\n238. 1297\n239. 521\n240. 2769\n241. 1877\n242. 741\n243. 1211\n244. 2653\n245. 723\n246. 1665\n247. 1309\n248. 1677\n249. 1303\n250. 1271\n251. 1723\n252. 1334\n253. 938\n254. 1114\n255. 1024\n256. 1074\n257. 1946\n258. 853\n259. 820\n260. 886\n261. 1226\n262. 1669\n263. 915\n264. 1275\n265. 975\n266. 802\n267. 784\n268. 900\n269. 1134\n270. 1516\n271. 1277\n272. 456\n273. 660\n274. 1329\n275. 1556\n276. 1167\n277. 1467\n278. 1319\n279. 1265\n280. 1681\n281. 1502\n282. 661\n283. 1139\n284. 1227\n285. 1395\n286. 1012\n287. 961\n288. 870\n289. 1267\n290. 1960\n291. 1994\n292. 665\n293. 1210\n294. 1848\n295. 1735\n296. 713\n297. 2035\n298. 3253\n299. 972\n300. 971\n301. 765\n302. 1084\n303. 1240\n304. 1095\n305. 2203\n306. 1529\n307. 1133\n308. 3183\n309. 1036\n310. 1472\n311. 1975\n312. 2016\n313. 1348\n314. 1528\n315. 889\n316. 822\n317. 868\n318. 1555\n319. 1871\n320. 752\n321. 1573\n322. 806\n323. 1310\n324. 1386\n325. 1075\n326. 1001\n327. 1078\n328. 1032\n329. 2680\n330. 2028\n331. 1041\n332. 2299\n333. 1552\n334. 905\n335. 1540\n336. 573\n337. 1228\n338. 748\n339. 1136\n340. 1439\n341. 1571\n342. 1025\n343. 1962\n344. 840\n345. 1111\n346. 1613\n347. 1388\n348. 746\n349. 912\n350. 674\n351. 963\n352. 2015\n353. 883\n354. 2621\n355. 1447\n356. 1037\n357. 602\n358. 990\n359. 451\n360. 1624\n361. 1440\n362. 1057\n363. 1649\n364. 1233\n365. 678\n366. 1237\n367. 1767\n368. 1175\n369. 1512\n370. 1223\n371. 1126\n372. 1183\n373. 1290\n374. 1328\n375. 1531\n376. 1238\n377. 826\n378. 1070\n379. 2516\n380. 1575\n381. 1855\n382. 1154\n383. 2486\n384. 1131\n385. 1788\n386. 807\n387. 1256\n388. 1490\n389. 1356\n390. 1407\n391. 929\n392. 1104\n393. 639\n394. 987\n395. 1426\n396. 944\n397. 1042\n398. 839\n399. 1579\n400. 1255\n401. 1978\n\n\n",
            "text/html": [
              "<style>\n",
              ".list-inline {list-style: none; margin:0; padding: 0}\n",
              ".list-inline>li {display: inline-block}\n",
              ".list-inline>li:not(:last-child)::after {content: \"\\00b7\"; padding: 0 .5ex}\n",
              "</style>\n",
              "<ol class=list-inline><li>903</li><li>74</li><li>75</li><li>59</li><li>252</li><li>659</li><li>21</li><li>2462</li><li>266</li><li>205</li><li>383</li><li>518</li><li>200</li><li>527</li><li>895</li><li>201</li><li>328</li><li>715</li><li>758</li><li>107</li><li>66</li><li>90</li><li>166</li><li>268</li><li>1212</li><li>184</li><li>213</li><li>494</li><li>134</li><li>95</li><li>1013</li><li>253</li><li>196</li><li>421</li><li>239</li><li>156</li><li>331</li><li>1186</li><li>153</li><li>70</li><li>179</li><li>405</li><li>118</li><li>293</li><li>345</li><li>249</li><li>476</li><li>120</li><li>343</li><li>211</li><li>450</li><li>52</li><li>302</li><li>744</li><li>175</li><li>700</li><li>124</li><li>139</li><li>160</li><li>260</li><li>163</li><li>202</li><li>8</li><li>545</li><li>131</li><li>167</li><li>79</li><li>20</li><li>195</li><li>226</li><li>181</li><li>140</li><li>209</li><li>147</li><li>1156</li><li>51</li><li>612</li><li>313</li><li>187</li><li>165</li><li>791</li><li>452</li><li>241</li><li>109</li><li>231</li><li>320</li><li>392</li><li>217</li><li>570</li><li>69</li><li>214</li><li>206</li><li>1514</li><li>126</li><li>597</li><li>274</li><li>1020</li><li>194</li><li>190</li><li>422</li><li>257</li><li>172</li><li>54</li><li>161</li><li>701</li><li>478</li><li>133</li><li>976</li><li>444</li><li>1207</li><li>1422</li><li>77</li><li>57</li><li>169</li><li>180</li><li>192</li><li>88</li><li>315</li><li>13</li><li>146</li><li>102</li><li>522</li><li>85</li><li>216</li><li>856</li><li>125</li><li>87</li><li>896</li><li>1008</li><li>560</li><li>312</li><li>219</li><li>360</li><li>429</li><li>1152</li><li>208</li><li>687</li><li>555</li><li>753</li><li>159</li><li>116</li><li>654</li><li>44</li><li>349</li><li>220</li><li>222</li><li>106</li><li>495</li><li>96</li><li>341</li><li>55</li><li>317</li><li>259</li><li>98</li><li>89</li><li>507</li><li>42</li><li>111</li><li>367</li><li>965</li><li>332</li><li>364</li><li>154</li><li>183</li><li>128</li><li>709</li><li>84</li><li>809</li><li>742</li><li>189</li><li>294</li><li>145</li><li>262</li><li>1193</li><li>99</li><li>97</li><li>692</li><li>414</li><li>797</li><li>901</li><li>330</li><li>198</li><li>115</li><li>92</li><li>504</li><li>532</li><li>304</li><li>144</li><li>324</li><li>305</li><li>766</li><li>273</li><li>394</li><li>767</li><li>105</li><li>554</li><li>407</li><li>519</li><li>673</li><li>135</li><li>⋯</li><li>904</li><li>511</li><li>828</li><li>786</li><li>950</li><li>1363</li><li>1357</li><li>902</li><li>708</li><li>1028</li><li>2184</li><li>881</li><li>943</li><li>1391</li><li>1345</li><li>1352</li><li>1085</li><li>835</li><li>932</li><li>1471</li><li>1449</li><li>1144</li><li>843</li><li>953</li><li>1153</li><li>1137</li><li>1463</li><li>1598</li><li>1056</li><li>1880</li><li>1707</li><li>1091</li><li>1202</li><li>1250</li><li>1044</li><li>973</li><li>1297</li><li>521</li><li>2769</li><li>1877</li><li>741</li><li>1211</li><li>2653</li><li>723</li><li>1665</li><li>1309</li><li>1677</li><li>1303</li><li>1271</li><li>1723</li><li>1334</li><li>938</li><li>1114</li><li>1024</li><li>1074</li><li>1946</li><li>853</li><li>820</li><li>886</li><li>1226</li><li>1669</li><li>915</li><li>1275</li><li>975</li><li>802</li><li>784</li><li>900</li><li>1134</li><li>1516</li><li>1277</li><li>456</li><li>660</li><li>1329</li><li>1556</li><li>1167</li><li>1467</li><li>1319</li><li>1265</li><li>1681</li><li>1502</li><li>661</li><li>1139</li><li>1227</li><li>1395</li><li>1012</li><li>961</li><li>870</li><li>1267</li><li>1960</li><li>1994</li><li>665</li><li>1210</li><li>1848</li><li>1735</li><li>713</li><li>2035</li><li>3253</li><li>972</li><li>971</li><li>765</li><li>1084</li><li>1240</li><li>1095</li><li>2203</li><li>1529</li><li>1133</li><li>3183</li><li>1036</li><li>1472</li><li>1975</li><li>2016</li><li>1348</li><li>1528</li><li>889</li><li>822</li><li>868</li><li>1555</li><li>1871</li><li>752</li><li>1573</li><li>806</li><li>1310</li><li>1386</li><li>1075</li><li>1001</li><li>1078</li><li>1032</li><li>2680</li><li>2028</li><li>1041</li><li>2299</li><li>1552</li><li>905</li><li>1540</li><li>573</li><li>1228</li><li>748</li><li>1136</li><li>1439</li><li>1571</li><li>1025</li><li>1962</li><li>840</li><li>1111</li><li>1613</li><li>1388</li><li>746</li><li>912</li><li>674</li><li>963</li><li>2015</li><li>883</li><li>2621</li><li>1447</li><li>1037</li><li>602</li><li>990</li><li>451</li><li>1624</li><li>1440</li><li>1057</li><li>1649</li><li>1233</li><li>678</li><li>1237</li><li>1767</li><li>1175</li><li>1512</li><li>1223</li><li>1126</li><li>1183</li><li>1290</li><li>1328</li><li>1531</li><li>1238</li><li>826</li><li>1070</li><li>2516</li><li>1575</li><li>1855</li><li>1154</li><li>2486</li><li>1131</li><li>1788</li><li>807</li><li>1256</li><li>1490</li><li>1356</li><li>1407</li><li>929</li><li>1104</li><li>639</li><li>987</li><li>1426</li><li>944</li><li>1042</li><li>839</li><li>1579</li><li>1255</li><li>1978</li></ol>\n"
            ]
          },
          "metadata": {
            "tags": []
          }
        },
        {
          "output_type": "display_data",
          "data": {
            "text/plain": [
              " [1]  3  5  1  2  7  6  4 13  9 19 20 16  8 14 23 22 17 10 12 33 11 30 15 28 21\n",
              "[26] 24 41 25 29 31 42 35 26 27"
            ],
            "text/latex": "\\begin{enumerate*}\n\\item 3\n\\item 5\n\\item 1\n\\item 2\n\\item 7\n\\item 6\n\\item 4\n\\item 13\n\\item 9\n\\item 19\n\\item 20\n\\item 16\n\\item 8\n\\item 14\n\\item 23\n\\item 22\n\\item 17\n\\item 10\n\\item 12\n\\item 33\n\\item 11\n\\item 30\n\\item 15\n\\item 28\n\\item 21\n\\item 24\n\\item 41\n\\item 25\n\\item 29\n\\item 31\n\\item 42\n\\item 35\n\\item 26\n\\item 27\n\\end{enumerate*}\n",
            "text/markdown": "1. 3\n2. 5\n3. 1\n4. 2\n5. 7\n6. 6\n7. 4\n8. 13\n9. 9\n10. 19\n11. 20\n12. 16\n13. 8\n14. 14\n15. 23\n16. 22\n17. 17\n18. 10\n19. 12\n20. 33\n21. 11\n22. 30\n23. 15\n24. 28\n25. 21\n26. 24\n27. 41\n28. 25\n29. 29\n30. 31\n31. 42\n32. 35\n33. 26\n34. 27\n\n\n",
            "text/html": [
              "<style>\n",
              ".list-inline {list-style: none; margin:0; padding: 0}\n",
              ".list-inline>li {display: inline-block}\n",
              ".list-inline>li:not(:last-child)::after {content: \"\\00b7\"; padding: 0 .5ex}\n",
              "</style>\n",
              "<ol class=list-inline><li>3</li><li>5</li><li>1</li><li>2</li><li>7</li><li>6</li><li>4</li><li>13</li><li>9</li><li>19</li><li>20</li><li>16</li><li>8</li><li>14</li><li>23</li><li>22</li><li>17</li><li>10</li><li>12</li><li>33</li><li>11</li><li>30</li><li>15</li><li>28</li><li>21</li><li>24</li><li>41</li><li>25</li><li>29</li><li>31</li><li>42</li><li>35</li><li>26</li><li>27</li></ol>\n"
            ]
          },
          "metadata": {
            "tags": []
          }
        },
        {
          "output_type": "display_data",
          "data": {
            "text/plain": [
              " [1] 999   6   2   4   3  12   1  13   5   9  14  16   7  10   0  11   8  26  15\n",
              "[20]  21  17  22  27  18  25  19  20"
            ],
            "text/latex": "\\begin{enumerate*}\n\\item 999\n\\item 6\n\\item 2\n\\item 4\n\\item 3\n\\item 12\n\\item 1\n\\item 13\n\\item 5\n\\item 9\n\\item 14\n\\item 16\n\\item 7\n\\item 10\n\\item 0\n\\item 11\n\\item 8\n\\item 26\n\\item 15\n\\item 21\n\\item 17\n\\item 22\n\\item 27\n\\item 18\n\\item 25\n\\item 19\n\\item 20\n\\end{enumerate*}\n",
            "text/markdown": "1. 999\n2. 6\n3. 2\n4. 4\n5. 3\n6. 12\n7. 1\n8. 13\n9. 5\n10. 9\n11. 14\n12. 16\n13. 7\n14. 10\n15. 0\n16. 11\n17. 8\n18. 26\n19. 15\n20. 21\n21. 17\n22. 22\n23. 27\n24. 18\n25. 25\n26. 19\n27. 20\n\n\n",
            "text/html": [
              "<style>\n",
              ".list-inline {list-style: none; margin:0; padding: 0}\n",
              ".list-inline>li {display: inline-block}\n",
              ".list-inline>li:not(:last-child)::after {content: \"\\00b7\"; padding: 0 .5ex}\n",
              "</style>\n",
              "<ol class=list-inline><li>999</li><li>6</li><li>2</li><li>4</li><li>3</li><li>12</li><li>1</li><li>13</li><li>5</li><li>9</li><li>14</li><li>16</li><li>7</li><li>10</li><li>0</li><li>11</li><li>8</li><li>26</li><li>15</li><li>21</li><li>17</li><li>22</li><li>27</li><li>18</li><li>25</li><li>19</li><li>20</li></ol>\n"
            ]
          },
          "metadata": {
            "tags": []
          }
        },
        {
          "output_type": "display_data",
          "data": {
            "text/plain": [
              "[1] 1 0 2 4 3 5 6"
            ],
            "text/latex": "\\begin{enumerate*}\n\\item 1\n\\item 0\n\\item 2\n\\item 4\n\\item 3\n\\item 5\n\\item 6\n\\end{enumerate*}\n",
            "text/markdown": "1. 1\n2. 0\n3. 2\n4. 4\n5. 3\n6. 5\n7. 6\n\n\n",
            "text/html": [
              "<style>\n",
              ".list-inline {list-style: none; margin:0; padding: 0}\n",
              ".list-inline>li {display: inline-block}\n",
              ".list-inline>li:not(:last-child)::after {content: \"\\00b7\"; padding: 0 .5ex}\n",
              "</style>\n",
              "<ol class=list-inline><li>1</li><li>0</li><li>2</li><li>4</li><li>3</li><li>5</li><li>6</li></ol>\n"
            ]
          },
          "metadata": {
            "tags": []
          }
        },
        {
          "output_type": "display_data",
          "data": {
            "text/plain": [
              "[1] \"failure\"     \"nonexistent\" \"success\"    "
            ],
            "text/latex": "\\begin{enumerate*}\n\\item 'failure'\n\\item 'nonexistent'\n\\item 'success'\n\\end{enumerate*}\n",
            "text/markdown": "1. 'failure'\n2. 'nonexistent'\n3. 'success'\n\n\n",
            "text/html": [
              "<style>\n",
              ".list-inline {list-style: none; margin:0; padding: 0}\n",
              ".list-inline>li {display: inline-block}\n",
              ".list-inline>li:not(:last-child)::after {content: \"\\00b7\"; padding: 0 .5ex}\n",
              "</style>\n",
              "<ol class=list-inline><li>'failure'</li><li>'nonexistent'</li><li>'success'</li></ol>\n"
            ]
          },
          "metadata": {
            "tags": []
          }
        },
        {
          "output_type": "display_data",
          "data": {
            "text/plain": [
              " [1] -0.1  1.4  1.1 -1.8 -1.1 -1.7 -3.4 -3.0 -2.9 -0.2"
            ],
            "text/latex": "\\begin{enumerate*}\n\\item -0.1\n\\item 1.4\n\\item 1.1\n\\item -1.8\n\\item -1.1\n\\item -1.7\n\\item -3.4\n\\item -3\n\\item -2.9\n\\item -0.2\n\\end{enumerate*}\n",
            "text/markdown": "1. -0.1\n2. 1.4\n3. 1.1\n4. -1.8\n5. -1.1\n6. -1.7\n7. -3.4\n8. -3\n9. -2.9\n10. -0.2\n\n\n",
            "text/html": [
              "<style>\n",
              ".list-inline {list-style: none; margin:0; padding: 0}\n",
              ".list-inline>li {display: inline-block}\n",
              ".list-inline>li:not(:last-child)::after {content: \"\\00b7\"; padding: 0 .5ex}\n",
              "</style>\n",
              "<ol class=list-inline><li>-0.1</li><li>1.4</li><li>1.1</li><li>-1.8</li><li>-1.1</li><li>-1.7</li><li>-3.4</li><li>-3</li><li>-2.9</li><li>-0.2</li></ol>\n"
            ]
          },
          "metadata": {
            "tags": []
          }
        },
        {
          "output_type": "display_data",
          "data": {
            "text/plain": [
              " [1] 93.200 94.465 93.918 93.994 93.369 93.075 94.767 92.893 94.027 93.444\n",
              "[11] 94.215 92.649 92.713 92.963 94.601 92.431 93.876 94.055 92.201 93.749\n",
              "[21] 92.469 94.199 92.379 92.843 93.798 92.756"
            ],
            "text/latex": "\\begin{enumerate*}\n\\item 93.2\n\\item 94.465\n\\item 93.918\n\\item 93.994\n\\item 93.369\n\\item 93.075\n\\item 94.767\n\\item 92.893\n\\item 94.027\n\\item 93.444\n\\item 94.215\n\\item 92.649\n\\item 92.713\n\\item 92.963\n\\item 94.601\n\\item 92.431\n\\item 93.876\n\\item 94.055\n\\item 92.201\n\\item 93.749\n\\item 92.469\n\\item 94.199\n\\item 92.379\n\\item 92.843\n\\item 93.798\n\\item 92.756\n\\end{enumerate*}\n",
            "text/markdown": "1. 93.2\n2. 94.465\n3. 93.918\n4. 93.994\n5. 93.369\n6. 93.075\n7. 94.767\n8. 92.893\n9. 94.027\n10. 93.444\n11. 94.215\n12. 92.649\n13. 92.713\n14. 92.963\n15. 94.601\n16. 92.431\n17. 93.876\n18. 94.055\n19. 92.201\n20. 93.749\n21. 92.469\n22. 94.199\n23. 92.379\n24. 92.843\n25. 93.798\n26. 92.756\n\n\n",
            "text/html": [
              "<style>\n",
              ".list-inline {list-style: none; margin:0; padding: 0}\n",
              ".list-inline>li {display: inline-block}\n",
              ".list-inline>li:not(:last-child)::after {content: \"\\00b7\"; padding: 0 .5ex}\n",
              "</style>\n",
              "<ol class=list-inline><li>93.2</li><li>94.465</li><li>93.918</li><li>93.994</li><li>93.369</li><li>93.075</li><li>94.767</li><li>92.893</li><li>94.027</li><li>93.444</li><li>94.215</li><li>92.649</li><li>92.713</li><li>92.963</li><li>94.601</li><li>92.431</li><li>93.876</li><li>94.055</li><li>92.201</li><li>93.749</li><li>92.469</li><li>94.199</li><li>92.379</li><li>92.843</li><li>93.798</li><li>92.756</li></ol>\n"
            ]
          },
          "metadata": {
            "tags": []
          }
        },
        {
          "output_type": "display_data",
          "data": {
            "text/plain": [
              " [1] -42.0 -41.8 -42.7 -36.4 -34.8 -47.1 -50.8 -46.2 -38.3 -36.1 -40.3 -30.1\n",
              "[13] -33.0 -40.8 -49.5 -26.9 -40.0 -39.8 -31.4 -34.6 -33.6 -37.5 -29.8 -50.0\n",
              "[25] -40.4 -45.9"
            ],
            "text/latex": "\\begin{enumerate*}\n\\item -42\n\\item -41.8\n\\item -42.7\n\\item -36.4\n\\item -34.8\n\\item -47.1\n\\item -50.8\n\\item -46.2\n\\item -38.3\n\\item -36.1\n\\item -40.3\n\\item -30.1\n\\item -33\n\\item -40.8\n\\item -49.5\n\\item -26.9\n\\item -40\n\\item -39.8\n\\item -31.4\n\\item -34.6\n\\item -33.6\n\\item -37.5\n\\item -29.8\n\\item -50\n\\item -40.4\n\\item -45.9\n\\end{enumerate*}\n",
            "text/markdown": "1. -42\n2. -41.8\n3. -42.7\n4. -36.4\n5. -34.8\n6. -47.1\n7. -50.8\n8. -46.2\n9. -38.3\n10. -36.1\n11. -40.3\n12. -30.1\n13. -33\n14. -40.8\n15. -49.5\n16. -26.9\n17. -40\n18. -39.8\n19. -31.4\n20. -34.6\n21. -33.6\n22. -37.5\n23. -29.8\n24. -50\n25. -40.4\n26. -45.9\n\n\n",
            "text/html": [
              "<style>\n",
              ".list-inline {list-style: none; margin:0; padding: 0}\n",
              ".list-inline>li {display: inline-block}\n",
              ".list-inline>li:not(:last-child)::after {content: \"\\00b7\"; padding: 0 .5ex}\n",
              "</style>\n",
              "<ol class=list-inline><li>-42</li><li>-41.8</li><li>-42.7</li><li>-36.4</li><li>-34.8</li><li>-47.1</li><li>-50.8</li><li>-46.2</li><li>-38.3</li><li>-36.1</li><li>-40.3</li><li>-30.1</li><li>-33</li><li>-40.8</li><li>-49.5</li><li>-26.9</li><li>-40</li><li>-39.8</li><li>-31.4</li><li>-34.6</li><li>-33.6</li><li>-37.5</li><li>-29.8</li><li>-50</li><li>-40.4</li><li>-45.9</li></ol>\n"
            ]
          },
          "metadata": {
            "tags": []
          }
        },
        {
          "output_type": "display_data",
          "data": {
            "text/plain": [
              "  [1] 4.021 4.959 4.963 4.191 4.857 0.652 4.865 1.365 1.028 4.076 1.281 1.291\n",
              " [13] 1.327 0.899 1.266 1.299 1.423 4.860 4.120 4.968 0.846 4.960 0.715 4.957\n",
              " [25] 4.961 1.270 1.405 0.720 4.970 4.856 4.855 4.962 1.032 1.313 0.730 0.677\n",
              " [37] 1.260 0.711 0.829 4.958 1.041 4.967 0.697 4.864 1.410 4.153 0.644 4.966\n",
              " [49] 4.965 4.964 0.740 0.699 4.859 0.653 1.072 0.739 0.881 0.706 0.737 1.466\n",
              " [61] 0.883 1.029 0.900 4.955 0.636 0.716 0.803 0.750 1.344 1.757 1.262 0.638\n",
              " [73] 1.044 0.742 0.834 0.752 1.000 0.884 0.643 1.334 1.250 1.354 1.268 0.838\n",
              " [85] 0.722 1.435 0.635 0.896 0.793 0.692 0.843 4.936 0.645 0.655 0.879 0.972\n",
              " [97] 1.037 0.637 0.744 1.244 0.649 1.663 1.629 0.723 4.733 0.904 0.861 1.031\n",
              "[109] 4.858 0.770 4.866 1.498 0.754 1.483 0.728 0.886 0.767 4.947 0.797 0.704\n",
              "[121] 1.531 0.873 0.781 1.050 1.479 1.445 1.016 0.672 0.717 0.646 0.714 0.790\n",
              "[133] 0.768 0.788 0.702 0.849 1.259 0.822 0.755 1.560 0.778 1.039 1.520 0.835\n",
              "[145] 0.642 1.538 1.049 0.944 1.453 1.099 1.264 0.982 0.741 0.683 0.713 0.659\n",
              "[157] 1.224 4.343 0.889 0.640 0.773 0.668 0.654 0.869 1.046 0.903 0.959 0.733\n",
              "[169] 0.827 1.811 1.206 1.406 4.760 0.743 0.639 5.000 0.695 1.640 1.726 0.727\n",
              "[181] 0.880 1.415 1.584 0.663 0.821 0.707 0.810 0.729 0.712 4.956 1.687 1.799\n",
              "[193] 1.048 1.372 4.406 0.708 1.556 0.709 0.878 0.905 1.025 0.813 0.735 0.996\n",
              "[205] 0.876 1.059 0.748 4.918 0.682 0.782 1.548 0.761 1.392 1.215 1.602 0.987\n",
              "[217] 0.885 0.684 0.819 0.840 0.688 0.898 4.827 0.854 1.040 1.018 1.286 0.870\n",
              "[229] 4.245 0.882 0.685 4.663 1.400 0.851 0.859 0.634 4.700 0.719 0.877 1.614\n",
              "[241] 0.771 1.043 0.651 4.592 0.993 0.893 0.701 4.794 0.809 1.650 0.802 0.908\n",
              "[253] 0.762 1.252 0.710 4.912 0.977 0.942 1.510 0.825 1.008 1.703 1.235 1.384\n",
              "[265] 5.045 0.894 1.035 1.007 0.718 0.721 1.085 0.766 0.732 0.700 0.724 0.650\n",
              "[277] 0.985 4.286 1.778 4.921 0.731 0.895 3.816 0.690 0.921 0.965 4.223 0.891\n",
              "[289] 0.753 3.053 1.047 4.474 0.933 0.888 0.749 0.914"
            ],
            "text/latex": "\\begin{enumerate*}\n\\item 4.021\n\\item 4.959\n\\item 4.963\n\\item 4.191\n\\item 4.857\n\\item 0.652\n\\item 4.865\n\\item 1.365\n\\item 1.028\n\\item 4.076\n\\item 1.281\n\\item 1.291\n\\item 1.327\n\\item 0.899\n\\item 1.266\n\\item 1.299\n\\item 1.423\n\\item 4.86\n\\item 4.12\n\\item 4.968\n\\item 0.846\n\\item 4.96\n\\item 0.715\n\\item 4.957\n\\item 4.961\n\\item 1.27\n\\item 1.405\n\\item 0.72\n\\item 4.97\n\\item 4.856\n\\item 4.855\n\\item 4.962\n\\item 1.032\n\\item 1.313\n\\item 0.73\n\\item 0.677\n\\item 1.26\n\\item 0.711\n\\item 0.829\n\\item 4.958\n\\item 1.041\n\\item 4.967\n\\item 0.697\n\\item 4.864\n\\item 1.41\n\\item 4.153\n\\item 0.644\n\\item 4.966\n\\item 4.965\n\\item 4.964\n\\item 0.74\n\\item 0.699\n\\item 4.859\n\\item 0.653\n\\item 1.072\n\\item 0.739\n\\item 0.881\n\\item 0.706\n\\item 0.737\n\\item 1.466\n\\item 0.883\n\\item 1.029\n\\item 0.9\n\\item 4.955\n\\item 0.636\n\\item 0.716\n\\item 0.803\n\\item 0.75\n\\item 1.344\n\\item 1.757\n\\item 1.262\n\\item 0.638\n\\item 1.044\n\\item 0.742\n\\item 0.834\n\\item 0.752\n\\item 1\n\\item 0.884\n\\item 0.643\n\\item 1.334\n\\item 1.25\n\\item 1.354\n\\item 1.268\n\\item 0.838\n\\item 0.722\n\\item 1.435\n\\item 0.635\n\\item 0.896\n\\item 0.793\n\\item 0.692\n\\item 0.843\n\\item 4.936\n\\item 0.645\n\\item 0.655\n\\item 0.879\n\\item 0.972\n\\item 1.037\n\\item 0.637\n\\item 0.744\n\\item 1.244\n\\item 0.649\n\\item 1.663\n\\item 1.629\n\\item 0.723\n\\item 4.733\n\\item 0.904\n\\item 0.861\n\\item 1.031\n\\item 4.858\n\\item 0.77\n\\item 4.866\n\\item 1.498\n\\item 0.754\n\\item 1.483\n\\item 0.728\n\\item 0.886\n\\item 0.767\n\\item 4.947\n\\item 0.797\n\\item 0.704\n\\item 1.531\n\\item 0.873\n\\item 0.781\n\\item 1.05\n\\item 1.479\n\\item 1.445\n\\item 1.016\n\\item 0.672\n\\item 0.717\n\\item 0.646\n\\item 0.714\n\\item 0.79\n\\item 0.768\n\\item 0.788\n\\item 0.702\n\\item 0.849\n\\item 1.259\n\\item 0.822\n\\item 0.755\n\\item 1.56\n\\item 0.778\n\\item 1.039\n\\item 1.52\n\\item 0.835\n\\item 0.642\n\\item 1.538\n\\item 1.049\n\\item 0.944\n\\item 1.453\n\\item 1.099\n\\item 1.264\n\\item 0.982\n\\item 0.741\n\\item 0.683\n\\item 0.713\n\\item 0.659\n\\item 1.224\n\\item 4.343\n\\item 0.889\n\\item 0.64\n\\item 0.773\n\\item 0.668\n\\item 0.654\n\\item 0.869\n\\item 1.046\n\\item 0.903\n\\item 0.959\n\\item 0.733\n\\item 0.827\n\\item 1.811\n\\item 1.206\n\\item 1.406\n\\item 4.76\n\\item 0.743\n\\item 0.639\n\\item 5\n\\item 0.695\n\\item 1.64\n\\item 1.726\n\\item 0.727\n\\item 0.88\n\\item 1.415\n\\item 1.584\n\\item 0.663\n\\item 0.821\n\\item 0.707\n\\item 0.81\n\\item 0.729\n\\item 0.712\n\\item 4.956\n\\item 1.687\n\\item 1.799\n\\item 1.048\n\\item 1.372\n\\item 4.406\n\\item 0.708\n\\item 1.556\n\\item 0.709\n\\item 0.878\n\\item 0.905\n\\item 1.025\n\\item 0.813\n\\item 0.735\n\\item 0.996\n\\item 0.876\n\\item 1.059\n\\item 0.748\n\\item 4.918\n\\item 0.682\n\\item 0.782\n\\item 1.548\n\\item 0.761\n\\item 1.392\n\\item 1.215\n\\item 1.602\n\\item 0.987\n\\item 0.885\n\\item 0.684\n\\item 0.819\n\\item 0.84\n\\item 0.688\n\\item 0.898\n\\item 4.827\n\\item 0.854\n\\item 1.04\n\\item 1.018\n\\item 1.286\n\\item 0.87\n\\item 4.245\n\\item 0.882\n\\item 0.685\n\\item 4.663\n\\item 1.4\n\\item 0.851\n\\item 0.859\n\\item 0.634\n\\item 4.7\n\\item 0.719\n\\item 0.877\n\\item 1.614\n\\item 0.771\n\\item 1.043\n\\item 0.651\n\\item 4.592\n\\item 0.993\n\\item 0.893\n\\item 0.701\n\\item 4.794\n\\item 0.809\n\\item 1.65\n\\item 0.802\n\\item 0.908\n\\item 0.762\n\\item 1.252\n\\item 0.71\n\\item 4.912\n\\item 0.977\n\\item 0.942\n\\item 1.51\n\\item 0.825\n\\item 1.008\n\\item 1.703\n\\item 1.235\n\\item 1.384\n\\item 5.045\n\\item 0.894\n\\item 1.035\n\\item 1.007\n\\item 0.718\n\\item 0.721\n\\item 1.085\n\\item 0.766\n\\item 0.732\n\\item 0.7\n\\item 0.724\n\\item 0.65\n\\item 0.985\n\\item 4.286\n\\item 1.778\n\\item 4.921\n\\item 0.731\n\\item 0.895\n\\item 3.816\n\\item 0.69\n\\item 0.921\n\\item 0.965\n\\item 4.223\n\\item 0.891\n\\item 0.753\n\\item 3.053\n\\item 1.047\n\\item 4.474\n\\item 0.933\n\\item 0.888\n\\item 0.749\n\\item 0.914\n\\end{enumerate*}\n",
            "text/markdown": "1. 4.021\n2. 4.959\n3. 4.963\n4. 4.191\n5. 4.857\n6. 0.652\n7. 4.865\n8. 1.365\n9. 1.028\n10. 4.076\n11. 1.281\n12. 1.291\n13. 1.327\n14. 0.899\n15. 1.266\n16. 1.299\n17. 1.423\n18. 4.86\n19. 4.12\n20. 4.968\n21. 0.846\n22. 4.96\n23. 0.715\n24. 4.957\n25. 4.961\n26. 1.27\n27. 1.405\n28. 0.72\n29. 4.97\n30. 4.856\n31. 4.855\n32. 4.962\n33. 1.032\n34. 1.313\n35. 0.73\n36. 0.677\n37. 1.26\n38. 0.711\n39. 0.829\n40. 4.958\n41. 1.041\n42. 4.967\n43. 0.697\n44. 4.864\n45. 1.41\n46. 4.153\n47. 0.644\n48. 4.966\n49. 4.965\n50. 4.964\n51. 0.74\n52. 0.699\n53. 4.859\n54. 0.653\n55. 1.072\n56. 0.739\n57. 0.881\n58. 0.706\n59. 0.737\n60. 1.466\n61. 0.883\n62. 1.029\n63. 0.9\n64. 4.955\n65. 0.636\n66. 0.716\n67. 0.803\n68. 0.75\n69. 1.344\n70. 1.757\n71. 1.262\n72. 0.638\n73. 1.044\n74. 0.742\n75. 0.834\n76. 0.752\n77. 1\n78. 0.884\n79. 0.643\n80. 1.334\n81. 1.25\n82. 1.354\n83. 1.268\n84. 0.838\n85. 0.722\n86. 1.435\n87. 0.635\n88. 0.896\n89. 0.793\n90. 0.692\n91. 0.843\n92. 4.936\n93. 0.645\n94. 0.655\n95. 0.879\n96. 0.972\n97. 1.037\n98. 0.637\n99. 0.744\n100. 1.244\n101. 0.649\n102. 1.663\n103. 1.629\n104. 0.723\n105. 4.733\n106. 0.904\n107. 0.861\n108. 1.031\n109. 4.858\n110. 0.77\n111. 4.866\n112. 1.498\n113. 0.754\n114. 1.483\n115. 0.728\n116. 0.886\n117. 0.767\n118. 4.947\n119. 0.797\n120. 0.704\n121. 1.531\n122. 0.873\n123. 0.781\n124. 1.05\n125. 1.479\n126. 1.445\n127. 1.016\n128. 0.672\n129. 0.717\n130. 0.646\n131. 0.714\n132. 0.79\n133. 0.768\n134. 0.788\n135. 0.702\n136. 0.849\n137. 1.259\n138. 0.822\n139. 0.755\n140. 1.56\n141. 0.778\n142. 1.039\n143. 1.52\n144. 0.835\n145. 0.642\n146. 1.538\n147. 1.049\n148. 0.944\n149. 1.453\n150. 1.099\n151. 1.264\n152. 0.982\n153. 0.741\n154. 0.683\n155. 0.713\n156. 0.659\n157. 1.224\n158. 4.343\n159. 0.889\n160. 0.64\n161. 0.773\n162. 0.668\n163. 0.654\n164. 0.869\n165. 1.046\n166. 0.903\n167. 0.959\n168. 0.733\n169. 0.827\n170. 1.811\n171. 1.206\n172. 1.406\n173. 4.76\n174. 0.743\n175. 0.639\n176. 5\n177. 0.695\n178. 1.64\n179. 1.726\n180. 0.727\n181. 0.88\n182. 1.415\n183. 1.584\n184. 0.663\n185. 0.821\n186. 0.707\n187. 0.81\n188. 0.729\n189. 0.712\n190. 4.956\n191. 1.687\n192. 1.799\n193. 1.048\n194. 1.372\n195. 4.406\n196. 0.708\n197. 1.556\n198. 0.709\n199. 0.878\n200. 0.905\n201. 1.025\n202. 0.813\n203. 0.735\n204. 0.996\n205. 0.876\n206. 1.059\n207. 0.748\n208. 4.918\n209. 0.682\n210. 0.782\n211. 1.548\n212. 0.761\n213. 1.392\n214. 1.215\n215. 1.602\n216. 0.987\n217. 0.885\n218. 0.684\n219. 0.819\n220. 0.84\n221. 0.688\n222. 0.898\n223. 4.827\n224. 0.854\n225. 1.04\n226. 1.018\n227. 1.286\n228. 0.87\n229. 4.245\n230. 0.882\n231. 0.685\n232. 4.663\n233. 1.4\n234. 0.851\n235. 0.859\n236. 0.634\n237. 4.7\n238. 0.719\n239. 0.877\n240. 1.614\n241. 0.771\n242. 1.043\n243. 0.651\n244. 4.592\n245. 0.993\n246. 0.893\n247. 0.701\n248. 4.794\n249. 0.809\n250. 1.65\n251. 0.802\n252. 0.908\n253. 0.762\n254. 1.252\n255. 0.71\n256. 4.912\n257. 0.977\n258. 0.942\n259. 1.51\n260. 0.825\n261. 1.008\n262. 1.703\n263. 1.235\n264. 1.384\n265. 5.045\n266. 0.894\n267. 1.035\n268. 1.007\n269. 0.718\n270. 0.721\n271. 1.085\n272. 0.766\n273. 0.732\n274. 0.7\n275. 0.724\n276. 0.65\n277. 0.985\n278. 4.286\n279. 1.778\n280. 4.921\n281. 0.731\n282. 0.895\n283. 3.816\n284. 0.69\n285. 0.921\n286. 0.965\n287. 4.223\n288. 0.891\n289. 0.753\n290. 3.053\n291. 1.047\n292. 4.474\n293. 0.933\n294. 0.888\n295. 0.749\n296. 0.914\n\n\n",
            "text/html": [
              "<style>\n",
              ".list-inline {list-style: none; margin:0; padding: 0}\n",
              ".list-inline>li {display: inline-block}\n",
              ".list-inline>li:not(:last-child)::after {content: \"\\00b7\"; padding: 0 .5ex}\n",
              "</style>\n",
              "<ol class=list-inline><li>4.021</li><li>4.959</li><li>4.963</li><li>4.191</li><li>4.857</li><li>0.652</li><li>4.865</li><li>1.365</li><li>1.028</li><li>4.076</li><li>1.281</li><li>1.291</li><li>1.327</li><li>0.899</li><li>1.266</li><li>1.299</li><li>1.423</li><li>4.86</li><li>4.12</li><li>4.968</li><li>0.846</li><li>4.96</li><li>0.715</li><li>4.957</li><li>4.961</li><li>1.27</li><li>1.405</li><li>0.72</li><li>4.97</li><li>4.856</li><li>4.855</li><li>4.962</li><li>1.032</li><li>1.313</li><li>0.73</li><li>0.677</li><li>1.26</li><li>0.711</li><li>0.829</li><li>4.958</li><li>1.041</li><li>4.967</li><li>0.697</li><li>4.864</li><li>1.41</li><li>4.153</li><li>0.644</li><li>4.966</li><li>4.965</li><li>4.964</li><li>0.74</li><li>0.699</li><li>4.859</li><li>0.653</li><li>1.072</li><li>0.739</li><li>0.881</li><li>0.706</li><li>0.737</li><li>1.466</li><li>0.883</li><li>1.029</li><li>0.9</li><li>4.955</li><li>0.636</li><li>0.716</li><li>0.803</li><li>0.75</li><li>1.344</li><li>1.757</li><li>1.262</li><li>0.638</li><li>1.044</li><li>0.742</li><li>0.834</li><li>0.752</li><li>1</li><li>0.884</li><li>0.643</li><li>1.334</li><li>1.25</li><li>1.354</li><li>1.268</li><li>0.838</li><li>0.722</li><li>1.435</li><li>0.635</li><li>0.896</li><li>0.793</li><li>0.692</li><li>0.843</li><li>4.936</li><li>0.645</li><li>0.655</li><li>0.879</li><li>0.972</li><li>1.037</li><li>0.637</li><li>0.744</li><li>1.244</li><li>0.649</li><li>1.663</li><li>1.629</li><li>0.723</li><li>4.733</li><li>0.904</li><li>0.861</li><li>1.031</li><li>4.858</li><li>0.77</li><li>4.866</li><li>1.498</li><li>0.754</li><li>1.483</li><li>0.728</li><li>0.886</li><li>0.767</li><li>4.947</li><li>0.797</li><li>0.704</li><li>1.531</li><li>0.873</li><li>0.781</li><li>1.05</li><li>1.479</li><li>1.445</li><li>1.016</li><li>0.672</li><li>0.717</li><li>0.646</li><li>0.714</li><li>0.79</li><li>0.768</li><li>0.788</li><li>0.702</li><li>0.849</li><li>1.259</li><li>0.822</li><li>0.755</li><li>1.56</li><li>0.778</li><li>1.039</li><li>1.52</li><li>0.835</li><li>0.642</li><li>1.538</li><li>1.049</li><li>0.944</li><li>1.453</li><li>1.099</li><li>1.264</li><li>0.982</li><li>0.741</li><li>0.683</li><li>0.713</li><li>0.659</li><li>1.224</li><li>4.343</li><li>0.889</li><li>0.64</li><li>0.773</li><li>0.668</li><li>0.654</li><li>0.869</li><li>1.046</li><li>0.903</li><li>0.959</li><li>0.733</li><li>0.827</li><li>1.811</li><li>1.206</li><li>1.406</li><li>4.76</li><li>0.743</li><li>0.639</li><li>5</li><li>0.695</li><li>1.64</li><li>1.726</li><li>0.727</li><li>0.88</li><li>1.415</li><li>1.584</li><li>0.663</li><li>0.821</li><li>0.707</li><li>0.81</li><li>0.729</li><li>0.712</li><li>4.956</li><li>1.687</li><li>1.799</li><li>1.048</li><li>1.372</li><li>4.406</li><li>0.708</li><li>1.556</li><li>0.709</li><li>0.878</li><li>0.905</li><li>1.025</li><li>0.813</li><li>0.735</li><li>0.996</li><li>0.876</li><li>1.059</li><li>0.748</li><li>4.918</li><li>0.682</li><li>0.782</li><li>1.548</li><li>0.761</li><li>1.392</li><li>1.215</li><li>1.602</li><li>0.987</li><li>0.885</li><li>0.684</li><li>0.819</li><li>0.84</li><li>0.688</li><li>0.898</li><li>4.827</li><li>0.854</li><li>1.04</li><li>1.018</li><li>1.286</li><li>0.87</li><li>4.245</li><li>0.882</li><li>0.685</li><li>4.663</li><li>1.4</li><li>0.851</li><li>0.859</li><li>0.634</li><li>4.7</li><li>0.719</li><li>0.877</li><li>1.614</li><li>0.771</li><li>1.043</li><li>0.651</li><li>4.592</li><li>0.993</li><li>0.893</li><li>0.701</li><li>4.794</li><li>0.809</li><li>1.65</li><li>0.802</li><li>0.908</li><li>0.762</li><li>1.252</li><li>0.71</li><li>4.912</li><li>0.977</li><li>0.942</li><li>1.51</li><li>0.825</li><li>1.008</li><li>1.703</li><li>1.235</li><li>1.384</li><li>5.045</li><li>0.894</li><li>1.035</li><li>1.007</li><li>0.718</li><li>0.721</li><li>1.085</li><li>0.766</li><li>0.732</li><li>0.7</li><li>0.724</li><li>0.65</li><li>0.985</li><li>4.286</li><li>1.778</li><li>4.921</li><li>0.731</li><li>0.895</li><li>3.816</li><li>0.69</li><li>0.921</li><li>0.965</li><li>4.223</li><li>0.891</li><li>0.753</li><li>3.053</li><li>1.047</li><li>4.474</li><li>0.933</li><li>0.888</li><li>0.749</li><li>0.914</li></ol>\n"
            ]
          },
          "metadata": {
            "tags": []
          }
        },
        {
          "output_type": "display_data",
          "data": {
            "text/plain": [
              " [1] 5195.8 5228.1 5191.0 5008.7 5099.1 4963.6 4991.6 5017.5 5023.5 5076.2\n",
              "[11] 5176.3"
            ],
            "text/latex": "\\begin{enumerate*}\n\\item 5195.8\n\\item 5228.1\n\\item 5191\n\\item 5008.7\n\\item 5099.1\n\\item 4963.6\n\\item 4991.6\n\\item 5017.5\n\\item 5023.5\n\\item 5076.2\n\\item 5176.3\n\\end{enumerate*}\n",
            "text/markdown": "1. 5195.8\n2. 5228.1\n3. 5191\n4. 5008.7\n5. 5099.1\n6. 4963.6\n7. 4991.6\n8. 5017.5\n9. 5023.5\n10. 5076.2\n11. 5176.3\n\n\n",
            "text/html": [
              "<style>\n",
              ".list-inline {list-style: none; margin:0; padding: 0}\n",
              ".list-inline>li {display: inline-block}\n",
              ".list-inline>li:not(:last-child)::after {content: \"\\00b7\"; padding: 0 .5ex}\n",
              "</style>\n",
              "<ol class=list-inline><li>5195.8</li><li>5228.1</li><li>5191</li><li>5008.7</li><li>5099.1</li><li>4963.6</li><li>4991.6</li><li>5017.5</li><li>5023.5</li><li>5076.2</li><li>5176.3</li></ol>\n"
            ]
          },
          "metadata": {
            "tags": []
          }
        },
        {
          "output_type": "display_data",
          "data": {
            "text/plain": [
              "[1] \"no\"  \"yes\""
            ],
            "text/latex": "\\begin{enumerate*}\n\\item 'no'\n\\item 'yes'\n\\end{enumerate*}\n",
            "text/markdown": "1. 'no'\n2. 'yes'\n\n\n",
            "text/html": [
              "<style>\n",
              ".list-inline {list-style: none; margin:0; padding: 0}\n",
              ".list-inline>li {display: inline-block}\n",
              ".list-inline>li:not(:last-child)::after {content: \"\\00b7\"; padding: 0 .5ex}\n",
              "</style>\n",
              "<ol class=list-inline><li>'no'</li><li>'yes'</li></ol>\n"
            ]
          },
          "metadata": {
            "tags": []
          }
        }
      ]
    },
    {
      "cell_type": "markdown",
      "metadata": {
        "id": "4KGd6sLiDsaj"
      },
      "source": [
        "**전처리 과정**"
      ]
    },
    {
      "cell_type": "code",
      "metadata": {
        "id": "hgvxeH2iMb3_"
      },
      "source": [
        "bank_DF<-bank_DF %>% select(-ID, -housing, -pdays, -emp.var.rate,-default, -euribor3m) #ID 및 다른 불필요한 데이터 제거"
      ],
      "execution_count": 437,
      "outputs": []
    },
    {
      "cell_type": "code",
      "metadata": {
        "colab": {
          "base_uri": "https://localhost:8080/",
          "height": 508
        },
        "id": "704268ajMpdt",
        "outputId": "2d033e14-f0d4-488d-92cf-3d2a7db985da"
      },
      "source": [
        "#데이터 확인 및 분포도 검사\r\n",
        "bank_DF %>%str()\r\n",
        "table(bank_DF$age) "
      ],
      "execution_count": 438,
      "outputs": [
        {
          "output_type": "stream",
          "text": [
            "tibble [10,098 × 16] (S3: tbl_df/tbl/data.frame)\n",
            " $ age           : int [1:10098] 41 57 34 54 49 73 40 34 56 41 ...\n",
            " $ job           : chr [1:10098] \"technician\" \"retired\" \"technician\" \"management\" ...\n",
            " $ marital       : chr [1:10098] \"single\" \"single\" \"married\" \"married\" ...\n",
            " $ education     : chr [1:10098] \"university.degree\" \"high.school\" \"professional.course\" \"university.degree\" ...\n",
            " $ loan          : chr [1:10098] \"no\" \"no\" \"no\" \"no\" ...\n",
            " $ contact       : chr [1:10098] \"cellular\" \"telephone\" \"cellular\" \"cellular\" ...\n",
            " $ month         : chr [1:10098] \"nov\" \"jun\" \"jul\" \"nov\" ...\n",
            " $ day_of_week   : chr [1:10098] \"fri\" \"fri\" \"wed\" \"mon\" ...\n",
            " $ duration      : int [1:10098] 903 74 75 59 252 659 21 2462 266 205 ...\n",
            " $ campaign      : int [1:10098] 3 3 5 1 1 1 1 2 1 7 ...\n",
            " $ previous      : int [1:10098] 1 0 0 0 0 0 0 0 0 0 ...\n",
            " $ poutcome      : chr [1:10098] \"failure\" \"nonexistent\" \"nonexistent\" \"nonexistent\" ...\n",
            " $ cons.price.idx: num [1:10098] 93.2 94.5 93.9 93.2 94 ...\n",
            " $ cons.conf.idx : num [1:10098] -42 -41.8 -42.7 -42 -36.4 -34.8 -41.8 -42 -47.1 -36.4 ...\n",
            " $ nr.employed   : num [1:10098] 5196 5228 5228 5196 5191 ...\n",
            " $ termDeposit   : chr [1:10098] \"no\" \"no\" \"no\" \"no\" ...\n",
            " - attr(*, \".internal.selfref\")=<externalptr> \n"
          ],
          "name": "stdout"
        },
        {
          "output_type": "display_data",
          "data": {
            "text/plain": [
              "\n",
              " 17  18  19  20  21  22  23  24  25  26  27  28  29  30  31  32  33  34  35  36 \n",
              "  2  13  22  28  35  47  74 133 153 193 227 295 389 426 481 411 455 437 439 380 \n",
              " 37  38  39  40  41  42  43  44  45  46  47  48  49  50  51  52  53  54  55  56 \n",
              "348 345 325 248 275 249 226 211 239 225 197 244 173 193 162 200 174 149 144 175 \n",
              " 57  58  59  60  61  62  63  64  65  66  67  68  69  70  71  72  73  74  75  76 \n",
              "137 141 128  97  33  28  21  34  24  27  14  16  16  21  24  18  15  17  13  21 \n",
              " 77  78  79  80  81  82  83  84  85  86  87  88  89  92  98 \n",
              " 12  15   9  18   8  12   6   2   7   6   1   9   2   3   1 "
            ]
          },
          "metadata": {
            "tags": []
          }
        }
      ]
    },
    {
      "cell_type": "code",
      "metadata": {
        "colab": {
          "base_uri": "https://localhost:8080/",
          "height": 454
        },
        "id": "0bw-ANF0M5hK",
        "outputId": "dce6bf96-496e-49f3-dfe1-e8126abea508"
      },
      "source": [
        "#분포도 검사\r\n",
        "table(bank_DF$age)\r\n",
        "table(bank_DF$day_of_week)\r\n",
        "table(bank_DF$contact)\r\n",
        "table(bank_DF$previous)\r\n",
        "table(bank_DF$loan)\r\n",
        "table(bank_DF$pdays)"
      ],
      "execution_count": 439,
      "outputs": [
        {
          "output_type": "display_data",
          "data": {
            "text/plain": [
              "\n",
              " 17  18  19  20  21  22  23  24  25  26  27  28  29  30  31  32  33  34  35  36 \n",
              "  2  13  22  28  35  47  74 133 153 193 227 295 389 426 481 411 455 437 439 380 \n",
              " 37  38  39  40  41  42  43  44  45  46  47  48  49  50  51  52  53  54  55  56 \n",
              "348 345 325 248 275 249 226 211 239 225 197 244 173 193 162 200 174 149 144 175 \n",
              " 57  58  59  60  61  62  63  64  65  66  67  68  69  70  71  72  73  74  75  76 \n",
              "137 141 128  97  33  28  21  34  24  27  14  16  16  21  24  18  15  17  13  21 \n",
              " 77  78  79  80  81  82  83  84  85  86  87  88  89  92  98 \n",
              " 12  15   9  18   8  12   6   2   7   6   1   9   2   3   1 "
            ]
          },
          "metadata": {
            "tags": []
          }
        },
        {
          "output_type": "display_data",
          "data": {
            "text/plain": [
              "\n",
              " fri  mon  thu  tue  wed \n",
              "1919 2026 2115 1978 2060 "
            ]
          },
          "metadata": {
            "tags": []
          }
        },
        {
          "output_type": "display_data",
          "data": {
            "text/plain": [
              "\n",
              " cellular telephone \n",
              "     7083      3015 "
            ]
          },
          "metadata": {
            "tags": []
          }
        },
        {
          "output_type": "display_data",
          "data": {
            "text/plain": [
              "\n",
              "   0    1    2    3    4    5    6 \n",
              "8104 1429  373  134   42   12    4 "
            ]
          },
          "metadata": {
            "tags": []
          }
        },
        {
          "output_type": "display_data",
          "data": {
            "text/plain": [
              "\n",
              "     no unknown     yes \n",
              "   8326     252    1520 "
            ]
          },
          "metadata": {
            "tags": []
          }
        },
        {
          "output_type": "stream",
          "text": [
            "Warning message:\n",
            "“Unknown or uninitialised column: `pdays`.”\n"
          ],
          "name": "stderr"
        },
        {
          "output_type": "display_data",
          "data": {
            "text/plain": [
              "< table of extent 0 >"
            ]
          },
          "metadata": {
            "tags": []
          }
        }
      ]
    },
    {
      "cell_type": "code",
      "metadata": {
        "id": "BSdq8MjJNC7j"
      },
      "source": [
        "bank_DF<-bank_DF %>% mutate_at('.vars'=c(\"age\",\"job\",\"marital\",\"education\",\"loan\",\"day_of_week\",\"contact\",\"month\",\"previous\",\"poutcome\"),'.funs'=as.factor) #mutate_at을 통해 범주 선정"
      ],
      "execution_count": 440,
      "outputs": []
    },
    {
      "cell_type": "code",
      "metadata": {
        "id": "xGUrm58_NOhj"
      },
      "source": [
        "bank_DF<- bank_DF %>% mutate(termDeposit = factor(if_else(termDeposit == \"yes\", 1, 0), levels = c(\"0\", \"1\"))) #yes 일 시 1, 아닐 시 0으로 바꿔줌."
      ],
      "execution_count": 441,
      "outputs": []
    },
    {
      "cell_type": "code",
      "metadata": {
        "colab": {
          "base_uri": "https://localhost:8080/"
        },
        "id": "VzA8t1ZWNP1B",
        "outputId": "3a76f110-f60d-4480-89d6-1549f5aebbd0"
      },
      "source": [
        "bank_DF %>% str()"
      ],
      "execution_count": 442,
      "outputs": [
        {
          "output_type": "stream",
          "text": [
            "tibble [10,098 × 16] (S3: tbl_df/tbl/data.frame)\n",
            " $ age           : Factor w/ 75 levels \"17\",\"18\",\"19\",..: 25 41 18 38 33 57 24 18 40 25 ...\n",
            " $ job           : Factor w/ 12 levels \"admin.\",\"blue-collar\",..: 10 6 10 5 2 6 10 3 3 5 ...\n",
            " $ marital       : Factor w/ 4 levels \"divorced\",\"married\",..: 3 3 2 2 2 2 2 2 2 2 ...\n",
            " $ education     : Factor w/ 8 levels \"basic.4y\",\"basic.6y\",..: 7 4 6 7 1 8 6 7 7 7 ...\n",
            " $ loan          : Factor w/ 3 levels \"no\",\"unknown\",..: 1 1 1 1 1 1 1 1 1 1 ...\n",
            " $ contact       : Factor w/ 2 levels \"cellular\",\"telephone\": 1 2 1 1 2 2 2 1 1 2 ...\n",
            " $ month         : Factor w/ 10 levels \"apr\",\"aug\",\"dec\",..: 8 5 4 8 7 6 5 8 1 7 ...\n",
            " $ day_of_week   : Factor w/ 5 levels \"fri\",\"mon\",\"thu\",..: 1 1 5 2 2 2 2 2 3 5 ...\n",
            " $ duration      : int [1:10098] 903 74 75 59 252 659 21 2462 266 205 ...\n",
            " $ campaign      : int [1:10098] 3 3 5 1 1 1 1 2 1 7 ...\n",
            " $ previous      : Factor w/ 7 levels \"0\",\"1\",\"2\",\"3\",..: 2 1 1 1 1 1 1 1 1 1 ...\n",
            " $ poutcome      : Factor w/ 3 levels \"failure\",\"nonexistent\",..: 1 2 2 2 2 2 2 2 2 2 ...\n",
            " $ cons.price.idx: num [1:10098] 93.2 94.5 93.9 93.2 94 ...\n",
            " $ cons.conf.idx : num [1:10098] -42 -41.8 -42.7 -42 -36.4 -34.8 -41.8 -42 -47.1 -36.4 ...\n",
            " $ nr.employed   : num [1:10098] 5196 5228 5228 5196 5191 ...\n",
            " $ termDeposit   : Factor w/ 2 levels \"0\",\"1\": 1 1 1 1 1 2 1 2 2 1 ...\n",
            " - attr(*, \".internal.selfref\")=<externalptr> \n"
          ],
          "name": "stdout"
        }
      ]
    },
    {
      "cell_type": "code",
      "metadata": {
        "id": "mKEwjBhUNSJO"
      },
      "source": [
        "set.seed(31)# seed값 설정"
      ],
      "execution_count": 443,
      "outputs": []
    },
    {
      "cell_type": "code",
      "metadata": {
        "id": "dhUd946kNUL8"
      },
      "source": [
        "index <- createDataPartition(y = bank_DF$termDeposit, p = 0.7, list = FALSE) #데이터 70%, 30%으로 나눠줌"
      ],
      "execution_count": 444,
      "outputs": []
    },
    {
      "cell_type": "code",
      "metadata": {
        "colab": {
          "base_uri": "https://localhost:8080/",
          "height": 719
        },
        "id": "tITlXiz4NU9d",
        "outputId": "387bc9eb-2c9d-499d-aefc-95428006439c"
      },
      "source": [
        "head(index, 30) \r\n",
        "train <- bank_DF[index, ] #train과 test 값 설정\r\n",
        "test <- bank_DF[-index, ]\r\n"
      ],
      "execution_count": 445,
      "outputs": [
        {
          "output_type": "display_data",
          "data": {
            "text/plain": [
              "      Resample1\n",
              " [1,]  1       \n",
              " [2,]  2       \n",
              " [3,]  3       \n",
              " [4,]  4       \n",
              " [5,]  6       \n",
              " [6,]  7       \n",
              " [7,]  8       \n",
              " [8,] 10       \n",
              " [9,] 11       \n",
              "[10,] 12       \n",
              "[11,] 13       \n",
              "[12,] 14       \n",
              "[13,] 15       \n",
              "[14,] 16       \n",
              "[15,] 17       \n",
              "[16,] 21       \n",
              "[17,] 22       \n",
              "[18,] 23       \n",
              "[19,] 24       \n",
              "[20,] 25       \n",
              "[21,] 27       \n",
              "[22,] 28       \n",
              "[23,] 30       \n",
              "[24,] 31       \n",
              "[25,] 32       \n",
              "[26,] 33       \n",
              "[27,] 35       \n",
              "[28,] 37       \n",
              "[29,] 38       \n",
              "[30,] 41       "
            ],
            "text/latex": "A matrix: 30 × 1 of type int\n\\begin{tabular}{l}\n Resample1\\\\\n\\hline\n\t  1\\\\\n\t  2\\\\\n\t  3\\\\\n\t  4\\\\\n\t  6\\\\\n\t  7\\\\\n\t  8\\\\\n\t 10\\\\\n\t 11\\\\\n\t 12\\\\\n\t 13\\\\\n\t 14\\\\\n\t 15\\\\\n\t 16\\\\\n\t 17\\\\\n\t 21\\\\\n\t 22\\\\\n\t 23\\\\\n\t 24\\\\\n\t 25\\\\\n\t 27\\\\\n\t 28\\\\\n\t 30\\\\\n\t 31\\\\\n\t 32\\\\\n\t 33\\\\\n\t 35\\\\\n\t 37\\\\\n\t 38\\\\\n\t 41\\\\\n\\end{tabular}\n",
            "text/markdown": "\nA matrix: 30 × 1 of type int\n\n| Resample1 |\n|---|\n|  1 |\n|  2 |\n|  3 |\n|  4 |\n|  6 |\n|  7 |\n|  8 |\n| 10 |\n| 11 |\n| 12 |\n| 13 |\n| 14 |\n| 15 |\n| 16 |\n| 17 |\n| 21 |\n| 22 |\n| 23 |\n| 24 |\n| 25 |\n| 27 |\n| 28 |\n| 30 |\n| 31 |\n| 32 |\n| 33 |\n| 35 |\n| 37 |\n| 38 |\n| 41 |\n\n",
            "text/html": [
              "<table>\n",
              "<caption>A matrix: 30 × 1 of type int</caption>\n",
              "<thead>\n",
              "\t<tr><th scope=col>Resample1</th></tr>\n",
              "</thead>\n",
              "<tbody>\n",
              "\t<tr><td> 1</td></tr>\n",
              "\t<tr><td> 2</td></tr>\n",
              "\t<tr><td> 3</td></tr>\n",
              "\t<tr><td> 4</td></tr>\n",
              "\t<tr><td> 6</td></tr>\n",
              "\t<tr><td> 7</td></tr>\n",
              "\t<tr><td> 8</td></tr>\n",
              "\t<tr><td>10</td></tr>\n",
              "\t<tr><td>11</td></tr>\n",
              "\t<tr><td>12</td></tr>\n",
              "\t<tr><td>13</td></tr>\n",
              "\t<tr><td>14</td></tr>\n",
              "\t<tr><td>15</td></tr>\n",
              "\t<tr><td>16</td></tr>\n",
              "\t<tr><td>17</td></tr>\n",
              "\t<tr><td>21</td></tr>\n",
              "\t<tr><td>22</td></tr>\n",
              "\t<tr><td>23</td></tr>\n",
              "\t<tr><td>24</td></tr>\n",
              "\t<tr><td>25</td></tr>\n",
              "\t<tr><td>27</td></tr>\n",
              "\t<tr><td>28</td></tr>\n",
              "\t<tr><td>30</td></tr>\n",
              "\t<tr><td>31</td></tr>\n",
              "\t<tr><td>32</td></tr>\n",
              "\t<tr><td>33</td></tr>\n",
              "\t<tr><td>35</td></tr>\n",
              "\t<tr><td>37</td></tr>\n",
              "\t<tr><td>38</td></tr>\n",
              "\t<tr><td>41</td></tr>\n",
              "</tbody>\n",
              "</table>\n"
            ]
          },
          "metadata": {
            "tags": []
          }
        }
      ]
    },
    {
      "cell_type": "code",
      "metadata": {
        "colab": {
          "base_uri": "https://localhost:8080/",
          "height": 1000
        },
        "id": "mjlKuyPDNaJV",
        "outputId": "732ec3c2-db37-4c2f-f749-22cd9cf65aa7"
      },
      "source": [
        "train #train 값 확인"
      ],
      "execution_count": 446,
      "outputs": [
        {
          "output_type": "display_data",
          "data": {
            "text/plain": [
              "     age job           marital  education           loan    contact   month\n",
              "1    41  technician    single   university.degree   no      cellular  nov  \n",
              "2    57  retired       single   high.school         no      telephone jun  \n",
              "3    34  technician    married  professional.course no      cellular  jul  \n",
              "4    54  management    married  university.degree   no      cellular  nov  \n",
              "5    73  retired       married  unknown             no      telephone mar  \n",
              "6    40  technician    married  professional.course no      telephone jun  \n",
              "7    34  entrepreneur  married  university.degree   no      cellular  nov  \n",
              "8    41  management    married  university.degree   no      telephone may  \n",
              "9    46  blue-collar   married  professional.course no      cellular  nov  \n",
              "10   37  admin.        married  high.school         unknown cellular  nov  \n",
              "11   26  blue-collar   single   basic.9y            no      cellular  may  \n",
              "12   41  management    married  high.school         no      cellular  may  \n",
              "13   55  technician    married  university.degree   yes     cellular  may  \n",
              "14   33  management    married  university.degree   no      telephone aug  \n",
              "15   40  blue-collar   married  basic.9y            no      cellular  apr  \n",
              "16   31  self-employed married  university.degree   yes     telephone may  \n",
              "17   56  management    divorced university.degree   no      cellular  nov  \n",
              "18   46  technician    married  professional.course no      cellular  aug  \n",
              "19   23  blue-collar   single   basic.9y            no      cellular  jul  \n",
              "20   43  services      married  high.school         yes     cellular  jul  \n",
              "21   52  admin.        divorced university.degree   no      cellular  nov  \n",
              "22   27  admin.        married  university.degree   no      cellular  jul  \n",
              "23   34  admin.        married  university.degree   no      cellular  may  \n",
              "24   40  entrepreneur  married  basic.9y            no      cellular  apr  \n",
              "25   41  blue-collar   married  basic.9y            no      cellular  may  \n",
              "26   31  admin.        single   university.degree   no      cellular  may  \n",
              "27   33  blue-collar   married  basic.9y            yes     cellular  may  \n",
              "28   28  blue-collar   single   basic.6y            no      telephone may  \n",
              "29   53  blue-collar   married  basic.4y            no      telephone aug  \n",
              "30   30  services      single   high.school         no      cellular  jul  \n",
              "⋮    ⋮   ⋮             ⋮        ⋮                   ⋮       ⋮         ⋮    \n",
              "7041 35  admin.        married  university.degree   no      cellular  apr  \n",
              "7042 33  admin.        married  high.school         no      cellular  sep  \n",
              "7043 31  management    divorced university.degree   no      cellular  may  \n",
              "7044 60  retired       divorced basic.4y            no      telephone may  \n",
              "7045 24  services      single   high.school         no      cellular  apr  \n",
              "7046 36  technician    married  university.degree   no      cellular  sep  \n",
              "7047 45  blue-collar   married  basic.9y            no      telephone may  \n",
              "7048 40  admin.        married  university.degree   no      cellular  aug  \n",
              "7049 31  blue-collar   single   basic.9y            no      cellular  may  \n",
              "7050 35  housemaid     divorced basic.9y            no      cellular  nov  \n",
              "7051 31  services      married  basic.9y            no      cellular  jun  \n",
              "7052 32  blue-collar   divorced professional.course no      cellular  jul  \n",
              "7053 42  entrepreneur  married  basic.4y            no      telephone jul  \n",
              "7054 37  admin.        single   high.school         no      telephone jul  \n",
              "7055 54  management    married  university.degree   no      cellular  apr  \n",
              "7056 30  admin.        married  university.degree   no      cellular  aug  \n",
              "7057 25  student       single   high.school         yes     telephone aug  \n",
              "7058 47  services      married  high.school         no      cellular  nov  \n",
              "7059 41  blue-collar   married  basic.4y            no      telephone may  \n",
              "7060 32  admin.        single   high.school         no      cellular  nov  \n",
              "7061 27  admin.        single   university.degree   no      cellular  mar  \n",
              "7062 47  admin.        single   university.degree   no      cellular  aug  \n",
              "7063 29  technician    single   high.school         no      telephone jun  \n",
              "7064 24  services      single   high.school         no      telephone jun  \n",
              "7065 34  management    married  university.degree   no      cellular  nov  \n",
              "7066 60  self-employed divorced university.degree   no      cellular  sep  \n",
              "7067 33  admin.        married  high.school         no      telephone jun  \n",
              "7068 35  technician    married  professional.course no      telephone jun  \n",
              "7069 44  admin.        married  high.school         no      telephone may  \n",
              "7070 34  blue-collar   married  basic.9y            no      cellular  may  \n",
              "     day_of_week duration campaign previous poutcome    cons.price.idx\n",
              "1    fri          903     3        1        failure     93.200        \n",
              "2    fri           74     3        0        nonexistent 94.465        \n",
              "3    wed           75     5        0        nonexistent 93.918        \n",
              "4    mon           59     1        0        nonexistent 93.200        \n",
              "5    mon          659     1        0        nonexistent 93.369        \n",
              "6    mon           21     1        0        nonexistent 94.465        \n",
              "7    mon         2462     2        0        nonexistent 93.200        \n",
              "8    wed          205     7        0        nonexistent 93.994        \n",
              "9    fri          383     1        0        nonexistent 94.767        \n",
              "10   thu          518     2        0        nonexistent 93.200        \n",
              "11   wed          200     2        1        failure     92.893        \n",
              "12   tue          527     2        0        nonexistent 92.893        \n",
              "13   thu          895     2        1        failure     92.893        \n",
              "14   thu          201     1        2        success     94.027        \n",
              "15   thu          328     1        0        nonexistent 93.075        \n",
              "16   thu           66     6        0        nonexistent 93.994        \n",
              "17   wed           90     2        0        nonexistent 93.200        \n",
              "18   thu          166     3        0        nonexistent 93.444        \n",
              "19   thu          268     5        1        failure     94.215        \n",
              "20   mon         1212     1        0        nonexistent 93.918        \n",
              "21   tue          213     1        0        nonexistent 92.649        \n",
              "22   fri          494     1        0        nonexistent 93.918        \n",
              "23   wed           95     1        1        failure     92.893        \n",
              "24   fri         1013     2        0        nonexistent 93.075        \n",
              "25   tue          253     1        0        nonexistent 92.893        \n",
              "26   wed          196     2        1        failure     92.893        \n",
              "27   mon          239     2        0        nonexistent 92.893        \n",
              "28   tue          331     2        0        nonexistent 93.994        \n",
              "29   tue         1186     4        0        nonexistent 93.444        \n",
              "30   thu           70     6        0        nonexistent 93.918        \n",
              "⋮    ⋮           ⋮        ⋮        ⋮        ⋮           ⋮             \n",
              "7041 mon         176       1       0        nonexistent 93.749        \n",
              "7042 tue         212       1       0        nonexistent 92.379        \n",
              "7043 fri         156       2       0        nonexistent 92.893        \n",
              "7044 wed         478       2       0        nonexistent 93.994        \n",
              "7045 tue         850       2       0        nonexistent 93.075        \n",
              "7046 fri         328       1       1        failure     94.199        \n",
              "7047 thu          31       2       0        nonexistent 93.994        \n",
              "7048 wed         335       2       0        nonexistent 93.444        \n",
              "7049 thu         191       1       1        failure     92.893        \n",
              "7050 wed          60       1       1        failure     93.200        \n",
              "7051 mon         208       1       0        nonexistent 92.963        \n",
              "7052 fri         261      13       0        nonexistent 93.918        \n",
              "7053 thu         485       2       0        nonexistent 93.918        \n",
              "7054 thu         494       4       3        failure     94.215        \n",
              "7055 thu          85       1       0        nonexistent 93.075        \n",
              "7056 mon         114       2       0        nonexistent 93.444        \n",
              "7057 fri         461       1       0        nonexistent 94.027        \n",
              "7058 wed         311       1       0        nonexistent 93.200        \n",
              "7059 wed          16       1       0        nonexistent 93.994        \n",
              "7060 mon         333       2       0        nonexistent 93.200        \n",
              "7061 tue         238       4       0        nonexistent 93.369        \n",
              "7062 thu         156       4       0        nonexistent 93.444        \n",
              "7063 wed           6       1       0        nonexistent 94.055        \n",
              "7064 mon         700       1       0        nonexistent 94.465        \n",
              "7065 wed          96       1       0        nonexistent 93.200        \n",
              "7066 tue          83       1       1        success     92.379        \n",
              "7067 wed          43       4       0        nonexistent 94.465        \n",
              "7068 fri         366       1       0        nonexistent 92.963        \n",
              "7069 mon          96       2       0        nonexistent 93.994        \n",
              "7070 wed         157       3       1        failure     92.893        \n",
              "     cons.conf.idx nr.employed termDeposit\n",
              "1    -42.0         5195.8      0          \n",
              "2    -41.8         5228.1      0          \n",
              "3    -42.7         5228.1      0          \n",
              "4    -42.0         5195.8      0          \n",
              "5    -34.8         5008.7      1          \n",
              "6    -41.8         5228.1      0          \n",
              "7    -42.0         5195.8      1          \n",
              "8    -36.4         5191.0      0          \n",
              "9    -50.8         4963.6      0          \n",
              "10   -42.0         5195.8      0          \n",
              "11   -46.2         5099.1      0          \n",
              "12   -46.2         5099.1      0          \n",
              "13   -46.2         5099.1      1          \n",
              "14   -38.3         4991.6      1          \n",
              "15   -47.1         5099.1      1          \n",
              "16   -36.4         5191.0      0          \n",
              "17   -42.0         5195.8      0          \n",
              "18   -36.1         5228.1      0          \n",
              "19   -40.3         4991.6      1          \n",
              "20   -42.7         5228.1      1          \n",
              "21   -30.1         5017.5      1          \n",
              "22   -42.7         5228.1      1          \n",
              "23   -46.2         5099.1      0          \n",
              "24   -47.1         5099.1      0          \n",
              "25   -46.2         5099.1      1          \n",
              "26   -46.2         5099.1      0          \n",
              "27   -46.2         5099.1      0          \n",
              "28   -36.4         5191.0      0          \n",
              "29   -36.1         5228.1      1          \n",
              "30   -42.7         5228.1      0          \n",
              "⋮    ⋮             ⋮           ⋮          \n",
              "7041 -34.6         5008.7      1          \n",
              "7042 -29.8         5017.5      1          \n",
              "7043 -46.2         5099.1      0          \n",
              "7044 -36.4         5191.0      0          \n",
              "7045 -47.1         5099.1      1          \n",
              "7046 -37.5         4963.6      1          \n",
              "7047 -36.4         5191.0      0          \n",
              "7048 -36.1         5228.1      0          \n",
              "7049 -46.2         5099.1      1          \n",
              "7050 -42.0         5195.8      0          \n",
              "7051 -40.8         5076.2      0          \n",
              "7052 -42.7         5228.1      0          \n",
              "7053 -42.7         5228.1      0          \n",
              "7054 -40.3         4991.6      0          \n",
              "7055 -47.1         5099.1      0          \n",
              "7056 -36.1         5228.1      0          \n",
              "7057 -38.3         4991.6      1          \n",
              "7058 -42.0         5195.8      0          \n",
              "7059 -36.4         5191.0      0          \n",
              "7060 -42.0         5195.8      0          \n",
              "7061 -34.8         5008.7      1          \n",
              "7062 -36.1         5228.1      0          \n",
              "7063 -39.8         4991.6      0          \n",
              "7064 -41.8         5228.1      1          \n",
              "7065 -42.0         5195.8      0          \n",
              "7066 -29.8         5017.5      1          \n",
              "7067 -41.8         5228.1      0          \n",
              "7068 -40.8         5076.2      1          \n",
              "7069 -36.4         5191.0      0          \n",
              "7070 -46.2         5099.1      0          "
            ],
            "text/latex": "A tibble: 7070 × 16\n\\begin{tabular}{llllllllllllllll}\n age & job & marital & education & loan & contact & month & day\\_of\\_week & duration & campaign & previous & poutcome & cons.price.idx & cons.conf.idx & nr.employed & termDeposit\\\\\n <fct> & <fct> & <fct> & <fct> & <fct> & <fct> & <fct> & <fct> & <int> & <int> & <fct> & <fct> & <dbl> & <dbl> & <dbl> & <fct>\\\\\n\\hline\n\t 41 & technician    & single   & university.degree   & no      & cellular  & nov & fri &  903 & 3 & 1 & failure     & 93.200 & -42.0 & 5195.8 & 0\\\\\n\t 57 & retired       & single   & high.school         & no      & telephone & jun & fri &   74 & 3 & 0 & nonexistent & 94.465 & -41.8 & 5228.1 & 0\\\\\n\t 34 & technician    & married  & professional.course & no      & cellular  & jul & wed &   75 & 5 & 0 & nonexistent & 93.918 & -42.7 & 5228.1 & 0\\\\\n\t 54 & management    & married  & university.degree   & no      & cellular  & nov & mon &   59 & 1 & 0 & nonexistent & 93.200 & -42.0 & 5195.8 & 0\\\\\n\t 73 & retired       & married  & unknown             & no      & telephone & mar & mon &  659 & 1 & 0 & nonexistent & 93.369 & -34.8 & 5008.7 & 1\\\\\n\t 40 & technician    & married  & professional.course & no      & telephone & jun & mon &   21 & 1 & 0 & nonexistent & 94.465 & -41.8 & 5228.1 & 0\\\\\n\t 34 & entrepreneur  & married  & university.degree   & no      & cellular  & nov & mon & 2462 & 2 & 0 & nonexistent & 93.200 & -42.0 & 5195.8 & 1\\\\\n\t 41 & management    & married  & university.degree   & no      & telephone & may & wed &  205 & 7 & 0 & nonexistent & 93.994 & -36.4 & 5191.0 & 0\\\\\n\t 46 & blue-collar   & married  & professional.course & no      & cellular  & nov & fri &  383 & 1 & 0 & nonexistent & 94.767 & -50.8 & 4963.6 & 0\\\\\n\t 37 & admin.        & married  & high.school         & unknown & cellular  & nov & thu &  518 & 2 & 0 & nonexistent & 93.200 & -42.0 & 5195.8 & 0\\\\\n\t 26 & blue-collar   & single   & basic.9y            & no      & cellular  & may & wed &  200 & 2 & 1 & failure     & 92.893 & -46.2 & 5099.1 & 0\\\\\n\t 41 & management    & married  & high.school         & no      & cellular  & may & tue &  527 & 2 & 0 & nonexistent & 92.893 & -46.2 & 5099.1 & 0\\\\\n\t 55 & technician    & married  & university.degree   & yes     & cellular  & may & thu &  895 & 2 & 1 & failure     & 92.893 & -46.2 & 5099.1 & 1\\\\\n\t 33 & management    & married  & university.degree   & no      & telephone & aug & thu &  201 & 1 & 2 & success     & 94.027 & -38.3 & 4991.6 & 1\\\\\n\t 40 & blue-collar   & married  & basic.9y            & no      & cellular  & apr & thu &  328 & 1 & 0 & nonexistent & 93.075 & -47.1 & 5099.1 & 1\\\\\n\t 31 & self-employed & married  & university.degree   & yes     & telephone & may & thu &   66 & 6 & 0 & nonexistent & 93.994 & -36.4 & 5191.0 & 0\\\\\n\t 56 & management    & divorced & university.degree   & no      & cellular  & nov & wed &   90 & 2 & 0 & nonexistent & 93.200 & -42.0 & 5195.8 & 0\\\\\n\t 46 & technician    & married  & professional.course & no      & cellular  & aug & thu &  166 & 3 & 0 & nonexistent & 93.444 & -36.1 & 5228.1 & 0\\\\\n\t 23 & blue-collar   & single   & basic.9y            & no      & cellular  & jul & thu &  268 & 5 & 1 & failure     & 94.215 & -40.3 & 4991.6 & 1\\\\\n\t 43 & services      & married  & high.school         & yes     & cellular  & jul & mon & 1212 & 1 & 0 & nonexistent & 93.918 & -42.7 & 5228.1 & 1\\\\\n\t 52 & admin.        & divorced & university.degree   & no      & cellular  & nov & tue &  213 & 1 & 0 & nonexistent & 92.649 & -30.1 & 5017.5 & 1\\\\\n\t 27 & admin.        & married  & university.degree   & no      & cellular  & jul & fri &  494 & 1 & 0 & nonexistent & 93.918 & -42.7 & 5228.1 & 1\\\\\n\t 34 & admin.        & married  & university.degree   & no      & cellular  & may & wed &   95 & 1 & 1 & failure     & 92.893 & -46.2 & 5099.1 & 0\\\\\n\t 40 & entrepreneur  & married  & basic.9y            & no      & cellular  & apr & fri & 1013 & 2 & 0 & nonexistent & 93.075 & -47.1 & 5099.1 & 0\\\\\n\t 41 & blue-collar   & married  & basic.9y            & no      & cellular  & may & tue &  253 & 1 & 0 & nonexistent & 92.893 & -46.2 & 5099.1 & 1\\\\\n\t 31 & admin.        & single   & university.degree   & no      & cellular  & may & wed &  196 & 2 & 1 & failure     & 92.893 & -46.2 & 5099.1 & 0\\\\\n\t 33 & blue-collar   & married  & basic.9y            & yes     & cellular  & may & mon &  239 & 2 & 0 & nonexistent & 92.893 & -46.2 & 5099.1 & 0\\\\\n\t 28 & blue-collar   & single   & basic.6y            & no      & telephone & may & tue &  331 & 2 & 0 & nonexistent & 93.994 & -36.4 & 5191.0 & 0\\\\\n\t 53 & blue-collar   & married  & basic.4y            & no      & telephone & aug & tue & 1186 & 4 & 0 & nonexistent & 93.444 & -36.1 & 5228.1 & 1\\\\\n\t 30 & services      & single   & high.school         & no      & cellular  & jul & thu &   70 & 6 & 0 & nonexistent & 93.918 & -42.7 & 5228.1 & 0\\\\\n\t ⋮ & ⋮ & ⋮ & ⋮ & ⋮ & ⋮ & ⋮ & ⋮ & ⋮ & ⋮ & ⋮ & ⋮ & ⋮ & ⋮ & ⋮ & ⋮\\\\\n\t 35 & admin.        & married  & university.degree   & no  & cellular  & apr & mon & 176 &  1 & 0 & nonexistent & 93.749 & -34.6 & 5008.7 & 1\\\\\n\t 33 & admin.        & married  & high.school         & no  & cellular  & sep & tue & 212 &  1 & 0 & nonexistent & 92.379 & -29.8 & 5017.5 & 1\\\\\n\t 31 & management    & divorced & university.degree   & no  & cellular  & may & fri & 156 &  2 & 0 & nonexistent & 92.893 & -46.2 & 5099.1 & 0\\\\\n\t 60 & retired       & divorced & basic.4y            & no  & telephone & may & wed & 478 &  2 & 0 & nonexistent & 93.994 & -36.4 & 5191.0 & 0\\\\\n\t 24 & services      & single   & high.school         & no  & cellular  & apr & tue & 850 &  2 & 0 & nonexistent & 93.075 & -47.1 & 5099.1 & 1\\\\\n\t 36 & technician    & married  & university.degree   & no  & cellular  & sep & fri & 328 &  1 & 1 & failure     & 94.199 & -37.5 & 4963.6 & 1\\\\\n\t 45 & blue-collar   & married  & basic.9y            & no  & telephone & may & thu &  31 &  2 & 0 & nonexistent & 93.994 & -36.4 & 5191.0 & 0\\\\\n\t 40 & admin.        & married  & university.degree   & no  & cellular  & aug & wed & 335 &  2 & 0 & nonexistent & 93.444 & -36.1 & 5228.1 & 0\\\\\n\t 31 & blue-collar   & single   & basic.9y            & no  & cellular  & may & thu & 191 &  1 & 1 & failure     & 92.893 & -46.2 & 5099.1 & 1\\\\\n\t 35 & housemaid     & divorced & basic.9y            & no  & cellular  & nov & wed &  60 &  1 & 1 & failure     & 93.200 & -42.0 & 5195.8 & 0\\\\\n\t 31 & services      & married  & basic.9y            & no  & cellular  & jun & mon & 208 &  1 & 0 & nonexistent & 92.963 & -40.8 & 5076.2 & 0\\\\\n\t 32 & blue-collar   & divorced & professional.course & no  & cellular  & jul & fri & 261 & 13 & 0 & nonexistent & 93.918 & -42.7 & 5228.1 & 0\\\\\n\t 42 & entrepreneur  & married  & basic.4y            & no  & telephone & jul & thu & 485 &  2 & 0 & nonexistent & 93.918 & -42.7 & 5228.1 & 0\\\\\n\t 37 & admin.        & single   & high.school         & no  & telephone & jul & thu & 494 &  4 & 3 & failure     & 94.215 & -40.3 & 4991.6 & 0\\\\\n\t 54 & management    & married  & university.degree   & no  & cellular  & apr & thu &  85 &  1 & 0 & nonexistent & 93.075 & -47.1 & 5099.1 & 0\\\\\n\t 30 & admin.        & married  & university.degree   & no  & cellular  & aug & mon & 114 &  2 & 0 & nonexistent & 93.444 & -36.1 & 5228.1 & 0\\\\\n\t 25 & student       & single   & high.school         & yes & telephone & aug & fri & 461 &  1 & 0 & nonexistent & 94.027 & -38.3 & 4991.6 & 1\\\\\n\t 47 & services      & married  & high.school         & no  & cellular  & nov & wed & 311 &  1 & 0 & nonexistent & 93.200 & -42.0 & 5195.8 & 0\\\\\n\t 41 & blue-collar   & married  & basic.4y            & no  & telephone & may & wed &  16 &  1 & 0 & nonexistent & 93.994 & -36.4 & 5191.0 & 0\\\\\n\t 32 & admin.        & single   & high.school         & no  & cellular  & nov & mon & 333 &  2 & 0 & nonexistent & 93.200 & -42.0 & 5195.8 & 0\\\\\n\t 27 & admin.        & single   & university.degree   & no  & cellular  & mar & tue & 238 &  4 & 0 & nonexistent & 93.369 & -34.8 & 5008.7 & 1\\\\\n\t 47 & admin.        & single   & university.degree   & no  & cellular  & aug & thu & 156 &  4 & 0 & nonexistent & 93.444 & -36.1 & 5228.1 & 0\\\\\n\t 29 & technician    & single   & high.school         & no  & telephone & jun & wed &   6 &  1 & 0 & nonexistent & 94.055 & -39.8 & 4991.6 & 0\\\\\n\t 24 & services      & single   & high.school         & no  & telephone & jun & mon & 700 &  1 & 0 & nonexistent & 94.465 & -41.8 & 5228.1 & 1\\\\\n\t 34 & management    & married  & university.degree   & no  & cellular  & nov & wed &  96 &  1 & 0 & nonexistent & 93.200 & -42.0 & 5195.8 & 0\\\\\n\t 60 & self-employed & divorced & university.degree   & no  & cellular  & sep & tue &  83 &  1 & 1 & success     & 92.379 & -29.8 & 5017.5 & 1\\\\\n\t 33 & admin.        & married  & high.school         & no  & telephone & jun & wed &  43 &  4 & 0 & nonexistent & 94.465 & -41.8 & 5228.1 & 0\\\\\n\t 35 & technician    & married  & professional.course & no  & telephone & jun & fri & 366 &  1 & 0 & nonexistent & 92.963 & -40.8 & 5076.2 & 1\\\\\n\t 44 & admin.        & married  & high.school         & no  & telephone & may & mon &  96 &  2 & 0 & nonexistent & 93.994 & -36.4 & 5191.0 & 0\\\\\n\t 34 & blue-collar   & married  & basic.9y            & no  & cellular  & may & wed & 157 &  3 & 1 & failure     & 92.893 & -46.2 & 5099.1 & 0\\\\\n\\end{tabular}\n",
            "text/markdown": "\nA tibble: 7070 × 16\n\n| age &lt;fct&gt; | job &lt;fct&gt; | marital &lt;fct&gt; | education &lt;fct&gt; | loan &lt;fct&gt; | contact &lt;fct&gt; | month &lt;fct&gt; | day_of_week &lt;fct&gt; | duration &lt;int&gt; | campaign &lt;int&gt; | previous &lt;fct&gt; | poutcome &lt;fct&gt; | cons.price.idx &lt;dbl&gt; | cons.conf.idx &lt;dbl&gt; | nr.employed &lt;dbl&gt; | termDeposit &lt;fct&gt; |\n|---|---|---|---|---|---|---|---|---|---|---|---|---|---|---|---|\n| 41 | technician    | single   | university.degree   | no      | cellular  | nov | fri |  903 | 3 | 1 | failure     | 93.200 | -42.0 | 5195.8 | 0 |\n| 57 | retired       | single   | high.school         | no      | telephone | jun | fri |   74 | 3 | 0 | nonexistent | 94.465 | -41.8 | 5228.1 | 0 |\n| 34 | technician    | married  | professional.course | no      | cellular  | jul | wed |   75 | 5 | 0 | nonexistent | 93.918 | -42.7 | 5228.1 | 0 |\n| 54 | management    | married  | university.degree   | no      | cellular  | nov | mon |   59 | 1 | 0 | nonexistent | 93.200 | -42.0 | 5195.8 | 0 |\n| 73 | retired       | married  | unknown             | no      | telephone | mar | mon |  659 | 1 | 0 | nonexistent | 93.369 | -34.8 | 5008.7 | 1 |\n| 40 | technician    | married  | professional.course | no      | telephone | jun | mon |   21 | 1 | 0 | nonexistent | 94.465 | -41.8 | 5228.1 | 0 |\n| 34 | entrepreneur  | married  | university.degree   | no      | cellular  | nov | mon | 2462 | 2 | 0 | nonexistent | 93.200 | -42.0 | 5195.8 | 1 |\n| 41 | management    | married  | university.degree   | no      | telephone | may | wed |  205 | 7 | 0 | nonexistent | 93.994 | -36.4 | 5191.0 | 0 |\n| 46 | blue-collar   | married  | professional.course | no      | cellular  | nov | fri |  383 | 1 | 0 | nonexistent | 94.767 | -50.8 | 4963.6 | 0 |\n| 37 | admin.        | married  | high.school         | unknown | cellular  | nov | thu |  518 | 2 | 0 | nonexistent | 93.200 | -42.0 | 5195.8 | 0 |\n| 26 | blue-collar   | single   | basic.9y            | no      | cellular  | may | wed |  200 | 2 | 1 | failure     | 92.893 | -46.2 | 5099.1 | 0 |\n| 41 | management    | married  | high.school         | no      | cellular  | may | tue |  527 | 2 | 0 | nonexistent | 92.893 | -46.2 | 5099.1 | 0 |\n| 55 | technician    | married  | university.degree   | yes     | cellular  | may | thu |  895 | 2 | 1 | failure     | 92.893 | -46.2 | 5099.1 | 1 |\n| 33 | management    | married  | university.degree   | no      | telephone | aug | thu |  201 | 1 | 2 | success     | 94.027 | -38.3 | 4991.6 | 1 |\n| 40 | blue-collar   | married  | basic.9y            | no      | cellular  | apr | thu |  328 | 1 | 0 | nonexistent | 93.075 | -47.1 | 5099.1 | 1 |\n| 31 | self-employed | married  | university.degree   | yes     | telephone | may | thu |   66 | 6 | 0 | nonexistent | 93.994 | -36.4 | 5191.0 | 0 |\n| 56 | management    | divorced | university.degree   | no      | cellular  | nov | wed |   90 | 2 | 0 | nonexistent | 93.200 | -42.0 | 5195.8 | 0 |\n| 46 | technician    | married  | professional.course | no      | cellular  | aug | thu |  166 | 3 | 0 | nonexistent | 93.444 | -36.1 | 5228.1 | 0 |\n| 23 | blue-collar   | single   | basic.9y            | no      | cellular  | jul | thu |  268 | 5 | 1 | failure     | 94.215 | -40.3 | 4991.6 | 1 |\n| 43 | services      | married  | high.school         | yes     | cellular  | jul | mon | 1212 | 1 | 0 | nonexistent | 93.918 | -42.7 | 5228.1 | 1 |\n| 52 | admin.        | divorced | university.degree   | no      | cellular  | nov | tue |  213 | 1 | 0 | nonexistent | 92.649 | -30.1 | 5017.5 | 1 |\n| 27 | admin.        | married  | university.degree   | no      | cellular  | jul | fri |  494 | 1 | 0 | nonexistent | 93.918 | -42.7 | 5228.1 | 1 |\n| 34 | admin.        | married  | university.degree   | no      | cellular  | may | wed |   95 | 1 | 1 | failure     | 92.893 | -46.2 | 5099.1 | 0 |\n| 40 | entrepreneur  | married  | basic.9y            | no      | cellular  | apr | fri | 1013 | 2 | 0 | nonexistent | 93.075 | -47.1 | 5099.1 | 0 |\n| 41 | blue-collar   | married  | basic.9y            | no      | cellular  | may | tue |  253 | 1 | 0 | nonexistent | 92.893 | -46.2 | 5099.1 | 1 |\n| 31 | admin.        | single   | university.degree   | no      | cellular  | may | wed |  196 | 2 | 1 | failure     | 92.893 | -46.2 | 5099.1 | 0 |\n| 33 | blue-collar   | married  | basic.9y            | yes     | cellular  | may | mon |  239 | 2 | 0 | nonexistent | 92.893 | -46.2 | 5099.1 | 0 |\n| 28 | blue-collar   | single   | basic.6y            | no      | telephone | may | tue |  331 | 2 | 0 | nonexistent | 93.994 | -36.4 | 5191.0 | 0 |\n| 53 | blue-collar   | married  | basic.4y            | no      | telephone | aug | tue | 1186 | 4 | 0 | nonexistent | 93.444 | -36.1 | 5228.1 | 1 |\n| 30 | services      | single   | high.school         | no      | cellular  | jul | thu |   70 | 6 | 0 | nonexistent | 93.918 | -42.7 | 5228.1 | 0 |\n| ⋮ | ⋮ | ⋮ | ⋮ | ⋮ | ⋮ | ⋮ | ⋮ | ⋮ | ⋮ | ⋮ | ⋮ | ⋮ | ⋮ | ⋮ | ⋮ |\n| 35 | admin.        | married  | university.degree   | no  | cellular  | apr | mon | 176 |  1 | 0 | nonexistent | 93.749 | -34.6 | 5008.7 | 1 |\n| 33 | admin.        | married  | high.school         | no  | cellular  | sep | tue | 212 |  1 | 0 | nonexistent | 92.379 | -29.8 | 5017.5 | 1 |\n| 31 | management    | divorced | university.degree   | no  | cellular  | may | fri | 156 |  2 | 0 | nonexistent | 92.893 | -46.2 | 5099.1 | 0 |\n| 60 | retired       | divorced | basic.4y            | no  | telephone | may | wed | 478 |  2 | 0 | nonexistent | 93.994 | -36.4 | 5191.0 | 0 |\n| 24 | services      | single   | high.school         | no  | cellular  | apr | tue | 850 |  2 | 0 | nonexistent | 93.075 | -47.1 | 5099.1 | 1 |\n| 36 | technician    | married  | university.degree   | no  | cellular  | sep | fri | 328 |  1 | 1 | failure     | 94.199 | -37.5 | 4963.6 | 1 |\n| 45 | blue-collar   | married  | basic.9y            | no  | telephone | may | thu |  31 |  2 | 0 | nonexistent | 93.994 | -36.4 | 5191.0 | 0 |\n| 40 | admin.        | married  | university.degree   | no  | cellular  | aug | wed | 335 |  2 | 0 | nonexistent | 93.444 | -36.1 | 5228.1 | 0 |\n| 31 | blue-collar   | single   | basic.9y            | no  | cellular  | may | thu | 191 |  1 | 1 | failure     | 92.893 | -46.2 | 5099.1 | 1 |\n| 35 | housemaid     | divorced | basic.9y            | no  | cellular  | nov | wed |  60 |  1 | 1 | failure     | 93.200 | -42.0 | 5195.8 | 0 |\n| 31 | services      | married  | basic.9y            | no  | cellular  | jun | mon | 208 |  1 | 0 | nonexistent | 92.963 | -40.8 | 5076.2 | 0 |\n| 32 | blue-collar   | divorced | professional.course | no  | cellular  | jul | fri | 261 | 13 | 0 | nonexistent | 93.918 | -42.7 | 5228.1 | 0 |\n| 42 | entrepreneur  | married  | basic.4y            | no  | telephone | jul | thu | 485 |  2 | 0 | nonexistent | 93.918 | -42.7 | 5228.1 | 0 |\n| 37 | admin.        | single   | high.school         | no  | telephone | jul | thu | 494 |  4 | 3 | failure     | 94.215 | -40.3 | 4991.6 | 0 |\n| 54 | management    | married  | university.degree   | no  | cellular  | apr | thu |  85 |  1 | 0 | nonexistent | 93.075 | -47.1 | 5099.1 | 0 |\n| 30 | admin.        | married  | university.degree   | no  | cellular  | aug | mon | 114 |  2 | 0 | nonexistent | 93.444 | -36.1 | 5228.1 | 0 |\n| 25 | student       | single   | high.school         | yes | telephone | aug | fri | 461 |  1 | 0 | nonexistent | 94.027 | -38.3 | 4991.6 | 1 |\n| 47 | services      | married  | high.school         | no  | cellular  | nov | wed | 311 |  1 | 0 | nonexistent | 93.200 | -42.0 | 5195.8 | 0 |\n| 41 | blue-collar   | married  | basic.4y            | no  | telephone | may | wed |  16 |  1 | 0 | nonexistent | 93.994 | -36.4 | 5191.0 | 0 |\n| 32 | admin.        | single   | high.school         | no  | cellular  | nov | mon | 333 |  2 | 0 | nonexistent | 93.200 | -42.0 | 5195.8 | 0 |\n| 27 | admin.        | single   | university.degree   | no  | cellular  | mar | tue | 238 |  4 | 0 | nonexistent | 93.369 | -34.8 | 5008.7 | 1 |\n| 47 | admin.        | single   | university.degree   | no  | cellular  | aug | thu | 156 |  4 | 0 | nonexistent | 93.444 | -36.1 | 5228.1 | 0 |\n| 29 | technician    | single   | high.school         | no  | telephone | jun | wed |   6 |  1 | 0 | nonexistent | 94.055 | -39.8 | 4991.6 | 0 |\n| 24 | services      | single   | high.school         | no  | telephone | jun | mon | 700 |  1 | 0 | nonexistent | 94.465 | -41.8 | 5228.1 | 1 |\n| 34 | management    | married  | university.degree   | no  | cellular  | nov | wed |  96 |  1 | 0 | nonexistent | 93.200 | -42.0 | 5195.8 | 0 |\n| 60 | self-employed | divorced | university.degree   | no  | cellular  | sep | tue |  83 |  1 | 1 | success     | 92.379 | -29.8 | 5017.5 | 1 |\n| 33 | admin.        | married  | high.school         | no  | telephone | jun | wed |  43 |  4 | 0 | nonexistent | 94.465 | -41.8 | 5228.1 | 0 |\n| 35 | technician    | married  | professional.course | no  | telephone | jun | fri | 366 |  1 | 0 | nonexistent | 92.963 | -40.8 | 5076.2 | 1 |\n| 44 | admin.        | married  | high.school         | no  | telephone | may | mon |  96 |  2 | 0 | nonexistent | 93.994 | -36.4 | 5191.0 | 0 |\n| 34 | blue-collar   | married  | basic.9y            | no  | cellular  | may | wed | 157 |  3 | 1 | failure     | 92.893 | -46.2 | 5099.1 | 0 |\n\n",
            "text/html": [
              "<table>\n",
              "<caption>A tibble: 7070 × 16</caption>\n",
              "<thead>\n",
              "\t<tr><th scope=col>age</th><th scope=col>job</th><th scope=col>marital</th><th scope=col>education</th><th scope=col>loan</th><th scope=col>contact</th><th scope=col>month</th><th scope=col>day_of_week</th><th scope=col>duration</th><th scope=col>campaign</th><th scope=col>previous</th><th scope=col>poutcome</th><th scope=col>cons.price.idx</th><th scope=col>cons.conf.idx</th><th scope=col>nr.employed</th><th scope=col>termDeposit</th></tr>\n",
              "\t<tr><th scope=col>&lt;fct&gt;</th><th scope=col>&lt;fct&gt;</th><th scope=col>&lt;fct&gt;</th><th scope=col>&lt;fct&gt;</th><th scope=col>&lt;fct&gt;</th><th scope=col>&lt;fct&gt;</th><th scope=col>&lt;fct&gt;</th><th scope=col>&lt;fct&gt;</th><th scope=col>&lt;int&gt;</th><th scope=col>&lt;int&gt;</th><th scope=col>&lt;fct&gt;</th><th scope=col>&lt;fct&gt;</th><th scope=col>&lt;dbl&gt;</th><th scope=col>&lt;dbl&gt;</th><th scope=col>&lt;dbl&gt;</th><th scope=col>&lt;fct&gt;</th></tr>\n",
              "</thead>\n",
              "<tbody>\n",
              "\t<tr><td>41</td><td>technician   </td><td>single  </td><td>university.degree  </td><td>no     </td><td>cellular </td><td>nov</td><td>fri</td><td> 903</td><td>3</td><td>1</td><td>failure    </td><td>93.200</td><td>-42.0</td><td>5195.8</td><td>0</td></tr>\n",
              "\t<tr><td>57</td><td>retired      </td><td>single  </td><td>high.school        </td><td>no     </td><td>telephone</td><td>jun</td><td>fri</td><td>  74</td><td>3</td><td>0</td><td>nonexistent</td><td>94.465</td><td>-41.8</td><td>5228.1</td><td>0</td></tr>\n",
              "\t<tr><td>34</td><td>technician   </td><td>married </td><td>professional.course</td><td>no     </td><td>cellular </td><td>jul</td><td>wed</td><td>  75</td><td>5</td><td>0</td><td>nonexistent</td><td>93.918</td><td>-42.7</td><td>5228.1</td><td>0</td></tr>\n",
              "\t<tr><td>54</td><td>management   </td><td>married </td><td>university.degree  </td><td>no     </td><td>cellular </td><td>nov</td><td>mon</td><td>  59</td><td>1</td><td>0</td><td>nonexistent</td><td>93.200</td><td>-42.0</td><td>5195.8</td><td>0</td></tr>\n",
              "\t<tr><td>73</td><td>retired      </td><td>married </td><td>unknown            </td><td>no     </td><td>telephone</td><td>mar</td><td>mon</td><td> 659</td><td>1</td><td>0</td><td>nonexistent</td><td>93.369</td><td>-34.8</td><td>5008.7</td><td>1</td></tr>\n",
              "\t<tr><td>40</td><td>technician   </td><td>married </td><td>professional.course</td><td>no     </td><td>telephone</td><td>jun</td><td>mon</td><td>  21</td><td>1</td><td>0</td><td>nonexistent</td><td>94.465</td><td>-41.8</td><td>5228.1</td><td>0</td></tr>\n",
              "\t<tr><td>34</td><td>entrepreneur </td><td>married </td><td>university.degree  </td><td>no     </td><td>cellular </td><td>nov</td><td>mon</td><td>2462</td><td>2</td><td>0</td><td>nonexistent</td><td>93.200</td><td>-42.0</td><td>5195.8</td><td>1</td></tr>\n",
              "\t<tr><td>41</td><td>management   </td><td>married </td><td>university.degree  </td><td>no     </td><td>telephone</td><td>may</td><td>wed</td><td> 205</td><td>7</td><td>0</td><td>nonexistent</td><td>93.994</td><td>-36.4</td><td>5191.0</td><td>0</td></tr>\n",
              "\t<tr><td>46</td><td>blue-collar  </td><td>married </td><td>professional.course</td><td>no     </td><td>cellular </td><td>nov</td><td>fri</td><td> 383</td><td>1</td><td>0</td><td>nonexistent</td><td>94.767</td><td>-50.8</td><td>4963.6</td><td>0</td></tr>\n",
              "\t<tr><td>37</td><td>admin.       </td><td>married </td><td>high.school        </td><td>unknown</td><td>cellular </td><td>nov</td><td>thu</td><td> 518</td><td>2</td><td>0</td><td>nonexistent</td><td>93.200</td><td>-42.0</td><td>5195.8</td><td>0</td></tr>\n",
              "\t<tr><td>26</td><td>blue-collar  </td><td>single  </td><td>basic.9y           </td><td>no     </td><td>cellular </td><td>may</td><td>wed</td><td> 200</td><td>2</td><td>1</td><td>failure    </td><td>92.893</td><td>-46.2</td><td>5099.1</td><td>0</td></tr>\n",
              "\t<tr><td>41</td><td>management   </td><td>married </td><td>high.school        </td><td>no     </td><td>cellular </td><td>may</td><td>tue</td><td> 527</td><td>2</td><td>0</td><td>nonexistent</td><td>92.893</td><td>-46.2</td><td>5099.1</td><td>0</td></tr>\n",
              "\t<tr><td>55</td><td>technician   </td><td>married </td><td>university.degree  </td><td>yes    </td><td>cellular </td><td>may</td><td>thu</td><td> 895</td><td>2</td><td>1</td><td>failure    </td><td>92.893</td><td>-46.2</td><td>5099.1</td><td>1</td></tr>\n",
              "\t<tr><td>33</td><td>management   </td><td>married </td><td>university.degree  </td><td>no     </td><td>telephone</td><td>aug</td><td>thu</td><td> 201</td><td>1</td><td>2</td><td>success    </td><td>94.027</td><td>-38.3</td><td>4991.6</td><td>1</td></tr>\n",
              "\t<tr><td>40</td><td>blue-collar  </td><td>married </td><td>basic.9y           </td><td>no     </td><td>cellular </td><td>apr</td><td>thu</td><td> 328</td><td>1</td><td>0</td><td>nonexistent</td><td>93.075</td><td>-47.1</td><td>5099.1</td><td>1</td></tr>\n",
              "\t<tr><td>31</td><td>self-employed</td><td>married </td><td>university.degree  </td><td>yes    </td><td>telephone</td><td>may</td><td>thu</td><td>  66</td><td>6</td><td>0</td><td>nonexistent</td><td>93.994</td><td>-36.4</td><td>5191.0</td><td>0</td></tr>\n",
              "\t<tr><td>56</td><td>management   </td><td>divorced</td><td>university.degree  </td><td>no     </td><td>cellular </td><td>nov</td><td>wed</td><td>  90</td><td>2</td><td>0</td><td>nonexistent</td><td>93.200</td><td>-42.0</td><td>5195.8</td><td>0</td></tr>\n",
              "\t<tr><td>46</td><td>technician   </td><td>married </td><td>professional.course</td><td>no     </td><td>cellular </td><td>aug</td><td>thu</td><td> 166</td><td>3</td><td>0</td><td>nonexistent</td><td>93.444</td><td>-36.1</td><td>5228.1</td><td>0</td></tr>\n",
              "\t<tr><td>23</td><td>blue-collar  </td><td>single  </td><td>basic.9y           </td><td>no     </td><td>cellular </td><td>jul</td><td>thu</td><td> 268</td><td>5</td><td>1</td><td>failure    </td><td>94.215</td><td>-40.3</td><td>4991.6</td><td>1</td></tr>\n",
              "\t<tr><td>43</td><td>services     </td><td>married </td><td>high.school        </td><td>yes    </td><td>cellular </td><td>jul</td><td>mon</td><td>1212</td><td>1</td><td>0</td><td>nonexistent</td><td>93.918</td><td>-42.7</td><td>5228.1</td><td>1</td></tr>\n",
              "\t<tr><td>52</td><td>admin.       </td><td>divorced</td><td>university.degree  </td><td>no     </td><td>cellular </td><td>nov</td><td>tue</td><td> 213</td><td>1</td><td>0</td><td>nonexistent</td><td>92.649</td><td>-30.1</td><td>5017.5</td><td>1</td></tr>\n",
              "\t<tr><td>27</td><td>admin.       </td><td>married </td><td>university.degree  </td><td>no     </td><td>cellular </td><td>jul</td><td>fri</td><td> 494</td><td>1</td><td>0</td><td>nonexistent</td><td>93.918</td><td>-42.7</td><td>5228.1</td><td>1</td></tr>\n",
              "\t<tr><td>34</td><td>admin.       </td><td>married </td><td>university.degree  </td><td>no     </td><td>cellular </td><td>may</td><td>wed</td><td>  95</td><td>1</td><td>1</td><td>failure    </td><td>92.893</td><td>-46.2</td><td>5099.1</td><td>0</td></tr>\n",
              "\t<tr><td>40</td><td>entrepreneur </td><td>married </td><td>basic.9y           </td><td>no     </td><td>cellular </td><td>apr</td><td>fri</td><td>1013</td><td>2</td><td>0</td><td>nonexistent</td><td>93.075</td><td>-47.1</td><td>5099.1</td><td>0</td></tr>\n",
              "\t<tr><td>41</td><td>blue-collar  </td><td>married </td><td>basic.9y           </td><td>no     </td><td>cellular </td><td>may</td><td>tue</td><td> 253</td><td>1</td><td>0</td><td>nonexistent</td><td>92.893</td><td>-46.2</td><td>5099.1</td><td>1</td></tr>\n",
              "\t<tr><td>31</td><td>admin.       </td><td>single  </td><td>university.degree  </td><td>no     </td><td>cellular </td><td>may</td><td>wed</td><td> 196</td><td>2</td><td>1</td><td>failure    </td><td>92.893</td><td>-46.2</td><td>5099.1</td><td>0</td></tr>\n",
              "\t<tr><td>33</td><td>blue-collar  </td><td>married </td><td>basic.9y           </td><td>yes    </td><td>cellular </td><td>may</td><td>mon</td><td> 239</td><td>2</td><td>0</td><td>nonexistent</td><td>92.893</td><td>-46.2</td><td>5099.1</td><td>0</td></tr>\n",
              "\t<tr><td>28</td><td>blue-collar  </td><td>single  </td><td>basic.6y           </td><td>no     </td><td>telephone</td><td>may</td><td>tue</td><td> 331</td><td>2</td><td>0</td><td>nonexistent</td><td>93.994</td><td>-36.4</td><td>5191.0</td><td>0</td></tr>\n",
              "\t<tr><td>53</td><td>blue-collar  </td><td>married </td><td>basic.4y           </td><td>no     </td><td>telephone</td><td>aug</td><td>tue</td><td>1186</td><td>4</td><td>0</td><td>nonexistent</td><td>93.444</td><td>-36.1</td><td>5228.1</td><td>1</td></tr>\n",
              "\t<tr><td>30</td><td>services     </td><td>single  </td><td>high.school        </td><td>no     </td><td>cellular </td><td>jul</td><td>thu</td><td>  70</td><td>6</td><td>0</td><td>nonexistent</td><td>93.918</td><td>-42.7</td><td>5228.1</td><td>0</td></tr>\n",
              "\t<tr><td>⋮</td><td>⋮</td><td>⋮</td><td>⋮</td><td>⋮</td><td>⋮</td><td>⋮</td><td>⋮</td><td>⋮</td><td>⋮</td><td>⋮</td><td>⋮</td><td>⋮</td><td>⋮</td><td>⋮</td><td>⋮</td></tr>\n",
              "\t<tr><td>35</td><td>admin.       </td><td>married </td><td>university.degree  </td><td>no </td><td>cellular </td><td>apr</td><td>mon</td><td>176</td><td> 1</td><td>0</td><td>nonexistent</td><td>93.749</td><td>-34.6</td><td>5008.7</td><td>1</td></tr>\n",
              "\t<tr><td>33</td><td>admin.       </td><td>married </td><td>high.school        </td><td>no </td><td>cellular </td><td>sep</td><td>tue</td><td>212</td><td> 1</td><td>0</td><td>nonexistent</td><td>92.379</td><td>-29.8</td><td>5017.5</td><td>1</td></tr>\n",
              "\t<tr><td>31</td><td>management   </td><td>divorced</td><td>university.degree  </td><td>no </td><td>cellular </td><td>may</td><td>fri</td><td>156</td><td> 2</td><td>0</td><td>nonexistent</td><td>92.893</td><td>-46.2</td><td>5099.1</td><td>0</td></tr>\n",
              "\t<tr><td>60</td><td>retired      </td><td>divorced</td><td>basic.4y           </td><td>no </td><td>telephone</td><td>may</td><td>wed</td><td>478</td><td> 2</td><td>0</td><td>nonexistent</td><td>93.994</td><td>-36.4</td><td>5191.0</td><td>0</td></tr>\n",
              "\t<tr><td>24</td><td>services     </td><td>single  </td><td>high.school        </td><td>no </td><td>cellular </td><td>apr</td><td>tue</td><td>850</td><td> 2</td><td>0</td><td>nonexistent</td><td>93.075</td><td>-47.1</td><td>5099.1</td><td>1</td></tr>\n",
              "\t<tr><td>36</td><td>technician   </td><td>married </td><td>university.degree  </td><td>no </td><td>cellular </td><td>sep</td><td>fri</td><td>328</td><td> 1</td><td>1</td><td>failure    </td><td>94.199</td><td>-37.5</td><td>4963.6</td><td>1</td></tr>\n",
              "\t<tr><td>45</td><td>blue-collar  </td><td>married </td><td>basic.9y           </td><td>no </td><td>telephone</td><td>may</td><td>thu</td><td> 31</td><td> 2</td><td>0</td><td>nonexistent</td><td>93.994</td><td>-36.4</td><td>5191.0</td><td>0</td></tr>\n",
              "\t<tr><td>40</td><td>admin.       </td><td>married </td><td>university.degree  </td><td>no </td><td>cellular </td><td>aug</td><td>wed</td><td>335</td><td> 2</td><td>0</td><td>nonexistent</td><td>93.444</td><td>-36.1</td><td>5228.1</td><td>0</td></tr>\n",
              "\t<tr><td>31</td><td>blue-collar  </td><td>single  </td><td>basic.9y           </td><td>no </td><td>cellular </td><td>may</td><td>thu</td><td>191</td><td> 1</td><td>1</td><td>failure    </td><td>92.893</td><td>-46.2</td><td>5099.1</td><td>1</td></tr>\n",
              "\t<tr><td>35</td><td>housemaid    </td><td>divorced</td><td>basic.9y           </td><td>no </td><td>cellular </td><td>nov</td><td>wed</td><td> 60</td><td> 1</td><td>1</td><td>failure    </td><td>93.200</td><td>-42.0</td><td>5195.8</td><td>0</td></tr>\n",
              "\t<tr><td>31</td><td>services     </td><td>married </td><td>basic.9y           </td><td>no </td><td>cellular </td><td>jun</td><td>mon</td><td>208</td><td> 1</td><td>0</td><td>nonexistent</td><td>92.963</td><td>-40.8</td><td>5076.2</td><td>0</td></tr>\n",
              "\t<tr><td>32</td><td>blue-collar  </td><td>divorced</td><td>professional.course</td><td>no </td><td>cellular </td><td>jul</td><td>fri</td><td>261</td><td>13</td><td>0</td><td>nonexistent</td><td>93.918</td><td>-42.7</td><td>5228.1</td><td>0</td></tr>\n",
              "\t<tr><td>42</td><td>entrepreneur </td><td>married </td><td>basic.4y           </td><td>no </td><td>telephone</td><td>jul</td><td>thu</td><td>485</td><td> 2</td><td>0</td><td>nonexistent</td><td>93.918</td><td>-42.7</td><td>5228.1</td><td>0</td></tr>\n",
              "\t<tr><td>37</td><td>admin.       </td><td>single  </td><td>high.school        </td><td>no </td><td>telephone</td><td>jul</td><td>thu</td><td>494</td><td> 4</td><td>3</td><td>failure    </td><td>94.215</td><td>-40.3</td><td>4991.6</td><td>0</td></tr>\n",
              "\t<tr><td>54</td><td>management   </td><td>married </td><td>university.degree  </td><td>no </td><td>cellular </td><td>apr</td><td>thu</td><td> 85</td><td> 1</td><td>0</td><td>nonexistent</td><td>93.075</td><td>-47.1</td><td>5099.1</td><td>0</td></tr>\n",
              "\t<tr><td>30</td><td>admin.       </td><td>married </td><td>university.degree  </td><td>no </td><td>cellular </td><td>aug</td><td>mon</td><td>114</td><td> 2</td><td>0</td><td>nonexistent</td><td>93.444</td><td>-36.1</td><td>5228.1</td><td>0</td></tr>\n",
              "\t<tr><td>25</td><td>student      </td><td>single  </td><td>high.school        </td><td>yes</td><td>telephone</td><td>aug</td><td>fri</td><td>461</td><td> 1</td><td>0</td><td>nonexistent</td><td>94.027</td><td>-38.3</td><td>4991.6</td><td>1</td></tr>\n",
              "\t<tr><td>47</td><td>services     </td><td>married </td><td>high.school        </td><td>no </td><td>cellular </td><td>nov</td><td>wed</td><td>311</td><td> 1</td><td>0</td><td>nonexistent</td><td>93.200</td><td>-42.0</td><td>5195.8</td><td>0</td></tr>\n",
              "\t<tr><td>41</td><td>blue-collar  </td><td>married </td><td>basic.4y           </td><td>no </td><td>telephone</td><td>may</td><td>wed</td><td> 16</td><td> 1</td><td>0</td><td>nonexistent</td><td>93.994</td><td>-36.4</td><td>5191.0</td><td>0</td></tr>\n",
              "\t<tr><td>32</td><td>admin.       </td><td>single  </td><td>high.school        </td><td>no </td><td>cellular </td><td>nov</td><td>mon</td><td>333</td><td> 2</td><td>0</td><td>nonexistent</td><td>93.200</td><td>-42.0</td><td>5195.8</td><td>0</td></tr>\n",
              "\t<tr><td>27</td><td>admin.       </td><td>single  </td><td>university.degree  </td><td>no </td><td>cellular </td><td>mar</td><td>tue</td><td>238</td><td> 4</td><td>0</td><td>nonexistent</td><td>93.369</td><td>-34.8</td><td>5008.7</td><td>1</td></tr>\n",
              "\t<tr><td>47</td><td>admin.       </td><td>single  </td><td>university.degree  </td><td>no </td><td>cellular </td><td>aug</td><td>thu</td><td>156</td><td> 4</td><td>0</td><td>nonexistent</td><td>93.444</td><td>-36.1</td><td>5228.1</td><td>0</td></tr>\n",
              "\t<tr><td>29</td><td>technician   </td><td>single  </td><td>high.school        </td><td>no </td><td>telephone</td><td>jun</td><td>wed</td><td>  6</td><td> 1</td><td>0</td><td>nonexistent</td><td>94.055</td><td>-39.8</td><td>4991.6</td><td>0</td></tr>\n",
              "\t<tr><td>24</td><td>services     </td><td>single  </td><td>high.school        </td><td>no </td><td>telephone</td><td>jun</td><td>mon</td><td>700</td><td> 1</td><td>0</td><td>nonexistent</td><td>94.465</td><td>-41.8</td><td>5228.1</td><td>1</td></tr>\n",
              "\t<tr><td>34</td><td>management   </td><td>married </td><td>university.degree  </td><td>no </td><td>cellular </td><td>nov</td><td>wed</td><td> 96</td><td> 1</td><td>0</td><td>nonexistent</td><td>93.200</td><td>-42.0</td><td>5195.8</td><td>0</td></tr>\n",
              "\t<tr><td>60</td><td>self-employed</td><td>divorced</td><td>university.degree  </td><td>no </td><td>cellular </td><td>sep</td><td>tue</td><td> 83</td><td> 1</td><td>1</td><td>success    </td><td>92.379</td><td>-29.8</td><td>5017.5</td><td>1</td></tr>\n",
              "\t<tr><td>33</td><td>admin.       </td><td>married </td><td>high.school        </td><td>no </td><td>telephone</td><td>jun</td><td>wed</td><td> 43</td><td> 4</td><td>0</td><td>nonexistent</td><td>94.465</td><td>-41.8</td><td>5228.1</td><td>0</td></tr>\n",
              "\t<tr><td>35</td><td>technician   </td><td>married </td><td>professional.course</td><td>no </td><td>telephone</td><td>jun</td><td>fri</td><td>366</td><td> 1</td><td>0</td><td>nonexistent</td><td>92.963</td><td>-40.8</td><td>5076.2</td><td>1</td></tr>\n",
              "\t<tr><td>44</td><td>admin.       </td><td>married </td><td>high.school        </td><td>no </td><td>telephone</td><td>may</td><td>mon</td><td> 96</td><td> 2</td><td>0</td><td>nonexistent</td><td>93.994</td><td>-36.4</td><td>5191.0</td><td>0</td></tr>\n",
              "\t<tr><td>34</td><td>blue-collar  </td><td>married </td><td>basic.9y           </td><td>no </td><td>cellular </td><td>may</td><td>wed</td><td>157</td><td> 3</td><td>1</td><td>failure    </td><td>92.893</td><td>-46.2</td><td>5099.1</td><td>0</td></tr>\n",
              "</tbody>\n",
              "</table>\n"
            ]
          },
          "metadata": {
            "tags": []
          }
        }
      ]
    },
    {
      "cell_type": "markdown",
      "metadata": {
        "id": "fe4XBWHo9AXZ"
      },
      "source": [
        "## 1. **Logistic Regression**"
      ]
    },
    {
      "cell_type": "code",
      "metadata": {
        "id": "g9PE9l7e9VRP"
      },
      "source": [
        "m <- glm(termDeposit ~ . ,data=train, family = \"binomial\") #모델 생성"
      ],
      "execution_count": 447,
      "outputs": []
    },
    {
      "cell_type": "code",
      "metadata": {
        "colab": {
          "base_uri": "https://localhost:8080/"
        },
        "id": "KehJ_ebTNk-W",
        "outputId": "f39435b9-e390-4897-9080-aadc800960a6"
      },
      "source": [
        "m2 <- step(m, direction = \"backward\") #backward 사용"
      ],
      "execution_count": 448,
      "outputs": [
        {
          "output_type": "stream",
          "text": [
            "Start:  AIC=4906.48\n",
            "termDeposit ~ age + job + marital + education + loan + contact + \n",
            "    month + day_of_week + duration + campaign + previous + poutcome + \n",
            "    cons.price.idx + cons.conf.idx + nr.employed\n",
            "\n"
          ],
          "name": "stdout"
        },
        {
          "output_type": "stream",
          "text": [
            "Warning message:\n",
            "“glm.fit: fitted probabilities numerically 0 or 1 occurred”\n"
          ],
          "name": "stderr"
        },
        {
          "output_type": "stream",
          "text": [
            "                 Df Deviance    AIC\n",
            "- age            73   4733.9 4833.9\n",
            "- job            11   4672.1 4896.1\n",
            "- previous        5   4664.7 4900.7\n",
            "- marital         3   4662.0 4902.0\n",
            "- day_of_week     4   4665.9 4903.9\n",
            "- contact         1   4660.8 4904.8\n",
            "- cons.conf.idx   1   4661.0 4905.0\n",
            "- education       7   4673.0 4905.0\n",
            "<none>                4660.5 4906.5\n",
            "- loan            2   4664.6 4906.6\n",
            "- campaign        1   4670.4 4914.4\n",
            "- cons.price.idx  1   4691.6 4935.6\n",
            "- poutcome        1   4772.8 5016.8\n",
            "- month           9   4943.4 5171.4\n",
            "- nr.employed     1   5198.9 5442.9\n",
            "- duration        1   7327.9 7571.9\n",
            "\n",
            "Step:  AIC=4833.94\n",
            "termDeposit ~ job + marital + education + loan + contact + month + \n",
            "    day_of_week + duration + campaign + previous + poutcome + \n",
            "    cons.price.idx + cons.conf.idx + nr.employed\n",
            "\n",
            "                 Df Deviance    AIC\n",
            "- previous        5   4737.9 4827.9\n",
            "- marital         3   4735.6 4829.6\n",
            "- education       7   4744.9 4830.9\n",
            "- day_of_week     4   4739.7 4831.7\n",
            "- cons.conf.idx   1   4734.2 4832.2\n",
            "- contact         1   4734.4 4832.4\n",
            "- loan            2   4737.6 4833.6\n",
            "<none>                4733.9 4833.9\n",
            "- job            11   4759.2 4837.2\n",
            "- campaign        1   4742.2 4840.2\n",
            "- cons.price.idx  1   4764.6 4862.6\n",
            "- poutcome        1   4851.7 4949.7\n",
            "- month           9   5033.7 5115.7\n",
            "- nr.employed     1   5334.0 5432.0\n",
            "- duration        1   7394.3 7492.3\n",
            "\n",
            "Step:  AIC=4827.86\n",
            "termDeposit ~ job + marital + education + loan + contact + month + \n",
            "    day_of_week + duration + campaign + poutcome + cons.price.idx + \n",
            "    cons.conf.idx + nr.employed\n",
            "\n",
            "                 Df Deviance    AIC\n",
            "- marital         3   4739.5 4823.5\n",
            "- education       7   4748.7 4824.7\n",
            "- day_of_week     4   4743.7 4825.7\n",
            "- cons.conf.idx   1   4738.1 4826.1\n",
            "- contact         1   4738.4 4826.4\n",
            "- loan            2   4741.6 4827.6\n",
            "<none>                4737.9 4827.9\n",
            "- job            11   4763.0 4831.0\n",
            "- campaign        1   4746.0 4834.0\n",
            "- cons.price.idx  1   4770.9 4858.9\n",
            "- poutcome        2   4864.2 4950.2\n",
            "- month           9   5037.9 5109.9\n",
            "- nr.employed     1   5363.9 5451.9\n",
            "- duration        1   7398.0 7486.0\n",
            "\n",
            "Step:  AIC=4823.52\n",
            "termDeposit ~ job + education + loan + contact + month + day_of_week + \n",
            "    duration + campaign + poutcome + cons.price.idx + cons.conf.idx + \n",
            "    nr.employed\n",
            "\n",
            "                 Df Deviance    AIC\n",
            "- education       7   4751.4 4821.4\n",
            "- day_of_week     4   4745.5 4821.5\n",
            "- cons.conf.idx   1   4739.8 4821.8\n",
            "- contact         1   4740.1 4822.1\n",
            "- loan            2   4743.3 4823.3\n",
            "<none>                4739.5 4823.5\n",
            "- job            11   4764.4 4826.4\n",
            "- campaign        1   4747.8 4829.8\n",
            "- cons.price.idx  1   4773.1 4855.1\n",
            "- poutcome        2   4866.1 4946.1\n",
            "- month           9   5041.4 5107.4\n",
            "- nr.employed     1   5371.2 5453.2\n",
            "- duration        1   7400.6 7482.6\n",
            "\n",
            "Step:  AIC=4821.36\n",
            "termDeposit ~ job + loan + contact + month + day_of_week + duration + \n",
            "    campaign + poutcome + cons.price.idx + cons.conf.idx + nr.employed\n",
            "\n",
            "                 Df Deviance    AIC\n",
            "- day_of_week     4   4757.1 4819.1\n",
            "- cons.conf.idx   1   4751.6 4819.6\n",
            "- contact         1   4751.9 4819.9\n",
            "- loan            2   4755.3 4821.3\n",
            "<none>                4751.4 4821.4\n",
            "- campaign        1   4759.6 4827.6\n",
            "- job            11   4785.5 4833.5\n",
            "- cons.price.idx  1   4784.9 4852.9\n",
            "- poutcome        2   4878.4 4944.4\n",
            "- month           9   5056.0 5108.0\n",
            "- nr.employed     1   5385.8 5453.8\n",
            "- duration        1   7408.2 7476.2\n",
            "\n",
            "Step:  AIC=4819.09\n",
            "termDeposit ~ job + loan + contact + month + duration + campaign + \n",
            "    poutcome + cons.price.idx + cons.conf.idx + nr.employed\n",
            "\n",
            "                 Df Deviance    AIC\n",
            "- cons.conf.idx   1   4757.3 4817.3\n",
            "- contact         1   4757.6 4817.6\n",
            "- loan            2   4761.0 4819.0\n",
            "<none>                4757.1 4819.1\n",
            "- campaign        1   4765.8 4825.8\n",
            "- job            11   4791.5 4831.5\n",
            "- cons.price.idx  1   4790.9 4850.9\n",
            "- poutcome        2   4884.6 4942.6\n",
            "- month           9   5060.1 5104.1\n",
            "- nr.employed     1   5388.3 5448.3\n",
            "- duration        1   7420.2 7480.2\n",
            "\n",
            "Step:  AIC=4817.3\n",
            "termDeposit ~ job + loan + contact + month + duration + campaign + \n",
            "    poutcome + cons.price.idx + nr.employed\n",
            "\n",
            "                 Df Deviance    AIC\n",
            "- contact         1   4758.3 4816.3\n",
            "- loan            2   4761.2 4817.2\n",
            "<none>                4757.3 4817.3\n",
            "- campaign        1   4765.9 4823.9\n",
            "- job            11   4791.5 4829.5\n",
            "- cons.price.idx  1   4791.9 4849.9\n",
            "- poutcome        2   4884.8 4940.8\n",
            "- month           9   5069.5 5111.5\n",
            "- nr.employed     1   5407.5 5465.5\n",
            "- duration        1   7421.9 7479.9\n",
            "\n",
            "Step:  AIC=4816.34\n",
            "termDeposit ~ job + loan + month + duration + campaign + poutcome + \n",
            "    cons.price.idx + nr.employed\n",
            "\n",
            "                 Df Deviance    AIC\n",
            "- loan            2   4762.2 4816.2\n",
            "<none>                4758.3 4816.3\n",
            "- campaign        1   4767.3 4823.3\n",
            "- job            11   4792.5 4828.5\n",
            "- cons.price.idx  1   4806.0 4862.0\n",
            "- poutcome        2   4886.5 4940.5\n",
            "- month           9   5099.0 5139.0\n",
            "- nr.employed     1   5451.2 5507.2\n",
            "- duration        1   7435.6 7491.6\n",
            "\n",
            "Step:  AIC=4816.18\n",
            "termDeposit ~ job + month + duration + campaign + poutcome + \n",
            "    cons.price.idx + nr.employed\n",
            "\n",
            "                 Df Deviance    AIC\n",
            "<none>                4762.2 4816.2\n",
            "- campaign        1   4771.2 4823.2\n",
            "- job            11   4795.9 4827.9\n",
            "- cons.price.idx  1   4810.4 4862.4\n",
            "- poutcome        2   4890.8 4940.8\n",
            "- month           9   5104.0 5140.0\n",
            "- nr.employed     1   5453.2 5505.2\n",
            "- duration        1   7437.6 7489.6\n"
          ],
          "name": "stdout"
        }
      ]
    },
    {
      "cell_type": "code",
      "metadata": {
        "colab": {
          "base_uri": "https://localhost:8080/",
          "height": 908
        },
        "id": "abE5B_RCNqCM",
        "outputId": "e5385b06-fa65-49c7-baa6-3feef7393a48"
      },
      "source": [
        "summary(m2) # 모델 확인"
      ],
      "execution_count": 449,
      "outputs": [
        {
          "output_type": "display_data",
          "data": {
            "text/plain": [
              "\n",
              "Call:\n",
              "glm(formula = termDeposit ~ job + month + duration + campaign + \n",
              "    poutcome + cons.price.idx + nr.employed, family = \"binomial\", \n",
              "    data = train)\n",
              "\n",
              "Deviance Residuals: \n",
              "    Min       1Q   Median       3Q      Max  \n",
              "-5.9448  -0.4122  -0.2175   0.4633   2.8127  \n",
              "\n",
              "Coefficients:\n",
              "                      Estimate Std. Error z value Pr(>|z|)    \n",
              "(Intercept)          1.251e+02  6.732e+00  18.584  < 2e-16 ***\n",
              "jobblue-collar      -4.618e-01  1.150e-01  -4.015 5.94e-05 ***\n",
              "jobentrepreneur     -3.973e-01  2.188e-01  -1.816 0.069351 .  \n",
              "jobhousemaid        -3.278e-01  2.694e-01  -1.217 0.223664    \n",
              "jobmanagement       -1.128e-01  1.515e-01  -0.744 0.456581    \n",
              "jobretired           1.575e-01  1.604e-01   0.982 0.325900    \n",
              "jobself-employed    -3.438e-01  2.037e-01  -1.688 0.091412 .  \n",
              "jobservices         -5.732e-01  1.497e-01  -3.829 0.000129 ***\n",
              "jobstudent           5.734e-02  1.929e-01   0.297 0.766265    \n",
              "jobtechnician       -1.335e-01  1.173e-01  -1.139 0.254736    \n",
              "jobunemployed       -2.636e-01  2.349e-01  -1.122 0.261809    \n",
              "jobunknown          -5.009e-02  3.611e-01  -0.139 0.889662    \n",
              "monthaug             2.480e-01  1.485e-01   1.669 0.095038 .  \n",
              "monthdec            -3.510e-01  3.766e-01  -0.932 0.351279    \n",
              "monthjul             4.779e-01  1.548e-01   3.087 0.002023 ** \n",
              "monthjun             5.218e-01  1.565e-01   3.333 0.000858 ***\n",
              "monthmar             1.513e+00  2.521e-01   6.001 1.96e-09 ***\n",
              "monthmay            -1.080e+00  1.289e-01  -8.380  < 2e-16 ***\n",
              "monthnov            -2.629e-01  1.599e-01  -1.644 0.100134    \n",
              "monthoct             4.830e-01  2.299e-01   2.101 0.035680 *  \n",
              "monthsep            -4.756e-01  2.413e-01  -1.971 0.048745 *  \n",
              "duration             6.349e-03  1.760e-04  36.064  < 2e-16 ***\n",
              "campaign            -5.807e-02  1.999e-02  -2.905 0.003671 ** \n",
              "poutcomenonexistent  3.596e-01  1.126e-01   3.194 0.001402 ** \n",
              "poutcomesuccess      1.899e+00  1.864e-01  10.189  < 2e-16 ***\n",
              "cons.price.idx      -5.128e-01  7.271e-02  -7.052 1.76e-12 ***\n",
              "nr.employed         -1.555e-02  6.481e-04 -23.987  < 2e-16 ***\n",
              "---\n",
              "Signif. codes:  0 ‘***’ 0.001 ‘**’ 0.01 ‘*’ 0.05 ‘.’ 0.1 ‘ ’ 1\n",
              "\n",
              "(Dispersion parameter for binomial family taken to be 1)\n",
              "\n",
              "    Null deviance: 9588.8  on 7069  degrees of freedom\n",
              "Residual deviance: 4762.2  on 7043  degrees of freedom\n",
              "AIC: 4816.2\n",
              "\n",
              "Number of Fisher Scoring iterations: 6\n"
            ]
          },
          "metadata": {
            "tags": []
          }
        }
      ]
    },
    {
      "cell_type": "code",
      "metadata": {
        "colab": {
          "base_uri": "https://localhost:8080/"
        },
        "id": "X_GtJ6X3NszO",
        "outputId": "267a2c44-d7f0-4e91-d458-dea88d4a5e48"
      },
      "source": [
        "#모델 데이터 예측\r\n",
        "predict_value <- predict(m2, test, type = \"response\") %>% tibble(predict_value = .)\r\n",
        "predict_check <- test %>% select(termDeposit) %>% dplyr::bind_cols(., predict_value)\r\n",
        "predict_check%>%show()"
      ],
      "execution_count": 450,
      "outputs": [
        {
          "output_type": "stream",
          "text": [
            "\u001b[90m# A tibble: 3,028 x 2\u001b[39m\n",
            "   termDeposit predict_value\n",
            "   \u001b[3m\u001b[90m<fct>\u001b[39m\u001b[23m               \u001b[3m\u001b[90m<dbl>\u001b[39m\u001b[23m\n",
            "\u001b[90m 1\u001b[39m 0                  0.031\u001b[4m3\u001b[24m\n",
            "\u001b[90m 2\u001b[39m 1                  0.426 \n",
            "\u001b[90m 3\u001b[39m 1                  0.864 \n",
            "\u001b[90m 4\u001b[39m 0                  0.851 \n",
            "\u001b[90m 5\u001b[39m 1                  0.184 \n",
            "\u001b[90m 6\u001b[39m 1                  0.335 \n",
            "\u001b[90m 7\u001b[39m 0                  0.040\u001b[4m6\u001b[24m\n",
            "\u001b[90m 8\u001b[39m 0                  0.835 \n",
            "\u001b[90m 9\u001b[39m 0                  0.064\u001b[4m1\u001b[24m\n",
            "\u001b[90m10\u001b[39m 1                  0.771 \n",
            "\u001b[90m# … with 3,018 more rows\u001b[39m\n"
          ],
          "name": "stdout"
        }
      ]
    },
    {
      "cell_type": "code",
      "metadata": {
        "colab": {
          "base_uri": "https://localhost:8080/"
        },
        "id": "H9xhUXuSPLXz",
        "outputId": "5d8d5b04-da6b-4c73-e9c1-26e499655f71"
      },
      "source": [
        "#roc 사용\r\n",
        "library(\"pROC\")\r\n",
        "roc <- roc(predict_check$termDeposit, predict_check$predict_value)"
      ],
      "execution_count": 451,
      "outputs": [
        {
          "output_type": "stream",
          "text": [
            "Setting levels: control = 0, case = 1\n",
            "\n",
            "Setting direction: controls < cases\n",
            "\n"
          ],
          "name": "stderr"
        }
      ]
    },
    {
      "cell_type": "code",
      "metadata": {
        "colab": {
          "base_uri": "https://localhost:8080/",
          "height": 134
        },
        "id": "8duwT5zUPN66",
        "outputId": "6ba79ade-89f3-4cf7-f9b4-40244136252d"
      },
      "source": [
        "#threshhold 값 구하기\r\n",
        "pROC::coords(roc, \"best\", ret = \"threshold\", transpose = F)"
      ],
      "execution_count": 452,
      "outputs": [
        {
          "output_type": "display_data",
          "data": {
            "text/plain": [
              "  threshold\n",
              "1 0.255242 "
            ],
            "text/latex": "A data.frame: 1 × 1\n\\begin{tabular}{l}\n threshold\\\\\n <dbl>\\\\\n\\hline\n\t 0.255242\\\\\n\\end{tabular}\n",
            "text/markdown": "\nA data.frame: 1 × 1\n\n| threshold &lt;dbl&gt; |\n|---|\n| 0.255242 |\n\n",
            "text/html": [
              "<table>\n",
              "<caption>A data.frame: 1 × 1</caption>\n",
              "<thead>\n",
              "\t<tr><th scope=col>threshold</th></tr>\n",
              "\t<tr><th scope=col>&lt;dbl&gt;</th></tr>\n",
              "</thead>\n",
              "<tbody>\n",
              "\t<tr><td>0.255242</td></tr>\n",
              "</tbody>\n",
              "</table>\n"
            ]
          },
          "metadata": {
            "tags": []
          }
        }
      ]
    },
    {
      "cell_type": "code",
      "metadata": {
        "id": "YLvFKQf8PS5I"
      },
      "source": [
        "bank_p2<-bank_p%>%select(-ID, -housing, -pdays, -emp.var.rate,-default, -euribor3m)\r\n",
        "#위와 마찬가지로 범주형 데이터로  변경\r\n",
        "test_kaggle<-bank_p2%>%mutate_at('.vars'=c(\"age\",\"job\",\"marital\",\"education\",\"loan\",\"day_of_week\",\"contact\",\"month\",\"previous\",\"poutcome\"),'.funs'=as.factor)"
      ],
      "execution_count": 453,
      "outputs": []
    },
    {
      "cell_type": "code",
      "metadata": {
        "id": "BxjEJNZCPU4M"
      },
      "source": [
        "predict_value <- predict(m2, test_kaggle, type=\"response\") %>% tibble(termDeposit =.) #thresh hold 값을 통해 데이터 예측\r\n",
        "predict_cutoff <- bank_p %>% select(ID) %>% dplyr::bind_cols(.,predict_value)%>%mutate(termDeposit = ifelse(termDeposit >= 0.255242, 1, 0))"
      ],
      "execution_count": 458,
      "outputs": []
    },
    {
      "cell_type": "code",
      "metadata": {
        "id": "rMi1pXyFP7vi"
      },
      "source": [
        "predict_cutoff <-predict_cutoff %>% mutate(termDeposit = factor(if_else(termDeposit == \"1\", \"yes\", \"no\"), levels = c(\"yes\", \"no\"))) #1과 0을 다시 yes 와 no로 변경\r\n",
        "predict_cutoff %>% write_csv(path=\"logistic_20165324.csv\")  #파일 쓰기"
      ],
      "execution_count": 459,
      "outputs": []
    },
    {
      "cell_type": "markdown",
      "metadata": {
        "id": "P5ZQKX089TwE"
      },
      "source": [
        "## 2. **Decision Trees[Bagging]**"
      ]
    },
    {
      "cell_type": "markdown",
      "metadata": {
        "id": "6coxrJnjJ5vJ"
      },
      "source": [
        "**데이터 읽기**"
      ]
    },
    {
      "cell_type": "code",
      "metadata": {
        "id": "MwLxOui29WCe",
        "colab": {
          "base_uri": "https://localhost:8080/"
        },
        "outputId": "b8e47020-2e49-4874-b85d-57a213728078"
      },
      "source": [
        "\r\n",
        "dec <- fread(\"Train.csv\") %>% as_tibble()\r\n",
        "dec_predict<- fread(\"Test.csv\")%>% as_tibble()\r\n",
        "dec<-dec%>%select(-ID,-previous, -pdays) #ID와 previous, pdays를 제외\r\n",
        "dec<-na.omit(dec) #결측값 제거\r\n",
        "dec <- dec %>% mutate_at('.vars' = c(\"job\",\"education\",\"marital\",\"education\",\"default\",\"loan\",\"contact\",\"month\",\"day_of_week\",\"poutcome\",\"termDeposit\"), '.funs' = as.factor)\r\n",
        "dec %>% str() #데이터 범주화 및 형태 확인"
      ],
      "execution_count": 241,
      "outputs": [
        {
          "output_type": "stream",
          "text": [
            "tibble [10,098 × 19] (S3: tbl_df/tbl/data.frame)\n",
            " $ age           : int [1:10098] 41 57 34 54 49 73 40 34 56 41 ...\n",
            " $ job           : Factor w/ 12 levels \"admin.\",\"blue-collar\",..: 10 6 10 5 2 6 10 3 3 5 ...\n",
            " $ marital       : Factor w/ 4 levels \"divorced\",\"married\",..: 3 3 2 2 2 2 2 2 2 2 ...\n",
            " $ education     : Factor w/ 8 levels \"basic.4y\",\"basic.6y\",..: 7 4 6 7 1 8 6 7 7 7 ...\n",
            " $ default       : Factor w/ 3 levels \"no\",\"unknown\",..: 1 1 2 1 2 1 2 2 1 1 ...\n",
            " $ housing       : chr [1:10098] \"no\" \"no\" \"yes\" \"no\" ...\n",
            " $ loan          : Factor w/ 3 levels \"no\",\"unknown\",..: 1 1 1 1 1 1 1 1 1 1 ...\n",
            " $ contact       : Factor w/ 2 levels \"cellular\",\"telephone\": 1 2 1 1 2 2 2 1 1 2 ...\n",
            " $ month         : Factor w/ 10 levels \"apr\",\"aug\",\"dec\",..: 8 5 4 8 7 6 5 8 1 7 ...\n",
            " $ day_of_week   : Factor w/ 5 levels \"fri\",\"mon\",\"thu\",..: 1 1 5 2 2 2 2 2 3 5 ...\n",
            " $ duration      : int [1:10098] 903 74 75 59 252 659 21 2462 266 205 ...\n",
            " $ campaign      : int [1:10098] 3 3 5 1 1 1 1 2 1 7 ...\n",
            " $ poutcome      : Factor w/ 3 levels \"failure\",\"nonexistent\",..: 1 2 2 2 2 2 2 2 2 2 ...\n",
            " $ emp.var.rate  : num [1:10098] -0.1 1.4 1.4 -0.1 1.1 -1.8 1.4 -0.1 -1.8 1.1 ...\n",
            " $ cons.price.idx: num [1:10098] 93.2 94.5 93.9 93.2 94 ...\n",
            " $ cons.conf.idx : num [1:10098] -42 -41.8 -42.7 -42 -36.4 -34.8 -41.8 -42 -47.1 -36.4 ...\n",
            " $ euribor3m     : num [1:10098] 4.02 4.96 4.96 4.19 4.86 ...\n",
            " $ nr.employed   : num [1:10098] 5196 5228 5228 5196 5191 ...\n",
            " $ termDeposit   : Factor w/ 2 levels \"no\",\"yes\": 1 1 1 1 1 2 1 2 2 1 ...\n",
            " - attr(*, \".internal.selfref\")=<externalptr> \n"
          ],
          "name": "stdout"
        }
      ]
    },
    {
      "cell_type": "code",
      "metadata": {
        "id": "G9Hmf5SkXCfh"
      },
      "source": [
        "\r\n",
        "index <- createDataPartition(y = dec$termDeposit, p = 0.7, list = FALSE) # 데이터 70%, 30%으로 나눠줌"
      ],
      "execution_count": 242,
      "outputs": []
    },
    {
      "cell_type": "code",
      "metadata": {
        "id": "tQeb2wFLXG8m"
      },
      "source": [
        "train2<-dec[index, ]\r\n",
        "test2<-dec[-index, ] #train과 test 값 설정"
      ],
      "execution_count": 243,
      "outputs": []
    },
    {
      "cell_type": "markdown",
      "metadata": {
        "id": "gPYqq4clKUM_"
      },
      "source": [
        "**패키지 다운**"
      ]
    },
    {
      "cell_type": "code",
      "metadata": {
        "colab": {
          "base_uri": "https://localhost:8080/"
        },
        "id": "81HBJa8kXM3O",
        "outputId": "fada1ad2-c081-44e2-822b-36858266463b"
      },
      "source": [
        "install.packages(c(\"rattle\", \"rpart.plot\"))\r\n",
        "library(rattle)\r\n",
        "library(rpart.plot) #패키지 다운\r\n",
        "library(RColorBrewer)"
      ],
      "execution_count": 165,
      "outputs": [
        {
          "output_type": "stream",
          "text": [
            "Installing packages into ‘/usr/local/lib/R/site-library’\n",
            "(as ‘lib’ is unspecified)\n",
            "\n",
            "also installing the dependencies ‘bitops’, ‘XML’\n",
            "\n",
            "\n",
            "Loading required package: bitops\n",
            "\n",
            "Rattle: A free graphical interface for data science with R.\n",
            "Version 5.4.0 Copyright (c) 2006-2020 Togaware Pty Ltd.\n",
            "Type 'rattle()' to shake, rattle, and roll your data.\n",
            "\n",
            "Loading required package: rpart\n",
            "\n"
          ],
          "name": "stderr"
        }
      ]
    },
    {
      "cell_type": "code",
      "metadata": {
        "colab": {
          "base_uri": "https://localhost:8080/",
          "height": 437
        },
        "id": "wGh3oeSOXOf5",
        "outputId": "b96449e4-d55a-4ef2-8b98-fce35a68396e"
      },
      "source": [
        "dec <-rpart(formula=termDeposit ~.,data=train2,method=\"class\") #트리 모델 생성\r\n",
        "fancyRpartPlot(dec) #트리 모델 확인"
      ],
      "execution_count": 244,
      "outputs": [
        {
          "output_type": "display_data",
          "data": {
            "image/png": "[encoded data removed]",
            "text/plain": [
              "Plot with title “”"
            ]
          },
          "metadata": {
            "tags": [],
            "image/png": {
              "width": 420,
              "height": 420
            }
          }
        }
      ]
    },
    {
      "cell_type": "code",
      "metadata": {
        "colab": {
          "base_uri": "https://localhost:8080/"
        },
        "id": "b1c1o1ltgbpg",
        "outputId": "92393c7a-36fd-4c82-f44e-d283d59f12d0"
      },
      "source": [
        "printcp(dec) #cp 값 확인"
      ],
      "execution_count": 245,
      "outputs": [
        {
          "output_type": "stream",
          "text": [
            "\n",
            "Classification tree:\n",
            "rpart(formula = termDeposit ~ ., data = train2, method = \"class\")\n",
            "\n",
            "Variables actually used in tree construction:\n",
            "[1] duration    euribor3m   month       nr.employed\n",
            "\n",
            "Root node error: 2924/7070 = 0.41358\n",
            "\n",
            "n= 7070 \n",
            "\n",
            "        CP nsplit rel error  xerror     xstd\n",
            "1 0.371409      0   1.00000 1.00000 0.014162\n",
            "2 0.140561      1   0.62859 0.63133 0.012631\n",
            "3 0.058995      2   0.48803 0.48700 0.011533\n",
            "4 0.014706      4   0.37004 0.37073 0.010361\n",
            "5 0.011970      5   0.35534 0.36902 0.010341\n",
            "6 0.010000      6   0.34337 0.35773 0.010210\n"
          ],
          "name": "stdout"
        }
      ]
    },
    {
      "cell_type": "code",
      "metadata": {
        "colab": {
          "base_uri": "https://localhost:8080/",
          "height": 35
        },
        "id": "HJW4H4ZJYTiX",
        "outputId": "cbd14df1-5af7-4532-e15d-832f2c489f84"
      },
      "source": [
        "min_xerror_cp <- dec$cptable %>% as_tibble() %>%\r\n",
        "  filter(xerror == min(xerror)) %>% pull(CP)\r\n",
        "min_xerror_cp #filter와 pull을 통해 CP 값 찾기"
      ],
      "execution_count": 246,
      "outputs": [
        {
          "output_type": "display_data",
          "data": {
            "text/plain": [
              "[1] 0.01"
            ],
            "text/latex": "0.01",
            "text/markdown": "0.01",
            "text/html": [
              "0.01"
            ]
          },
          "metadata": {
            "tags": []
          }
        }
      ]
    },
    {
      "cell_type": "code",
      "metadata": {
        "colab": {
          "base_uri": "https://localhost:8080/"
        },
        "id": "0SJSxF7iXfxa",
        "outputId": "aaafaff1-3122-438c-8526-329732c27c6d"
      },
      "source": [
        "dec_predict<- dec_predict %>% select(-ID,-previous,-pdays)%>%mutate_at(c(\"job\",\"education\",\"marital\",\"education\",\"default\",\"loan\",\"contact\",\"month\",\"day_of_week\",\"poutcome\"),factor)\r\n",
        "dec_predict%>%str() #테스트 데이터 범주화"
      ],
      "execution_count": 247,
      "outputs": [
        {
          "output_type": "stream",
          "text": [
            "tibble [1,121 × 18] (S3: tbl_df/tbl/data.frame)\n",
            " $ age           : int [1:1121] 35 36 38 33 36 50 29 35 28 45 ...\n",
            " $ job           : Factor w/ 12 levels \"admin.\",\"blue-collar\",..: 4 2 10 1 1 10 2 1 10 12 ...\n",
            " $ marital       : Factor w/ 3 levels \"divorced\",\"married\",..: 2 2 1 2 2 2 2 2 3 2 ...\n",
            " $ education     : Factor w/ 7 levels \"basic.4y\",\"basic.6y\",..: 1 7 4 4 2 3 3 4 5 7 ...\n",
            " $ default       : Factor w/ 2 levels \"no\",\"unknown\": 1 1 1 1 1 1 1 2 1 1 ...\n",
            " $ housing       : chr [1:1121] \"no\" \"no\" \"no\" \"no\" ...\n",
            " $ loan          : Factor w/ 3 levels \"no\",\"unknown\",..: 1 1 1 1 3 1 1 3 1 1 ...\n",
            " $ contact       : Factor w/ 2 levels \"cellular\",\"telephone\": 2 1 2 1 1 1 1 2 1 2 ...\n",
            " $ month         : Factor w/ 10 levels \"apr\",\"aug\",\"dec\",..: 7 1 1 2 8 8 7 7 2 5 ...\n",
            " $ day_of_week   : Factor w/ 5 levels \"fri\",\"mon\",\"thu\",..: 3 1 1 1 1 1 5 4 3 1 ...\n",
            " $ duration      : int [1:1121] 646 231 320 207 183 705 1101 236 78 61 ...\n",
            " $ campaign      : int [1:1121] 3 2 3 3 1 1 1 1 3 4 ...\n",
            " $ poutcome      : Factor w/ 3 levels \"failure\",\"nonexistent\",..: 2 2 3 3 1 2 2 2 2 2 ...\n",
            " $ emp.var.rate  : num [1:1121] 1.1 -1.8 -1.8 -2.9 -0.1 -0.1 -1.8 1.1 -2.9 1.4 ...\n",
            " $ cons.price.idx: num [1:1121] 94 93.1 93.1 92.2 93.2 ...\n",
            " $ cons.conf.idx : num [1:1121] -36.4 -47.1 -47.1 -31.4 -42 -42 -46.2 -36.4 -31.4 -41.8 ...\n",
            " $ euribor3m     : num [1:1121] 4.86 1.405 1.405 0.825 4.021 ...\n",
            " $ nr.employed   : num [1:1121] 5191 5099 5099 5076 5196 ...\n",
            " - attr(*, \".internal.selfref\")=<externalptr> \n"
          ],
          "name": "stdout"
        }
      ]
    },
    {
      "cell_type": "code",
      "metadata": {
        "id": "ojVPO5dAX8Pn"
      },
      "source": [
        "value <- predict(dec, dec_predict, type = \"class\") %>% tibble(termDeposit=.)\r\n",
        "dec_p2<- fread(\"Test.csv\")%>% as_tibble() #원본 파일 불러옴\r\n",
        "test<- dec_p2\r\n",
        "test <- test %>%select(ID) %>% dplyr::bind_cols(., value) #데이터 예측"
      ],
      "execution_count": 248,
      "outputs": []
    },
    {
      "cell_type": "code",
      "metadata": {
        "id": "i8G7KreXZ_Fc"
      },
      "source": [
        "test%>%write_csv(\"./decision_20165324.csv\") #파일 쓰기"
      ],
      "execution_count": 249,
      "outputs": []
    },
    {
      "cell_type": "markdown",
      "metadata": {
        "id": "AyYtJSWzKtIE"
      },
      "source": [
        "**Bagging 사용**"
      ]
    },
    {
      "cell_type": "code",
      "metadata": {
        "colab": {
          "base_uri": "https://localhost:8080/"
        },
        "id": "moJt4WhGd9-c",
        "outputId": "c2b0f3f0-9dca-408a-c6fa-6d73fc8b388b"
      },
      "source": [
        "#패키지 설치\r\n",
        "install.packages(\"ipred\")\r\n",
        "library(ipred)\r\n",
        "install.packages(\"randomForest\")\r\n",
        "library(randomForest)"
      ],
      "execution_count": 230,
      "outputs": [
        {
          "output_type": "stream",
          "text": [
            "Installing package into ‘/usr/local/lib/R/site-library’\n",
            "(as ‘lib’ is unspecified)\n",
            "\n",
            "Installing package into ‘/usr/local/lib/R/site-library’\n",
            "(as ‘lib’ is unspecified)\n",
            "\n"
          ],
          "name": "stderr"
        }
      ]
    },
    {
      "cell_type": "code",
      "metadata": {
        "colab": {
          "base_uri": "https://localhost:8080/"
        },
        "id": "OBRdgK8sbkcp",
        "outputId": "61959d97-53e8-417f-e06a-098c72293fd3"
      },
      "source": [
        "\r\n",
        "bagging <- bagging(formula=termDeposit ~., data = train2, nbagg = 100)\r\n",
        "bagging <- predict(bagging, dec_predict, type = \"class\") %>% tibble(termDeposit = .)\r\n",
        "bagging <- dec_p2 %>% select(ID) %>% dplyr::bind_cols(., predict_value2)  #Bagging 데이터 예측\r\n",
        "bagging%>%show()"
      ],
      "execution_count": 257,
      "outputs": [
        {
          "output_type": "stream",
          "text": [
            "\u001b[90m# A tibble: 1,121 x 2\u001b[39m\n",
            "   ID    termDeposit\n",
            "   \u001b[3m\u001b[90m<chr>\u001b[39m\u001b[23m \u001b[3m\u001b[90m<fct>\u001b[39m\u001b[23m      \n",
            "\u001b[90m 1\u001b[39m T1    no         \n",
            "\u001b[90m 2\u001b[39m T2    no         \n",
            "\u001b[90m 3\u001b[39m T3    no         \n",
            "\u001b[90m 4\u001b[39m T4    yes        \n",
            "\u001b[90m 5\u001b[39m T5    no         \n",
            "\u001b[90m 6\u001b[39m T6    yes        \n",
            "\u001b[90m 7\u001b[39m T7    yes        \n",
            "\u001b[90m 8\u001b[39m T8    no         \n",
            "\u001b[90m 9\u001b[39m T9    no         \n",
            "\u001b[90m10\u001b[39m T10   no         \n",
            "\u001b[90m# … with 1,111 more rows\u001b[39m\n"
          ],
          "name": "stdout"
        }
      ]
    },
    {
      "cell_type": "code",
      "metadata": {
        "id": "TIeZOqNAbtSV"
      },
      "source": [
        "bagging%>%write_csv(\"bagging_20165324.csv\") #파일 쓰기"
      ],
      "execution_count": 258,
      "outputs": []
    },
    {
      "cell_type": "markdown",
      "metadata": {
        "id": "DmQmrs7o9T5_"
      },
      "source": [
        "## 3. **Random Forest**"
      ]
    },
    {
      "cell_type": "code",
      "metadata": {
        "id": "Rs3PuZ-E9W1e",
        "colab": {
          "base_uri": "https://localhost:8080/",
          "height": 1000
        },
        "outputId": "e9640bb9-5329-4cf7-9eb6-34e1973d52cf"
      },
      "source": [
        "ran <- fread(\"./Train.csv\") %>% as_tibble()\r\n",
        "ran_pre <- fread(\"./Test.csv\") %>% as_tibble() #파일 읽기\r\n",
        "ran <- ran%>%select(-ID, -previous) #ID와 previous 값 제외\r\n",
        "\r\n",
        "ran<-na.omit(ran) #결측값 제거\r\n",
        "\r\n",
        "ran # 데이터 확인\r\n",
        "\r\n"
      ],
      "execution_count": 350,
      "outputs": [
        {
          "output_type": "display_data",
          "data": {
            "text/plain": [
              "      age job           marital  education           default housing loan   \n",
              "1     41  technician    single   university.degree   no      no      no     \n",
              "2     57  retired       single   high.school         no      no      no     \n",
              "3     34  technician    married  professional.course unknown yes     no     \n",
              "4     54  management    married  university.degree   no      no      no     \n",
              "5     49  blue-collar   married  basic.4y            unknown no      no     \n",
              "6     73  retired       married  unknown             no      yes     no     \n",
              "7     40  technician    married  professional.course unknown no      no     \n",
              "8     34  entrepreneur  married  university.degree   unknown yes     no     \n",
              "9     56  entrepreneur  married  university.degree   no      yes     no     \n",
              "10    41  management    married  university.degree   no      yes     no     \n",
              "11    46  blue-collar   married  professional.course no      no      no     \n",
              "12    37  admin.        married  high.school         no      unknown unknown\n",
              "13    26  blue-collar   single   basic.9y            no      yes     no     \n",
              "14    41  management    married  high.school         unknown yes     no     \n",
              "15    55  technician    married  university.degree   no      yes     yes    \n",
              "16    33  management    married  university.degree   no      no      no     \n",
              "17    40  blue-collar   married  basic.9y            no      no      no     \n",
              "18    26  management    single   university.degree   no      no      no     \n",
              "19    57  technician    married  high.school         no      yes     no     \n",
              "20    28  blue-collar   single   university.degree   no      no      no     \n",
              "21    31  self-employed married  university.degree   no      no      yes    \n",
              "22    56  management    divorced university.degree   no      no      no     \n",
              "23    46  technician    married  professional.course unknown no      no     \n",
              "24    23  blue-collar   single   basic.9y            no      yes     no     \n",
              "25    43  services      married  high.school         no      yes     yes    \n",
              "26    26  unemployed    single   university.degree   no      yes     no     \n",
              "27    52  admin.        divorced university.degree   no      no      no     \n",
              "28    27  admin.        married  university.degree   no      yes     no     \n",
              "29    33  blue-collar   divorced basic.9y            no      no      no     \n",
              "30    34  admin.        married  university.degree   no      yes     no     \n",
              "⋮     ⋮   ⋮             ⋮        ⋮                   ⋮       ⋮       ⋮      \n",
              "10069 31  blue-collar   single   basic.9y            no      no      no     \n",
              "10070 35  housemaid     divorced basic.9y            no      no      no     \n",
              "10071 31  services      married  basic.9y            no      yes     no     \n",
              "10072 32  blue-collar   divorced professional.course no      no      no     \n",
              "10073 42  entrepreneur  married  basic.4y            unknown yes     no     \n",
              "10074 27  blue-collar   single   high.school         no      yes     no     \n",
              "10075 37  admin.        single   high.school         no      no      no     \n",
              "10076 54  management    married  university.degree   no      yes     no     \n",
              "10077 30  admin.        married  university.degree   unknown yes     no     \n",
              "10078 42  admin.        divorced university.degree   no      no      no     \n",
              "10079 25  student       single   high.school         no      yes     yes    \n",
              "10080 47  services      married  high.school         no      yes     no     \n",
              "10081 41  blue-collar   married  basic.4y            unknown no      no     \n",
              "10082 32  admin.        single   high.school         no      yes     no     \n",
              "10083 26  admin.        single   high.school         no      no      no     \n",
              "10084 27  admin.        single   university.degree   no      no      no     \n",
              "10085 47  admin.        single   university.degree   no      yes     no     \n",
              "10086 29  technician    single   high.school         no      yes     no     \n",
              "10087 57  blue-collar   married  basic.4y            no      yes     no     \n",
              "10088 24  services      single   high.school         no      no      no     \n",
              "10089 34  management    married  university.degree   no      yes     no     \n",
              "10090 60  self-employed divorced university.degree   no      no      no     \n",
              "10091 33  admin.        married  high.school         no      no      no     \n",
              "10092 32  technician    married  professional.course no      no      no     \n",
              "10093 35  technician    married  professional.course no      yes     no     \n",
              "10094 29  admin.        single   professional.course no      no      no     \n",
              "10095 44  admin.        married  high.school         no      yes     no     \n",
              "10096 34  blue-collar   married  basic.9y            no      yes     no     \n",
              "10097 41  housemaid     married  basic.4y            no      no      no     \n",
              "10098 39  technician    married  university.degree   no      no      no     \n",
              "      contact   month day_of_week duration campaign pdays poutcome   \n",
              "1     cellular  nov   fri          903     3        999   failure    \n",
              "2     telephone jun   fri           74     3        999   nonexistent\n",
              "3     cellular  jul   wed           75     5        999   nonexistent\n",
              "4     cellular  nov   mon           59     1        999   nonexistent\n",
              "5     telephone may   mon          252     1        999   nonexistent\n",
              "6     telephone mar   mon          659     1        999   nonexistent\n",
              "7     telephone jun   mon           21     1        999   nonexistent\n",
              "8     cellular  nov   mon         2462     2        999   nonexistent\n",
              "9     cellular  apr   thu          266     1        999   nonexistent\n",
              "10    telephone may   wed          205     7        999   nonexistent\n",
              "11    cellular  nov   fri          383     1        999   nonexistent\n",
              "12    cellular  nov   thu          518     2        999   nonexistent\n",
              "13    cellular  may   wed          200     2        999   failure    \n",
              "14    cellular  may   tue          527     2        999   nonexistent\n",
              "15    cellular  may   thu          895     2        999   failure    \n",
              "16    telephone aug   thu          201     1          6   success    \n",
              "17    cellular  apr   thu          328     1        999   nonexistent\n",
              "18    cellular  may   thu          715     1        999   nonexistent\n",
              "19    cellular  may   mon          758     1        999   failure    \n",
              "20    cellular  apr   tue          107     3        999   nonexistent\n",
              "21    telephone may   thu           66     6        999   nonexistent\n",
              "22    cellular  nov   wed           90     2        999   nonexistent\n",
              "23    cellular  aug   thu          166     3        999   nonexistent\n",
              "24    cellular  jul   thu          268     5        999   failure    \n",
              "25    cellular  jul   mon         1212     1        999   nonexistent\n",
              "26    cellular  apr   tue          184     1        999   nonexistent\n",
              "27    cellular  nov   tue          213     1        999   nonexistent\n",
              "28    cellular  jul   fri          494     1        999   nonexistent\n",
              "29    cellular  jul   tue          134     1        999   nonexistent\n",
              "30    cellular  may   wed           95     1        999   failure    \n",
              "⋮     ⋮         ⋮     ⋮           ⋮        ⋮        ⋮     ⋮          \n",
              "10069 cellular  may   thu         191       1       999   failure    \n",
              "10070 cellular  nov   wed          60       1       999   failure    \n",
              "10071 cellular  jun   mon         208       1       999   nonexistent\n",
              "10072 cellular  jul   fri         261      13       999   nonexistent\n",
              "10073 telephone jul   thu         485       2       999   nonexistent\n",
              "10074 cellular  jun   mon         148       2         4   success    \n",
              "10075 telephone jul   thu         494       4       999   failure    \n",
              "10076 cellular  apr   thu          85       1       999   nonexistent\n",
              "10077 cellular  aug   mon         114       2       999   nonexistent\n",
              "10078 cellular  may   fri         308       3       999   nonexistent\n",
              "10079 telephone aug   fri         461       1       999   nonexistent\n",
              "10080 cellular  nov   wed         311       1       999   nonexistent\n",
              "10081 telephone may   wed          16       1       999   nonexistent\n",
              "10082 cellular  nov   mon         333       2       999   nonexistent\n",
              "10083 telephone may   fri         619       2       999   nonexistent\n",
              "10084 cellular  mar   tue         238       4       999   nonexistent\n",
              "10085 cellular  aug   thu         156       4       999   nonexistent\n",
              "10086 telephone jun   wed           6       1       999   nonexistent\n",
              "10087 cellular  jul   mon          76       2       999   nonexistent\n",
              "10088 telephone jun   mon         700       1       999   nonexistent\n",
              "10089 cellular  nov   wed          96       1       999   nonexistent\n",
              "10090 cellular  sep   tue          83       1         3   success    \n",
              "10091 telephone jun   wed          43       4       999   nonexistent\n",
              "10092 cellular  aug   tue         215       1       999   nonexistent\n",
              "10093 telephone jun   fri         366       1       999   nonexistent\n",
              "10094 cellular  apr   thu         427       3       999   nonexistent\n",
              "10095 telephone may   mon          96       2       999   nonexistent\n",
              "10096 cellular  may   wed         157       3       999   failure    \n",
              "10097 cellular  may   tue          66       1       999   nonexistent\n",
              "10098 cellular  oct   fri         170       1         6   success    \n",
              "      emp.var.rate cons.price.idx cons.conf.idx euribor3m nr.employed\n",
              "1     -0.1         93.200         -42.0         4.021     5195.8     \n",
              "2      1.4         94.465         -41.8         4.959     5228.1     \n",
              "3      1.4         93.918         -42.7         4.963     5228.1     \n",
              "4     -0.1         93.200         -42.0         4.191     5195.8     \n",
              "5      1.1         93.994         -36.4         4.857     5191.0     \n",
              "6     -1.8         93.369         -34.8         0.652     5008.7     \n",
              "7      1.4         94.465         -41.8         4.865     5228.1     \n",
              "8     -0.1         93.200         -42.0         4.191     5195.8     \n",
              "9     -1.8         93.075         -47.1         1.365     5099.1     \n",
              "10     1.1         93.994         -36.4         4.857     5191.0     \n",
              "11    -1.1         94.767         -50.8         1.028     4963.6     \n",
              "12    -0.1         93.200         -42.0         4.076     5195.8     \n",
              "13    -1.8         92.893         -46.2         1.281     5099.1     \n",
              "14    -1.8         92.893         -46.2         1.291     5099.1     \n",
              "15    -1.8         92.893         -46.2         1.327     5099.1     \n",
              "16    -1.7         94.027         -38.3         0.899     4991.6     \n",
              "17    -1.8         93.075         -47.1         1.365     5099.1     \n",
              "18    -1.8         92.893         -46.2         1.266     5099.1     \n",
              "19    -1.8         92.893         -46.2         1.299     5099.1     \n",
              "20    -1.8         93.075         -47.1         1.423     5099.1     \n",
              "21     1.1         93.994         -36.4         4.860     5191.0     \n",
              "22    -0.1         93.200         -42.0         4.120     5195.8     \n",
              "23     1.4         93.444         -36.1         4.968     5228.1     \n",
              "24    -1.7         94.215         -40.3         0.846     4991.6     \n",
              "25     1.4         93.918         -42.7         4.960     5228.1     \n",
              "26    -1.8         93.075         -47.1         1.423     5099.1     \n",
              "27    -3.4         92.649         -30.1         0.715     5017.5     \n",
              "28     1.4         93.918         -42.7         4.957     5228.1     \n",
              "29     1.4         93.918         -42.7         4.961     5228.1     \n",
              "30    -1.8         92.893         -46.2         1.270     5099.1     \n",
              "⋮     ⋮            ⋮              ⋮             ⋮         ⋮          \n",
              "10069 -1.8         92.893         -46.2         1.266     5099.1     \n",
              "10070 -0.1         93.200         -42.0         4.120     5195.8     \n",
              "10071 -2.9         92.963         -40.8         1.266     5076.2     \n",
              "10072  1.4         93.918         -42.7         4.963     5228.1     \n",
              "10073  1.4         93.918         -42.7         4.958     5228.1     \n",
              "10074 -2.9         92.963         -40.8         1.281     5076.2     \n",
              "10075 -1.7         94.215         -40.3         0.782     4991.6     \n",
              "10076 -1.8         93.075         -47.1         1.365     5099.1     \n",
              "10077  1.4         93.444         -36.1         4.963     5228.1     \n",
              "10078 -1.8         92.893         -46.2         1.313     5099.1     \n",
              "10079 -1.7         94.027         -38.3         0.898     4991.6     \n",
              "10080 -0.1         93.200         -42.0         4.120     5195.8     \n",
              "10081  1.1         93.994         -36.4         4.858     5191.0     \n",
              "10082 -0.1         93.200         -42.0         4.191     5195.8     \n",
              "10083  1.1         93.994         -36.4         4.859     5191.0     \n",
              "10084 -1.8         93.369         -34.8         0.635     5008.7     \n",
              "10085  1.4         93.444         -36.1         4.968     5228.1     \n",
              "10086 -1.7         94.055         -39.8         0.767     4991.6     \n",
              "10087  1.4         93.918         -42.7         4.962     5228.1     \n",
              "10088  1.4         94.465         -41.8         4.961     5228.1     \n",
              "10089 -0.1         93.200         -42.0         4.120     5195.8     \n",
              "10090 -3.4         92.379         -29.8         0.755     5017.5     \n",
              "10091  1.4         94.465         -41.8         4.962     5228.1     \n",
              "10092  1.4         93.444         -36.1         4.963     5228.1     \n",
              "10093 -2.9         92.963         -40.8         1.268     5076.2     \n",
              "10094 -1.8         93.075         -47.1         1.365     5099.1     \n",
              "10095  1.1         93.994         -36.4         4.857     5191.0     \n",
              "10096 -1.8         92.893         -46.2         1.334     5099.1     \n",
              "10097 -1.8         92.893         -46.2         1.291     5099.1     \n",
              "10098 -3.4         92.431         -26.9         0.739     5017.5     \n",
              "      termDeposit\n",
              "1     no         \n",
              "2     no         \n",
              "3     no         \n",
              "4     no         \n",
              "5     no         \n",
              "6     yes        \n",
              "7     no         \n",
              "8     yes        \n",
              "9     yes        \n",
              "10    no         \n",
              "11    no         \n",
              "12    no         \n",
              "13    no         \n",
              "14    no         \n",
              "15    yes        \n",
              "16    yes        \n",
              "17    yes        \n",
              "18    yes        \n",
              "19    no         \n",
              "20    yes        \n",
              "21    no         \n",
              "22    no         \n",
              "23    no         \n",
              "24    yes        \n",
              "25    yes        \n",
              "26    yes        \n",
              "27    yes        \n",
              "28    yes        \n",
              "29    no         \n",
              "30    no         \n",
              "⋮     ⋮          \n",
              "10069 yes        \n",
              "10070 no         \n",
              "10071 no         \n",
              "10072 no         \n",
              "10073 no         \n",
              "10074 yes        \n",
              "10075 no         \n",
              "10076 no         \n",
              "10077 no         \n",
              "10078 yes        \n",
              "10079 yes        \n",
              "10080 no         \n",
              "10081 no         \n",
              "10082 no         \n",
              "10083 yes        \n",
              "10084 yes        \n",
              "10085 no         \n",
              "10086 no         \n",
              "10087 no         \n",
              "10088 yes        \n",
              "10089 no         \n",
              "10090 yes        \n",
              "10091 no         \n",
              "10092 no         \n",
              "10093 yes        \n",
              "10094 yes        \n",
              "10095 no         \n",
              "10096 no         \n",
              "10097 no         \n",
              "10098 yes        "
            ],
            "text/latex": "A tibble: 10098 × 20\n\\begin{tabular}{llllllllllllllllllll}\n age & job & marital & education & default & housing & loan & contact & month & day\\_of\\_week & duration & campaign & pdays & poutcome & emp.var.rate & cons.price.idx & cons.conf.idx & euribor3m & nr.employed & termDeposit\\\\\n <int> & <chr> & <chr> & <chr> & <chr> & <chr> & <chr> & <chr> & <chr> & <chr> & <int> & <int> & <int> & <chr> & <dbl> & <dbl> & <dbl> & <dbl> & <dbl> & <chr>\\\\\n\\hline\n\t 41 & technician    & single   & university.degree   & no      & no      & no      & cellular  & nov & fri &  903 & 3 & 999 & failure     & -0.1 & 93.200 & -42.0 & 4.021 & 5195.8 & no \\\\\n\t 57 & retired       & single   & high.school         & no      & no      & no      & telephone & jun & fri &   74 & 3 & 999 & nonexistent &  1.4 & 94.465 & -41.8 & 4.959 & 5228.1 & no \\\\\n\t 34 & technician    & married  & professional.course & unknown & yes     & no      & cellular  & jul & wed &   75 & 5 & 999 & nonexistent &  1.4 & 93.918 & -42.7 & 4.963 & 5228.1 & no \\\\\n\t 54 & management    & married  & university.degree   & no      & no      & no      & cellular  & nov & mon &   59 & 1 & 999 & nonexistent & -0.1 & 93.200 & -42.0 & 4.191 & 5195.8 & no \\\\\n\t 49 & blue-collar   & married  & basic.4y            & unknown & no      & no      & telephone & may & mon &  252 & 1 & 999 & nonexistent &  1.1 & 93.994 & -36.4 & 4.857 & 5191.0 & no \\\\\n\t 73 & retired       & married  & unknown             & no      & yes     & no      & telephone & mar & mon &  659 & 1 & 999 & nonexistent & -1.8 & 93.369 & -34.8 & 0.652 & 5008.7 & yes\\\\\n\t 40 & technician    & married  & professional.course & unknown & no      & no      & telephone & jun & mon &   21 & 1 & 999 & nonexistent &  1.4 & 94.465 & -41.8 & 4.865 & 5228.1 & no \\\\\n\t 34 & entrepreneur  & married  & university.degree   & unknown & yes     & no      & cellular  & nov & mon & 2462 & 2 & 999 & nonexistent & -0.1 & 93.200 & -42.0 & 4.191 & 5195.8 & yes\\\\\n\t 56 & entrepreneur  & married  & university.degree   & no      & yes     & no      & cellular  & apr & thu &  266 & 1 & 999 & nonexistent & -1.8 & 93.075 & -47.1 & 1.365 & 5099.1 & yes\\\\\n\t 41 & management    & married  & university.degree   & no      & yes     & no      & telephone & may & wed &  205 & 7 & 999 & nonexistent &  1.1 & 93.994 & -36.4 & 4.857 & 5191.0 & no \\\\\n\t 46 & blue-collar   & married  & professional.course & no      & no      & no      & cellular  & nov & fri &  383 & 1 & 999 & nonexistent & -1.1 & 94.767 & -50.8 & 1.028 & 4963.6 & no \\\\\n\t 37 & admin.        & married  & high.school         & no      & unknown & unknown & cellular  & nov & thu &  518 & 2 & 999 & nonexistent & -0.1 & 93.200 & -42.0 & 4.076 & 5195.8 & no \\\\\n\t 26 & blue-collar   & single   & basic.9y            & no      & yes     & no      & cellular  & may & wed &  200 & 2 & 999 & failure     & -1.8 & 92.893 & -46.2 & 1.281 & 5099.1 & no \\\\\n\t 41 & management    & married  & high.school         & unknown & yes     & no      & cellular  & may & tue &  527 & 2 & 999 & nonexistent & -1.8 & 92.893 & -46.2 & 1.291 & 5099.1 & no \\\\\n\t 55 & technician    & married  & university.degree   & no      & yes     & yes     & cellular  & may & thu &  895 & 2 & 999 & failure     & -1.8 & 92.893 & -46.2 & 1.327 & 5099.1 & yes\\\\\n\t 33 & management    & married  & university.degree   & no      & no      & no      & telephone & aug & thu &  201 & 1 &   6 & success     & -1.7 & 94.027 & -38.3 & 0.899 & 4991.6 & yes\\\\\n\t 40 & blue-collar   & married  & basic.9y            & no      & no      & no      & cellular  & apr & thu &  328 & 1 & 999 & nonexistent & -1.8 & 93.075 & -47.1 & 1.365 & 5099.1 & yes\\\\\n\t 26 & management    & single   & university.degree   & no      & no      & no      & cellular  & may & thu &  715 & 1 & 999 & nonexistent & -1.8 & 92.893 & -46.2 & 1.266 & 5099.1 & yes\\\\\n\t 57 & technician    & married  & high.school         & no      & yes     & no      & cellular  & may & mon &  758 & 1 & 999 & failure     & -1.8 & 92.893 & -46.2 & 1.299 & 5099.1 & no \\\\\n\t 28 & blue-collar   & single   & university.degree   & no      & no      & no      & cellular  & apr & tue &  107 & 3 & 999 & nonexistent & -1.8 & 93.075 & -47.1 & 1.423 & 5099.1 & yes\\\\\n\t 31 & self-employed & married  & university.degree   & no      & no      & yes     & telephone & may & thu &   66 & 6 & 999 & nonexistent &  1.1 & 93.994 & -36.4 & 4.860 & 5191.0 & no \\\\\n\t 56 & management    & divorced & university.degree   & no      & no      & no      & cellular  & nov & wed &   90 & 2 & 999 & nonexistent & -0.1 & 93.200 & -42.0 & 4.120 & 5195.8 & no \\\\\n\t 46 & technician    & married  & professional.course & unknown & no      & no      & cellular  & aug & thu &  166 & 3 & 999 & nonexistent &  1.4 & 93.444 & -36.1 & 4.968 & 5228.1 & no \\\\\n\t 23 & blue-collar   & single   & basic.9y            & no      & yes     & no      & cellular  & jul & thu &  268 & 5 & 999 & failure     & -1.7 & 94.215 & -40.3 & 0.846 & 4991.6 & yes\\\\\n\t 43 & services      & married  & high.school         & no      & yes     & yes     & cellular  & jul & mon & 1212 & 1 & 999 & nonexistent &  1.4 & 93.918 & -42.7 & 4.960 & 5228.1 & yes\\\\\n\t 26 & unemployed    & single   & university.degree   & no      & yes     & no      & cellular  & apr & tue &  184 & 1 & 999 & nonexistent & -1.8 & 93.075 & -47.1 & 1.423 & 5099.1 & yes\\\\\n\t 52 & admin.        & divorced & university.degree   & no      & no      & no      & cellular  & nov & tue &  213 & 1 & 999 & nonexistent & -3.4 & 92.649 & -30.1 & 0.715 & 5017.5 & yes\\\\\n\t 27 & admin.        & married  & university.degree   & no      & yes     & no      & cellular  & jul & fri &  494 & 1 & 999 & nonexistent &  1.4 & 93.918 & -42.7 & 4.957 & 5228.1 & yes\\\\\n\t 33 & blue-collar   & divorced & basic.9y            & no      & no      & no      & cellular  & jul & tue &  134 & 1 & 999 & nonexistent &  1.4 & 93.918 & -42.7 & 4.961 & 5228.1 & no \\\\\n\t 34 & admin.        & married  & university.degree   & no      & yes     & no      & cellular  & may & wed &   95 & 1 & 999 & failure     & -1.8 & 92.893 & -46.2 & 1.270 & 5099.1 & no \\\\\n\t ⋮ & ⋮ & ⋮ & ⋮ & ⋮ & ⋮ & ⋮ & ⋮ & ⋮ & ⋮ & ⋮ & ⋮ & ⋮ & ⋮ & ⋮ & ⋮ & ⋮ & ⋮ & ⋮ & ⋮\\\\\n\t 31 & blue-collar   & single   & basic.9y            & no      & no  & no  & cellular  & may & thu & 191 &  1 & 999 & failure     & -1.8 & 92.893 & -46.2 & 1.266 & 5099.1 & yes\\\\\n\t 35 & housemaid     & divorced & basic.9y            & no      & no  & no  & cellular  & nov & wed &  60 &  1 & 999 & failure     & -0.1 & 93.200 & -42.0 & 4.120 & 5195.8 & no \\\\\n\t 31 & services      & married  & basic.9y            & no      & yes & no  & cellular  & jun & mon & 208 &  1 & 999 & nonexistent & -2.9 & 92.963 & -40.8 & 1.266 & 5076.2 & no \\\\\n\t 32 & blue-collar   & divorced & professional.course & no      & no  & no  & cellular  & jul & fri & 261 & 13 & 999 & nonexistent &  1.4 & 93.918 & -42.7 & 4.963 & 5228.1 & no \\\\\n\t 42 & entrepreneur  & married  & basic.4y            & unknown & yes & no  & telephone & jul & thu & 485 &  2 & 999 & nonexistent &  1.4 & 93.918 & -42.7 & 4.958 & 5228.1 & no \\\\\n\t 27 & blue-collar   & single   & high.school         & no      & yes & no  & cellular  & jun & mon & 148 &  2 &   4 & success     & -2.9 & 92.963 & -40.8 & 1.281 & 5076.2 & yes\\\\\n\t 37 & admin.        & single   & high.school         & no      & no  & no  & telephone & jul & thu & 494 &  4 & 999 & failure     & -1.7 & 94.215 & -40.3 & 0.782 & 4991.6 & no \\\\\n\t 54 & management    & married  & university.degree   & no      & yes & no  & cellular  & apr & thu &  85 &  1 & 999 & nonexistent & -1.8 & 93.075 & -47.1 & 1.365 & 5099.1 & no \\\\\n\t 30 & admin.        & married  & university.degree   & unknown & yes & no  & cellular  & aug & mon & 114 &  2 & 999 & nonexistent &  1.4 & 93.444 & -36.1 & 4.963 & 5228.1 & no \\\\\n\t 42 & admin.        & divorced & university.degree   & no      & no  & no  & cellular  & may & fri & 308 &  3 & 999 & nonexistent & -1.8 & 92.893 & -46.2 & 1.313 & 5099.1 & yes\\\\\n\t 25 & student       & single   & high.school         & no      & yes & yes & telephone & aug & fri & 461 &  1 & 999 & nonexistent & -1.7 & 94.027 & -38.3 & 0.898 & 4991.6 & yes\\\\\n\t 47 & services      & married  & high.school         & no      & yes & no  & cellular  & nov & wed & 311 &  1 & 999 & nonexistent & -0.1 & 93.200 & -42.0 & 4.120 & 5195.8 & no \\\\\n\t 41 & blue-collar   & married  & basic.4y            & unknown & no  & no  & telephone & may & wed &  16 &  1 & 999 & nonexistent &  1.1 & 93.994 & -36.4 & 4.858 & 5191.0 & no \\\\\n\t 32 & admin.        & single   & high.school         & no      & yes & no  & cellular  & nov & mon & 333 &  2 & 999 & nonexistent & -0.1 & 93.200 & -42.0 & 4.191 & 5195.8 & no \\\\\n\t 26 & admin.        & single   & high.school         & no      & no  & no  & telephone & may & fri & 619 &  2 & 999 & nonexistent &  1.1 & 93.994 & -36.4 & 4.859 & 5191.0 & yes\\\\\n\t 27 & admin.        & single   & university.degree   & no      & no  & no  & cellular  & mar & tue & 238 &  4 & 999 & nonexistent & -1.8 & 93.369 & -34.8 & 0.635 & 5008.7 & yes\\\\\n\t 47 & admin.        & single   & university.degree   & no      & yes & no  & cellular  & aug & thu & 156 &  4 & 999 & nonexistent &  1.4 & 93.444 & -36.1 & 4.968 & 5228.1 & no \\\\\n\t 29 & technician    & single   & high.school         & no      & yes & no  & telephone & jun & wed &   6 &  1 & 999 & nonexistent & -1.7 & 94.055 & -39.8 & 0.767 & 4991.6 & no \\\\\n\t 57 & blue-collar   & married  & basic.4y            & no      & yes & no  & cellular  & jul & mon &  76 &  2 & 999 & nonexistent &  1.4 & 93.918 & -42.7 & 4.962 & 5228.1 & no \\\\\n\t 24 & services      & single   & high.school         & no      & no  & no  & telephone & jun & mon & 700 &  1 & 999 & nonexistent &  1.4 & 94.465 & -41.8 & 4.961 & 5228.1 & yes\\\\\n\t 34 & management    & married  & university.degree   & no      & yes & no  & cellular  & nov & wed &  96 &  1 & 999 & nonexistent & -0.1 & 93.200 & -42.0 & 4.120 & 5195.8 & no \\\\\n\t 60 & self-employed & divorced & university.degree   & no      & no  & no  & cellular  & sep & tue &  83 &  1 &   3 & success     & -3.4 & 92.379 & -29.8 & 0.755 & 5017.5 & yes\\\\\n\t 33 & admin.        & married  & high.school         & no      & no  & no  & telephone & jun & wed &  43 &  4 & 999 & nonexistent &  1.4 & 94.465 & -41.8 & 4.962 & 5228.1 & no \\\\\n\t 32 & technician    & married  & professional.course & no      & no  & no  & cellular  & aug & tue & 215 &  1 & 999 & nonexistent &  1.4 & 93.444 & -36.1 & 4.963 & 5228.1 & no \\\\\n\t 35 & technician    & married  & professional.course & no      & yes & no  & telephone & jun & fri & 366 &  1 & 999 & nonexistent & -2.9 & 92.963 & -40.8 & 1.268 & 5076.2 & yes\\\\\n\t 29 & admin.        & single   & professional.course & no      & no  & no  & cellular  & apr & thu & 427 &  3 & 999 & nonexistent & -1.8 & 93.075 & -47.1 & 1.365 & 5099.1 & yes\\\\\n\t 44 & admin.        & married  & high.school         & no      & yes & no  & telephone & may & mon &  96 &  2 & 999 & nonexistent &  1.1 & 93.994 & -36.4 & 4.857 & 5191.0 & no \\\\\n\t 34 & blue-collar   & married  & basic.9y            & no      & yes & no  & cellular  & may & wed & 157 &  3 & 999 & failure     & -1.8 & 92.893 & -46.2 & 1.334 & 5099.1 & no \\\\\n\t 41 & housemaid     & married  & basic.4y            & no      & no  & no  & cellular  & may & tue &  66 &  1 & 999 & nonexistent & -1.8 & 92.893 & -46.2 & 1.291 & 5099.1 & no \\\\\n\t 39 & technician    & married  & university.degree   & no      & no  & no  & cellular  & oct & fri & 170 &  1 &   6 & success     & -3.4 & 92.431 & -26.9 & 0.739 & 5017.5 & yes\\\\\n\\end{tabular}\n",
            "text/markdown": "\nA tibble: 10098 × 20\n\n| age &lt;int&gt; | job &lt;chr&gt; | marital &lt;chr&gt; | education &lt;chr&gt; | default &lt;chr&gt; | housing &lt;chr&gt; | loan &lt;chr&gt; | contact &lt;chr&gt; | month &lt;chr&gt; | day_of_week &lt;chr&gt; | duration &lt;int&gt; | campaign &lt;int&gt; | pdays &lt;int&gt; | poutcome &lt;chr&gt; | emp.var.rate &lt;dbl&gt; | cons.price.idx &lt;dbl&gt; | cons.conf.idx &lt;dbl&gt; | euribor3m &lt;dbl&gt; | nr.employed &lt;dbl&gt; | termDeposit &lt;chr&gt; |\n|---|---|---|---|---|---|---|---|---|---|---|---|---|---|---|---|---|---|---|---|\n| 41 | technician    | single   | university.degree   | no      | no      | no      | cellular  | nov | fri |  903 | 3 | 999 | failure     | -0.1 | 93.200 | -42.0 | 4.021 | 5195.8 | no  |\n| 57 | retired       | single   | high.school         | no      | no      | no      | telephone | jun | fri |   74 | 3 | 999 | nonexistent |  1.4 | 94.465 | -41.8 | 4.959 | 5228.1 | no  |\n| 34 | technician    | married  | professional.course | unknown | yes     | no      | cellular  | jul | wed |   75 | 5 | 999 | nonexistent |  1.4 | 93.918 | -42.7 | 4.963 | 5228.1 | no  |\n| 54 | management    | married  | university.degree   | no      | no      | no      | cellular  | nov | mon |   59 | 1 | 999 | nonexistent | -0.1 | 93.200 | -42.0 | 4.191 | 5195.8 | no  |\n| 49 | blue-collar   | married  | basic.4y            | unknown | no      | no      | telephone | may | mon |  252 | 1 | 999 | nonexistent |  1.1 | 93.994 | -36.4 | 4.857 | 5191.0 | no  |\n| 73 | retired       | married  | unknown             | no      | yes     | no      | telephone | mar | mon |  659 | 1 | 999 | nonexistent | -1.8 | 93.369 | -34.8 | 0.652 | 5008.7 | yes |\n| 40 | technician    | married  | professional.course | unknown | no      | no      | telephone | jun | mon |   21 | 1 | 999 | nonexistent |  1.4 | 94.465 | -41.8 | 4.865 | 5228.1 | no  |\n| 34 | entrepreneur  | married  | university.degree   | unknown | yes     | no      | cellular  | nov | mon | 2462 | 2 | 999 | nonexistent | -0.1 | 93.200 | -42.0 | 4.191 | 5195.8 | yes |\n| 56 | entrepreneur  | married  | university.degree   | no      | yes     | no      | cellular  | apr | thu |  266 | 1 | 999 | nonexistent | -1.8 | 93.075 | -47.1 | 1.365 | 5099.1 | yes |\n| 41 | management    | married  | university.degree   | no      | yes     | no      | telephone | may | wed |  205 | 7 | 999 | nonexistent |  1.1 | 93.994 | -36.4 | 4.857 | 5191.0 | no  |\n| 46 | blue-collar   | married  | professional.course | no      | no      | no      | cellular  | nov | fri |  383 | 1 | 999 | nonexistent | -1.1 | 94.767 | -50.8 | 1.028 | 4963.6 | no  |\n| 37 | admin.        | married  | high.school         | no      | unknown | unknown | cellular  | nov | thu |  518 | 2 | 999 | nonexistent | -0.1 | 93.200 | -42.0 | 4.076 | 5195.8 | no  |\n| 26 | blue-collar   | single   | basic.9y            | no      | yes     | no      | cellular  | may | wed |  200 | 2 | 999 | failure     | -1.8 | 92.893 | -46.2 | 1.281 | 5099.1 | no  |\n| 41 | management    | married  | high.school         | unknown | yes     | no      | cellular  | may | tue |  527 | 2 | 999 | nonexistent | -1.8 | 92.893 | -46.2 | 1.291 | 5099.1 | no  |\n| 55 | technician    | married  | university.degree   | no      | yes     | yes     | cellular  | may | thu |  895 | 2 | 999 | failure     | -1.8 | 92.893 | -46.2 | 1.327 | 5099.1 | yes |\n| 33 | management    | married  | university.degree   | no      | no      | no      | telephone | aug | thu |  201 | 1 |   6 | success     | -1.7 | 94.027 | -38.3 | 0.899 | 4991.6 | yes |\n| 40 | blue-collar   | married  | basic.9y            | no      | no      | no      | cellular  | apr | thu |  328 | 1 | 999 | nonexistent | -1.8 | 93.075 | -47.1 | 1.365 | 5099.1 | yes |\n| 26 | management    | single   | university.degree   | no      | no      | no      | cellular  | may | thu |  715 | 1 | 999 | nonexistent | -1.8 | 92.893 | -46.2 | 1.266 | 5099.1 | yes |\n| 57 | technician    | married  | high.school         | no      | yes     | no      | cellular  | may | mon |  758 | 1 | 999 | failure     | -1.8 | 92.893 | -46.2 | 1.299 | 5099.1 | no  |\n| 28 | blue-collar   | single   | university.degree   | no      | no      | no      | cellular  | apr | tue |  107 | 3 | 999 | nonexistent | -1.8 | 93.075 | -47.1 | 1.423 | 5099.1 | yes |\n| 31 | self-employed | married  | university.degree   | no      | no      | yes     | telephone | may | thu |   66 | 6 | 999 | nonexistent |  1.1 | 93.994 | -36.4 | 4.860 | 5191.0 | no  |\n| 56 | management    | divorced | university.degree   | no      | no      | no      | cellular  | nov | wed |   90 | 2 | 999 | nonexistent | -0.1 | 93.200 | -42.0 | 4.120 | 5195.8 | no  |\n| 46 | technician    | married  | professional.course | unknown | no      | no      | cellular  | aug | thu |  166 | 3 | 999 | nonexistent |  1.4 | 93.444 | -36.1 | 4.968 | 5228.1 | no  |\n| 23 | blue-collar   | single   | basic.9y            | no      | yes     | no      | cellular  | jul | thu |  268 | 5 | 999 | failure     | -1.7 | 94.215 | -40.3 | 0.846 | 4991.6 | yes |\n| 43 | services      | married  | high.school         | no      | yes     | yes     | cellular  | jul | mon | 1212 | 1 | 999 | nonexistent |  1.4 | 93.918 | -42.7 | 4.960 | 5228.1 | yes |\n| 26 | unemployed    | single   | university.degree   | no      | yes     | no      | cellular  | apr | tue |  184 | 1 | 999 | nonexistent | -1.8 | 93.075 | -47.1 | 1.423 | 5099.1 | yes |\n| 52 | admin.        | divorced | university.degree   | no      | no      | no      | cellular  | nov | tue |  213 | 1 | 999 | nonexistent | -3.4 | 92.649 | -30.1 | 0.715 | 5017.5 | yes |\n| 27 | admin.        | married  | university.degree   | no      | yes     | no      | cellular  | jul | fri |  494 | 1 | 999 | nonexistent |  1.4 | 93.918 | -42.7 | 4.957 | 5228.1 | yes |\n| 33 | blue-collar   | divorced | basic.9y            | no      | no      | no      | cellular  | jul | tue |  134 | 1 | 999 | nonexistent |  1.4 | 93.918 | -42.7 | 4.961 | 5228.1 | no  |\n| 34 | admin.        | married  | university.degree   | no      | yes     | no      | cellular  | may | wed |   95 | 1 | 999 | failure     | -1.8 | 92.893 | -46.2 | 1.270 | 5099.1 | no  |\n| ⋮ | ⋮ | ⋮ | ⋮ | ⋮ | ⋮ | ⋮ | ⋮ | ⋮ | ⋮ | ⋮ | ⋮ | ⋮ | ⋮ | ⋮ | ⋮ | ⋮ | ⋮ | ⋮ | ⋮ |\n| 31 | blue-collar   | single   | basic.9y            | no      | no  | no  | cellular  | may | thu | 191 |  1 | 999 | failure     | -1.8 | 92.893 | -46.2 | 1.266 | 5099.1 | yes |\n| 35 | housemaid     | divorced | basic.9y            | no      | no  | no  | cellular  | nov | wed |  60 |  1 | 999 | failure     | -0.1 | 93.200 | -42.0 | 4.120 | 5195.8 | no  |\n| 31 | services      | married  | basic.9y            | no      | yes | no  | cellular  | jun | mon | 208 |  1 | 999 | nonexistent | -2.9 | 92.963 | -40.8 | 1.266 | 5076.2 | no  |\n| 32 | blue-collar   | divorced | professional.course | no      | no  | no  | cellular  | jul | fri | 261 | 13 | 999 | nonexistent |  1.4 | 93.918 | -42.7 | 4.963 | 5228.1 | no  |\n| 42 | entrepreneur  | married  | basic.4y            | unknown | yes | no  | telephone | jul | thu | 485 |  2 | 999 | nonexistent |  1.4 | 93.918 | -42.7 | 4.958 | 5228.1 | no  |\n| 27 | blue-collar   | single   | high.school         | no      | yes | no  | cellular  | jun | mon | 148 |  2 |   4 | success     | -2.9 | 92.963 | -40.8 | 1.281 | 5076.2 | yes |\n| 37 | admin.        | single   | high.school         | no      | no  | no  | telephone | jul | thu | 494 |  4 | 999 | failure     | -1.7 | 94.215 | -40.3 | 0.782 | 4991.6 | no  |\n| 54 | management    | married  | university.degree   | no      | yes | no  | cellular  | apr | thu |  85 |  1 | 999 | nonexistent | -1.8 | 93.075 | -47.1 | 1.365 | 5099.1 | no  |\n| 30 | admin.        | married  | university.degree   | unknown | yes | no  | cellular  | aug | mon | 114 |  2 | 999 | nonexistent |  1.4 | 93.444 | -36.1 | 4.963 | 5228.1 | no  |\n| 42 | admin.        | divorced | university.degree   | no      | no  | no  | cellular  | may | fri | 308 |  3 | 999 | nonexistent | -1.8 | 92.893 | -46.2 | 1.313 | 5099.1 | yes |\n| 25 | student       | single   | high.school         | no      | yes | yes | telephone | aug | fri | 461 |  1 | 999 | nonexistent | -1.7 | 94.027 | -38.3 | 0.898 | 4991.6 | yes |\n| 47 | services      | married  | high.school         | no      | yes | no  | cellular  | nov | wed | 311 |  1 | 999 | nonexistent | -0.1 | 93.200 | -42.0 | 4.120 | 5195.8 | no  |\n| 41 | blue-collar   | married  | basic.4y            | unknown | no  | no  | telephone | may | wed |  16 |  1 | 999 | nonexistent |  1.1 | 93.994 | -36.4 | 4.858 | 5191.0 | no  |\n| 32 | admin.        | single   | high.school         | no      | yes | no  | cellular  | nov | mon | 333 |  2 | 999 | nonexistent | -0.1 | 93.200 | -42.0 | 4.191 | 5195.8 | no  |\n| 26 | admin.        | single   | high.school         | no      | no  | no  | telephone | may | fri | 619 |  2 | 999 | nonexistent |  1.1 | 93.994 | -36.4 | 4.859 | 5191.0 | yes |\n| 27 | admin.        | single   | university.degree   | no      | no  | no  | cellular  | mar | tue | 238 |  4 | 999 | nonexistent | -1.8 | 93.369 | -34.8 | 0.635 | 5008.7 | yes |\n| 47 | admin.        | single   | university.degree   | no      | yes | no  | cellular  | aug | thu | 156 |  4 | 999 | nonexistent |  1.4 | 93.444 | -36.1 | 4.968 | 5228.1 | no  |\n| 29 | technician    | single   | high.school         | no      | yes | no  | telephone | jun | wed |   6 |  1 | 999 | nonexistent | -1.7 | 94.055 | -39.8 | 0.767 | 4991.6 | no  |\n| 57 | blue-collar   | married  | basic.4y            | no      | yes | no  | cellular  | jul | mon |  76 |  2 | 999 | nonexistent |  1.4 | 93.918 | -42.7 | 4.962 | 5228.1 | no  |\n| 24 | services      | single   | high.school         | no      | no  | no  | telephone | jun | mon | 700 |  1 | 999 | nonexistent |  1.4 | 94.465 | -41.8 | 4.961 | 5228.1 | yes |\n| 34 | management    | married  | university.degree   | no      | yes | no  | cellular  | nov | wed |  96 |  1 | 999 | nonexistent | -0.1 | 93.200 | -42.0 | 4.120 | 5195.8 | no  |\n| 60 | self-employed | divorced | university.degree   | no      | no  | no  | cellular  | sep | tue |  83 |  1 |   3 | success     | -3.4 | 92.379 | -29.8 | 0.755 | 5017.5 | yes |\n| 33 | admin.        | married  | high.school         | no      | no  | no  | telephone | jun | wed |  43 |  4 | 999 | nonexistent |  1.4 | 94.465 | -41.8 | 4.962 | 5228.1 | no  |\n| 32 | technician    | married  | professional.course | no      | no  | no  | cellular  | aug | tue | 215 |  1 | 999 | nonexistent |  1.4 | 93.444 | -36.1 | 4.963 | 5228.1 | no  |\n| 35 | technician    | married  | professional.course | no      | yes | no  | telephone | jun | fri | 366 |  1 | 999 | nonexistent | -2.9 | 92.963 | -40.8 | 1.268 | 5076.2 | yes |\n| 29 | admin.        | single   | professional.course | no      | no  | no  | cellular  | apr | thu | 427 |  3 | 999 | nonexistent | -1.8 | 93.075 | -47.1 | 1.365 | 5099.1 | yes |\n| 44 | admin.        | married  | high.school         | no      | yes | no  | telephone | may | mon |  96 |  2 | 999 | nonexistent |  1.1 | 93.994 | -36.4 | 4.857 | 5191.0 | no  |\n| 34 | blue-collar   | married  | basic.9y            | no      | yes | no  | cellular  | may | wed | 157 |  3 | 999 | failure     | -1.8 | 92.893 | -46.2 | 1.334 | 5099.1 | no  |\n| 41 | housemaid     | married  | basic.4y            | no      | no  | no  | cellular  | may | tue |  66 |  1 | 999 | nonexistent | -1.8 | 92.893 | -46.2 | 1.291 | 5099.1 | no  |\n| 39 | technician    | married  | university.degree   | no      | no  | no  | cellular  | oct | fri | 170 |  1 |   6 | success     | -3.4 | 92.431 | -26.9 | 0.739 | 5017.5 | yes |\n\n",
            "text/html": [
              "<table>\n",
              "<caption>A tibble: 10098 × 20</caption>\n",
              "<thead>\n",
              "\t<tr><th scope=col>age</th><th scope=col>job</th><th scope=col>marital</th><th scope=col>education</th><th scope=col>default</th><th scope=col>housing</th><th scope=col>loan</th><th scope=col>contact</th><th scope=col>month</th><th scope=col>day_of_week</th><th scope=col>duration</th><th scope=col>campaign</th><th scope=col>pdays</th><th scope=col>poutcome</th><th scope=col>emp.var.rate</th><th scope=col>cons.price.idx</th><th scope=col>cons.conf.idx</th><th scope=col>euribor3m</th><th scope=col>nr.employed</th><th scope=col>termDeposit</th></tr>\n",
              "\t<tr><th scope=col>&lt;int&gt;</th><th scope=col>&lt;chr&gt;</th><th scope=col>&lt;chr&gt;</th><th scope=col>&lt;chr&gt;</th><th scope=col>&lt;chr&gt;</th><th scope=col>&lt;chr&gt;</th><th scope=col>&lt;chr&gt;</th><th scope=col>&lt;chr&gt;</th><th scope=col>&lt;chr&gt;</th><th scope=col>&lt;chr&gt;</th><th scope=col>&lt;int&gt;</th><th scope=col>&lt;int&gt;</th><th scope=col>&lt;int&gt;</th><th scope=col>&lt;chr&gt;</th><th scope=col>&lt;dbl&gt;</th><th scope=col>&lt;dbl&gt;</th><th scope=col>&lt;dbl&gt;</th><th scope=col>&lt;dbl&gt;</th><th scope=col>&lt;dbl&gt;</th><th scope=col>&lt;chr&gt;</th></tr>\n",
              "</thead>\n",
              "<tbody>\n",
              "\t<tr><td>41</td><td>technician   </td><td>single  </td><td>university.degree  </td><td>no     </td><td>no     </td><td>no     </td><td>cellular </td><td>nov</td><td>fri</td><td> 903</td><td>3</td><td>999</td><td>failure    </td><td>-0.1</td><td>93.200</td><td>-42.0</td><td>4.021</td><td>5195.8</td><td>no </td></tr>\n",
              "\t<tr><td>57</td><td>retired      </td><td>single  </td><td>high.school        </td><td>no     </td><td>no     </td><td>no     </td><td>telephone</td><td>jun</td><td>fri</td><td>  74</td><td>3</td><td>999</td><td>nonexistent</td><td> 1.4</td><td>94.465</td><td>-41.8</td><td>4.959</td><td>5228.1</td><td>no </td></tr>\n",
              "\t<tr><td>34</td><td>technician   </td><td>married </td><td>professional.course</td><td>unknown</td><td>yes    </td><td>no     </td><td>cellular </td><td>jul</td><td>wed</td><td>  75</td><td>5</td><td>999</td><td>nonexistent</td><td> 1.4</td><td>93.918</td><td>-42.7</td><td>4.963</td><td>5228.1</td><td>no </td></tr>\n",
              "\t<tr><td>54</td><td>management   </td><td>married </td><td>university.degree  </td><td>no     </td><td>no     </td><td>no     </td><td>cellular </td><td>nov</td><td>mon</td><td>  59</td><td>1</td><td>999</td><td>nonexistent</td><td>-0.1</td><td>93.200</td><td>-42.0</td><td>4.191</td><td>5195.8</td><td>no </td></tr>\n",
              "\t<tr><td>49</td><td>blue-collar  </td><td>married </td><td>basic.4y           </td><td>unknown</td><td>no     </td><td>no     </td><td>telephone</td><td>may</td><td>mon</td><td> 252</td><td>1</td><td>999</td><td>nonexistent</td><td> 1.1</td><td>93.994</td><td>-36.4</td><td>4.857</td><td>5191.0</td><td>no </td></tr>\n",
              "\t<tr><td>73</td><td>retired      </td><td>married </td><td>unknown            </td><td>no     </td><td>yes    </td><td>no     </td><td>telephone</td><td>mar</td><td>mon</td><td> 659</td><td>1</td><td>999</td><td>nonexistent</td><td>-1.8</td><td>93.369</td><td>-34.8</td><td>0.652</td><td>5008.7</td><td>yes</td></tr>\n",
              "\t<tr><td>40</td><td>technician   </td><td>married </td><td>professional.course</td><td>unknown</td><td>no     </td><td>no     </td><td>telephone</td><td>jun</td><td>mon</td><td>  21</td><td>1</td><td>999</td><td>nonexistent</td><td> 1.4</td><td>94.465</td><td>-41.8</td><td>4.865</td><td>5228.1</td><td>no </td></tr>\n",
              "\t<tr><td>34</td><td>entrepreneur </td><td>married </td><td>university.degree  </td><td>unknown</td><td>yes    </td><td>no     </td><td>cellular </td><td>nov</td><td>mon</td><td>2462</td><td>2</td><td>999</td><td>nonexistent</td><td>-0.1</td><td>93.200</td><td>-42.0</td><td>4.191</td><td>5195.8</td><td>yes</td></tr>\n",
              "\t<tr><td>56</td><td>entrepreneur </td><td>married </td><td>university.degree  </td><td>no     </td><td>yes    </td><td>no     </td><td>cellular </td><td>apr</td><td>thu</td><td> 266</td><td>1</td><td>999</td><td>nonexistent</td><td>-1.8</td><td>93.075</td><td>-47.1</td><td>1.365</td><td>5099.1</td><td>yes</td></tr>\n",
              "\t<tr><td>41</td><td>management   </td><td>married </td><td>university.degree  </td><td>no     </td><td>yes    </td><td>no     </td><td>telephone</td><td>may</td><td>wed</td><td> 205</td><td>7</td><td>999</td><td>nonexistent</td><td> 1.1</td><td>93.994</td><td>-36.4</td><td>4.857</td><td>5191.0</td><td>no </td></tr>\n",
              "\t<tr><td>46</td><td>blue-collar  </td><td>married </td><td>professional.course</td><td>no     </td><td>no     </td><td>no     </td><td>cellular </td><td>nov</td><td>fri</td><td> 383</td><td>1</td><td>999</td><td>nonexistent</td><td>-1.1</td><td>94.767</td><td>-50.8</td><td>1.028</td><td>4963.6</td><td>no </td></tr>\n",
              "\t<tr><td>37</td><td>admin.       </td><td>married </td><td>high.school        </td><td>no     </td><td>unknown</td><td>unknown</td><td>cellular </td><td>nov</td><td>thu</td><td> 518</td><td>2</td><td>999</td><td>nonexistent</td><td>-0.1</td><td>93.200</td><td>-42.0</td><td>4.076</td><td>5195.8</td><td>no </td></tr>\n",
              "\t<tr><td>26</td><td>blue-collar  </td><td>single  </td><td>basic.9y           </td><td>no     </td><td>yes    </td><td>no     </td><td>cellular </td><td>may</td><td>wed</td><td> 200</td><td>2</td><td>999</td><td>failure    </td><td>-1.8</td><td>92.893</td><td>-46.2</td><td>1.281</td><td>5099.1</td><td>no </td></tr>\n",
              "\t<tr><td>41</td><td>management   </td><td>married </td><td>high.school        </td><td>unknown</td><td>yes    </td><td>no     </td><td>cellular </td><td>may</td><td>tue</td><td> 527</td><td>2</td><td>999</td><td>nonexistent</td><td>-1.8</td><td>92.893</td><td>-46.2</td><td>1.291</td><td>5099.1</td><td>no </td></tr>\n",
              "\t<tr><td>55</td><td>technician   </td><td>married </td><td>university.degree  </td><td>no     </td><td>yes    </td><td>yes    </td><td>cellular </td><td>may</td><td>thu</td><td> 895</td><td>2</td><td>999</td><td>failure    </td><td>-1.8</td><td>92.893</td><td>-46.2</td><td>1.327</td><td>5099.1</td><td>yes</td></tr>\n",
              "\t<tr><td>33</td><td>management   </td><td>married </td><td>university.degree  </td><td>no     </td><td>no     </td><td>no     </td><td>telephone</td><td>aug</td><td>thu</td><td> 201</td><td>1</td><td>  6</td><td>success    </td><td>-1.7</td><td>94.027</td><td>-38.3</td><td>0.899</td><td>4991.6</td><td>yes</td></tr>\n",
              "\t<tr><td>40</td><td>blue-collar  </td><td>married </td><td>basic.9y           </td><td>no     </td><td>no     </td><td>no     </td><td>cellular </td><td>apr</td><td>thu</td><td> 328</td><td>1</td><td>999</td><td>nonexistent</td><td>-1.8</td><td>93.075</td><td>-47.1</td><td>1.365</td><td>5099.1</td><td>yes</td></tr>\n",
              "\t<tr><td>26</td><td>management   </td><td>single  </td><td>university.degree  </td><td>no     </td><td>no     </td><td>no     </td><td>cellular </td><td>may</td><td>thu</td><td> 715</td><td>1</td><td>999</td><td>nonexistent</td><td>-1.8</td><td>92.893</td><td>-46.2</td><td>1.266</td><td>5099.1</td><td>yes</td></tr>\n",
              "\t<tr><td>57</td><td>technician   </td><td>married </td><td>high.school        </td><td>no     </td><td>yes    </td><td>no     </td><td>cellular </td><td>may</td><td>mon</td><td> 758</td><td>1</td><td>999</td><td>failure    </td><td>-1.8</td><td>92.893</td><td>-46.2</td><td>1.299</td><td>5099.1</td><td>no </td></tr>\n",
              "\t<tr><td>28</td><td>blue-collar  </td><td>single  </td><td>university.degree  </td><td>no     </td><td>no     </td><td>no     </td><td>cellular </td><td>apr</td><td>tue</td><td> 107</td><td>3</td><td>999</td><td>nonexistent</td><td>-1.8</td><td>93.075</td><td>-47.1</td><td>1.423</td><td>5099.1</td><td>yes</td></tr>\n",
              "\t<tr><td>31</td><td>self-employed</td><td>married </td><td>university.degree  </td><td>no     </td><td>no     </td><td>yes    </td><td>telephone</td><td>may</td><td>thu</td><td>  66</td><td>6</td><td>999</td><td>nonexistent</td><td> 1.1</td><td>93.994</td><td>-36.4</td><td>4.860</td><td>5191.0</td><td>no </td></tr>\n",
              "\t<tr><td>56</td><td>management   </td><td>divorced</td><td>university.degree  </td><td>no     </td><td>no     </td><td>no     </td><td>cellular </td><td>nov</td><td>wed</td><td>  90</td><td>2</td><td>999</td><td>nonexistent</td><td>-0.1</td><td>93.200</td><td>-42.0</td><td>4.120</td><td>5195.8</td><td>no </td></tr>\n",
              "\t<tr><td>46</td><td>technician   </td><td>married </td><td>professional.course</td><td>unknown</td><td>no     </td><td>no     </td><td>cellular </td><td>aug</td><td>thu</td><td> 166</td><td>3</td><td>999</td><td>nonexistent</td><td> 1.4</td><td>93.444</td><td>-36.1</td><td>4.968</td><td>5228.1</td><td>no </td></tr>\n",
              "\t<tr><td>23</td><td>blue-collar  </td><td>single  </td><td>basic.9y           </td><td>no     </td><td>yes    </td><td>no     </td><td>cellular </td><td>jul</td><td>thu</td><td> 268</td><td>5</td><td>999</td><td>failure    </td><td>-1.7</td><td>94.215</td><td>-40.3</td><td>0.846</td><td>4991.6</td><td>yes</td></tr>\n",
              "\t<tr><td>43</td><td>services     </td><td>married </td><td>high.school        </td><td>no     </td><td>yes    </td><td>yes    </td><td>cellular </td><td>jul</td><td>mon</td><td>1212</td><td>1</td><td>999</td><td>nonexistent</td><td> 1.4</td><td>93.918</td><td>-42.7</td><td>4.960</td><td>5228.1</td><td>yes</td></tr>\n",
              "\t<tr><td>26</td><td>unemployed   </td><td>single  </td><td>university.degree  </td><td>no     </td><td>yes    </td><td>no     </td><td>cellular </td><td>apr</td><td>tue</td><td> 184</td><td>1</td><td>999</td><td>nonexistent</td><td>-1.8</td><td>93.075</td><td>-47.1</td><td>1.423</td><td>5099.1</td><td>yes</td></tr>\n",
              "\t<tr><td>52</td><td>admin.       </td><td>divorced</td><td>university.degree  </td><td>no     </td><td>no     </td><td>no     </td><td>cellular </td><td>nov</td><td>tue</td><td> 213</td><td>1</td><td>999</td><td>nonexistent</td><td>-3.4</td><td>92.649</td><td>-30.1</td><td>0.715</td><td>5017.5</td><td>yes</td></tr>\n",
              "\t<tr><td>27</td><td>admin.       </td><td>married </td><td>university.degree  </td><td>no     </td><td>yes    </td><td>no     </td><td>cellular </td><td>jul</td><td>fri</td><td> 494</td><td>1</td><td>999</td><td>nonexistent</td><td> 1.4</td><td>93.918</td><td>-42.7</td><td>4.957</td><td>5228.1</td><td>yes</td></tr>\n",
              "\t<tr><td>33</td><td>blue-collar  </td><td>divorced</td><td>basic.9y           </td><td>no     </td><td>no     </td><td>no     </td><td>cellular </td><td>jul</td><td>tue</td><td> 134</td><td>1</td><td>999</td><td>nonexistent</td><td> 1.4</td><td>93.918</td><td>-42.7</td><td>4.961</td><td>5228.1</td><td>no </td></tr>\n",
              "\t<tr><td>34</td><td>admin.       </td><td>married </td><td>university.degree  </td><td>no     </td><td>yes    </td><td>no     </td><td>cellular </td><td>may</td><td>wed</td><td>  95</td><td>1</td><td>999</td><td>failure    </td><td>-1.8</td><td>92.893</td><td>-46.2</td><td>1.270</td><td>5099.1</td><td>no </td></tr>\n",
              "\t<tr><td>⋮</td><td>⋮</td><td>⋮</td><td>⋮</td><td>⋮</td><td>⋮</td><td>⋮</td><td>⋮</td><td>⋮</td><td>⋮</td><td>⋮</td><td>⋮</td><td>⋮</td><td>⋮</td><td>⋮</td><td>⋮</td><td>⋮</td><td>⋮</td><td>⋮</td><td>⋮</td></tr>\n",
              "\t<tr><td>31</td><td>blue-collar  </td><td>single  </td><td>basic.9y           </td><td>no     </td><td>no </td><td>no </td><td>cellular </td><td>may</td><td>thu</td><td>191</td><td> 1</td><td>999</td><td>failure    </td><td>-1.8</td><td>92.893</td><td>-46.2</td><td>1.266</td><td>5099.1</td><td>yes</td></tr>\n",
              "\t<tr><td>35</td><td>housemaid    </td><td>divorced</td><td>basic.9y           </td><td>no     </td><td>no </td><td>no </td><td>cellular </td><td>nov</td><td>wed</td><td> 60</td><td> 1</td><td>999</td><td>failure    </td><td>-0.1</td><td>93.200</td><td>-42.0</td><td>4.120</td><td>5195.8</td><td>no </td></tr>\n",
              "\t<tr><td>31</td><td>services     </td><td>married </td><td>basic.9y           </td><td>no     </td><td>yes</td><td>no </td><td>cellular </td><td>jun</td><td>mon</td><td>208</td><td> 1</td><td>999</td><td>nonexistent</td><td>-2.9</td><td>92.963</td><td>-40.8</td><td>1.266</td><td>5076.2</td><td>no </td></tr>\n",
              "\t<tr><td>32</td><td>blue-collar  </td><td>divorced</td><td>professional.course</td><td>no     </td><td>no </td><td>no </td><td>cellular </td><td>jul</td><td>fri</td><td>261</td><td>13</td><td>999</td><td>nonexistent</td><td> 1.4</td><td>93.918</td><td>-42.7</td><td>4.963</td><td>5228.1</td><td>no </td></tr>\n",
              "\t<tr><td>42</td><td>entrepreneur </td><td>married </td><td>basic.4y           </td><td>unknown</td><td>yes</td><td>no </td><td>telephone</td><td>jul</td><td>thu</td><td>485</td><td> 2</td><td>999</td><td>nonexistent</td><td> 1.4</td><td>93.918</td><td>-42.7</td><td>4.958</td><td>5228.1</td><td>no </td></tr>\n",
              "\t<tr><td>27</td><td>blue-collar  </td><td>single  </td><td>high.school        </td><td>no     </td><td>yes</td><td>no </td><td>cellular </td><td>jun</td><td>mon</td><td>148</td><td> 2</td><td>  4</td><td>success    </td><td>-2.9</td><td>92.963</td><td>-40.8</td><td>1.281</td><td>5076.2</td><td>yes</td></tr>\n",
              "\t<tr><td>37</td><td>admin.       </td><td>single  </td><td>high.school        </td><td>no     </td><td>no </td><td>no </td><td>telephone</td><td>jul</td><td>thu</td><td>494</td><td> 4</td><td>999</td><td>failure    </td><td>-1.7</td><td>94.215</td><td>-40.3</td><td>0.782</td><td>4991.6</td><td>no </td></tr>\n",
              "\t<tr><td>54</td><td>management   </td><td>married </td><td>university.degree  </td><td>no     </td><td>yes</td><td>no </td><td>cellular </td><td>apr</td><td>thu</td><td> 85</td><td> 1</td><td>999</td><td>nonexistent</td><td>-1.8</td><td>93.075</td><td>-47.1</td><td>1.365</td><td>5099.1</td><td>no </td></tr>\n",
              "\t<tr><td>30</td><td>admin.       </td><td>married </td><td>university.degree  </td><td>unknown</td><td>yes</td><td>no </td><td>cellular </td><td>aug</td><td>mon</td><td>114</td><td> 2</td><td>999</td><td>nonexistent</td><td> 1.4</td><td>93.444</td><td>-36.1</td><td>4.963</td><td>5228.1</td><td>no </td></tr>\n",
              "\t<tr><td>42</td><td>admin.       </td><td>divorced</td><td>university.degree  </td><td>no     </td><td>no </td><td>no </td><td>cellular </td><td>may</td><td>fri</td><td>308</td><td> 3</td><td>999</td><td>nonexistent</td><td>-1.8</td><td>92.893</td><td>-46.2</td><td>1.313</td><td>5099.1</td><td>yes</td></tr>\n",
              "\t<tr><td>25</td><td>student      </td><td>single  </td><td>high.school        </td><td>no     </td><td>yes</td><td>yes</td><td>telephone</td><td>aug</td><td>fri</td><td>461</td><td> 1</td><td>999</td><td>nonexistent</td><td>-1.7</td><td>94.027</td><td>-38.3</td><td>0.898</td><td>4991.6</td><td>yes</td></tr>\n",
              "\t<tr><td>47</td><td>services     </td><td>married </td><td>high.school        </td><td>no     </td><td>yes</td><td>no </td><td>cellular </td><td>nov</td><td>wed</td><td>311</td><td> 1</td><td>999</td><td>nonexistent</td><td>-0.1</td><td>93.200</td><td>-42.0</td><td>4.120</td><td>5195.8</td><td>no </td></tr>\n",
              "\t<tr><td>41</td><td>blue-collar  </td><td>married </td><td>basic.4y           </td><td>unknown</td><td>no </td><td>no </td><td>telephone</td><td>may</td><td>wed</td><td> 16</td><td> 1</td><td>999</td><td>nonexistent</td><td> 1.1</td><td>93.994</td><td>-36.4</td><td>4.858</td><td>5191.0</td><td>no </td></tr>\n",
              "\t<tr><td>32</td><td>admin.       </td><td>single  </td><td>high.school        </td><td>no     </td><td>yes</td><td>no </td><td>cellular </td><td>nov</td><td>mon</td><td>333</td><td> 2</td><td>999</td><td>nonexistent</td><td>-0.1</td><td>93.200</td><td>-42.0</td><td>4.191</td><td>5195.8</td><td>no </td></tr>\n",
              "\t<tr><td>26</td><td>admin.       </td><td>single  </td><td>high.school        </td><td>no     </td><td>no </td><td>no </td><td>telephone</td><td>may</td><td>fri</td><td>619</td><td> 2</td><td>999</td><td>nonexistent</td><td> 1.1</td><td>93.994</td><td>-36.4</td><td>4.859</td><td>5191.0</td><td>yes</td></tr>\n",
              "\t<tr><td>27</td><td>admin.       </td><td>single  </td><td>university.degree  </td><td>no     </td><td>no </td><td>no </td><td>cellular </td><td>mar</td><td>tue</td><td>238</td><td> 4</td><td>999</td><td>nonexistent</td><td>-1.8</td><td>93.369</td><td>-34.8</td><td>0.635</td><td>5008.7</td><td>yes</td></tr>\n",
              "\t<tr><td>47</td><td>admin.       </td><td>single  </td><td>university.degree  </td><td>no     </td><td>yes</td><td>no </td><td>cellular </td><td>aug</td><td>thu</td><td>156</td><td> 4</td><td>999</td><td>nonexistent</td><td> 1.4</td><td>93.444</td><td>-36.1</td><td>4.968</td><td>5228.1</td><td>no </td></tr>\n",
              "\t<tr><td>29</td><td>technician   </td><td>single  </td><td>high.school        </td><td>no     </td><td>yes</td><td>no </td><td>telephone</td><td>jun</td><td>wed</td><td>  6</td><td> 1</td><td>999</td><td>nonexistent</td><td>-1.7</td><td>94.055</td><td>-39.8</td><td>0.767</td><td>4991.6</td><td>no </td></tr>\n",
              "\t<tr><td>57</td><td>blue-collar  </td><td>married </td><td>basic.4y           </td><td>no     </td><td>yes</td><td>no </td><td>cellular </td><td>jul</td><td>mon</td><td> 76</td><td> 2</td><td>999</td><td>nonexistent</td><td> 1.4</td><td>93.918</td><td>-42.7</td><td>4.962</td><td>5228.1</td><td>no </td></tr>\n",
              "\t<tr><td>24</td><td>services     </td><td>single  </td><td>high.school        </td><td>no     </td><td>no </td><td>no </td><td>telephone</td><td>jun</td><td>mon</td><td>700</td><td> 1</td><td>999</td><td>nonexistent</td><td> 1.4</td><td>94.465</td><td>-41.8</td><td>4.961</td><td>5228.1</td><td>yes</td></tr>\n",
              "\t<tr><td>34</td><td>management   </td><td>married </td><td>university.degree  </td><td>no     </td><td>yes</td><td>no </td><td>cellular </td><td>nov</td><td>wed</td><td> 96</td><td> 1</td><td>999</td><td>nonexistent</td><td>-0.1</td><td>93.200</td><td>-42.0</td><td>4.120</td><td>5195.8</td><td>no </td></tr>\n",
              "\t<tr><td>60</td><td>self-employed</td><td>divorced</td><td>university.degree  </td><td>no     </td><td>no </td><td>no </td><td>cellular </td><td>sep</td><td>tue</td><td> 83</td><td> 1</td><td>  3</td><td>success    </td><td>-3.4</td><td>92.379</td><td>-29.8</td><td>0.755</td><td>5017.5</td><td>yes</td></tr>\n",
              "\t<tr><td>33</td><td>admin.       </td><td>married </td><td>high.school        </td><td>no     </td><td>no </td><td>no </td><td>telephone</td><td>jun</td><td>wed</td><td> 43</td><td> 4</td><td>999</td><td>nonexistent</td><td> 1.4</td><td>94.465</td><td>-41.8</td><td>4.962</td><td>5228.1</td><td>no </td></tr>\n",
              "\t<tr><td>32</td><td>technician   </td><td>married </td><td>professional.course</td><td>no     </td><td>no </td><td>no </td><td>cellular </td><td>aug</td><td>tue</td><td>215</td><td> 1</td><td>999</td><td>nonexistent</td><td> 1.4</td><td>93.444</td><td>-36.1</td><td>4.963</td><td>5228.1</td><td>no </td></tr>\n",
              "\t<tr><td>35</td><td>technician   </td><td>married </td><td>professional.course</td><td>no     </td><td>yes</td><td>no </td><td>telephone</td><td>jun</td><td>fri</td><td>366</td><td> 1</td><td>999</td><td>nonexistent</td><td>-2.9</td><td>92.963</td><td>-40.8</td><td>1.268</td><td>5076.2</td><td>yes</td></tr>\n",
              "\t<tr><td>29</td><td>admin.       </td><td>single  </td><td>professional.course</td><td>no     </td><td>no </td><td>no </td><td>cellular </td><td>apr</td><td>thu</td><td>427</td><td> 3</td><td>999</td><td>nonexistent</td><td>-1.8</td><td>93.075</td><td>-47.1</td><td>1.365</td><td>5099.1</td><td>yes</td></tr>\n",
              "\t<tr><td>44</td><td>admin.       </td><td>married </td><td>high.school        </td><td>no     </td><td>yes</td><td>no </td><td>telephone</td><td>may</td><td>mon</td><td> 96</td><td> 2</td><td>999</td><td>nonexistent</td><td> 1.1</td><td>93.994</td><td>-36.4</td><td>4.857</td><td>5191.0</td><td>no </td></tr>\n",
              "\t<tr><td>34</td><td>blue-collar  </td><td>married </td><td>basic.9y           </td><td>no     </td><td>yes</td><td>no </td><td>cellular </td><td>may</td><td>wed</td><td>157</td><td> 3</td><td>999</td><td>failure    </td><td>-1.8</td><td>92.893</td><td>-46.2</td><td>1.334</td><td>5099.1</td><td>no </td></tr>\n",
              "\t<tr><td>41</td><td>housemaid    </td><td>married </td><td>basic.4y           </td><td>no     </td><td>no </td><td>no </td><td>cellular </td><td>may</td><td>tue</td><td> 66</td><td> 1</td><td>999</td><td>nonexistent</td><td>-1.8</td><td>92.893</td><td>-46.2</td><td>1.291</td><td>5099.1</td><td>no </td></tr>\n",
              "\t<tr><td>39</td><td>technician   </td><td>married </td><td>university.degree  </td><td>no     </td><td>no </td><td>no </td><td>cellular </td><td>oct</td><td>fri</td><td>170</td><td> 1</td><td>  6</td><td>success    </td><td>-3.4</td><td>92.431</td><td>-26.9</td><td>0.739</td><td>5017.5</td><td>yes</td></tr>\n",
              "</tbody>\n",
              "</table>\n"
            ]
          },
          "metadata": {
            "tags": []
          }
        }
      ]
    },
    {
      "cell_type": "code",
      "metadata": {
        "colab": {
          "base_uri": "https://localhost:8080/"
        },
        "id": "sJ4O8c2DoAyf",
        "outputId": "e7a76130-d7c8-47a2-c311-f943ba755ad2"
      },
      "source": [
        "ran2 <- ran %>% mutate_at('.vars' = c(\"education\",\"marital\",\"education\",\"default\",\"loan\",\"contact\",\"month\",\"day_of_week\",\"job\",\"poutcome\",\"termDeposit\"), '.funs' = as.factor)\r\n",
        "ran2 %>% str() #범주형 데이터 설정 및 변수 확인"
      ],
      "execution_count": 351,
      "outputs": [
        {
          "output_type": "stream",
          "text": [
            "tibble [10,098 × 20] (S3: tbl_df/tbl/data.frame)\n",
            " $ age           : int [1:10098] 41 57 34 54 49 73 40 34 56 41 ...\n",
            " $ job           : Factor w/ 12 levels \"admin.\",\"blue-collar\",..: 10 6 10 5 2 6 10 3 3 5 ...\n",
            " $ marital       : Factor w/ 4 levels \"divorced\",\"married\",..: 3 3 2 2 2 2 2 2 2 2 ...\n",
            " $ education     : Factor w/ 8 levels \"basic.4y\",\"basic.6y\",..: 7 4 6 7 1 8 6 7 7 7 ...\n",
            " $ default       : Factor w/ 3 levels \"no\",\"unknown\",..: 1 1 2 1 2 1 2 2 1 1 ...\n",
            " $ housing       : chr [1:10098] \"no\" \"no\" \"yes\" \"no\" ...\n",
            " $ loan          : Factor w/ 3 levels \"no\",\"unknown\",..: 1 1 1 1 1 1 1 1 1 1 ...\n",
            " $ contact       : Factor w/ 2 levels \"cellular\",\"telephone\": 1 2 1 1 2 2 2 1 1 2 ...\n",
            " $ month         : Factor w/ 10 levels \"apr\",\"aug\",\"dec\",..: 8 5 4 8 7 6 5 8 1 7 ...\n",
            " $ day_of_week   : Factor w/ 5 levels \"fri\",\"mon\",\"thu\",..: 1 1 5 2 2 2 2 2 3 5 ...\n",
            " $ duration      : int [1:10098] 903 74 75 59 252 659 21 2462 266 205 ...\n",
            " $ campaign      : int [1:10098] 3 3 5 1 1 1 1 2 1 7 ...\n",
            " $ pdays         : int [1:10098] 999 999 999 999 999 999 999 999 999 999 ...\n",
            " $ poutcome      : Factor w/ 3 levels \"failure\",\"nonexistent\",..: 1 2 2 2 2 2 2 2 2 2 ...\n",
            " $ emp.var.rate  : num [1:10098] -0.1 1.4 1.4 -0.1 1.1 -1.8 1.4 -0.1 -1.8 1.1 ...\n",
            " $ cons.price.idx: num [1:10098] 93.2 94.5 93.9 93.2 94 ...\n",
            " $ cons.conf.idx : num [1:10098] -42 -41.8 -42.7 -42 -36.4 -34.8 -41.8 -42 -47.1 -36.4 ...\n",
            " $ euribor3m     : num [1:10098] 4.02 4.96 4.96 4.19 4.86 ...\n",
            " $ nr.employed   : num [1:10098] 5196 5228 5228 5196 5191 ...\n",
            " $ termDeposit   : Factor w/ 2 levels \"no\",\"yes\": 1 1 1 1 1 2 1 2 2 1 ...\n",
            " - attr(*, \".internal.selfref\")=<externalptr> \n"
          ],
          "name": "stdout"
        }
      ]
    },
    {
      "cell_type": "code",
      "metadata": {
        "id": "QLQVa0IlhgPu"
      },
      "source": [
        "index <- createDataPartition(y = ran2$termDeposit, p = 0.7, list = FALSE) \r\n",
        "train<-ran2[index, ] #데이터셋 및 train, test 값 설정\r\n",
        "test<-ran2[-index, ]"
      ],
      "execution_count": 352,
      "outputs": []
    },
    {
      "cell_type": "code",
      "metadata": {
        "colab": {
          "base_uri": "https://localhost:8080/",
          "height": 35
        },
        "id": "FRvFJk6BoNtT",
        "outputId": "f262c541-f4e9-4f18-c2b5-3ae51d8dc7ff"
      },
      "source": [
        "mtry_sqrt <- train %>% select(-termDeposit) %>% colnames() %>%\r\n",
        " length() %>% sqrt() %>% floor() #골든 스탠다드 값 구하기\r\n",
        "mtry_sqrt"
      ],
      "execution_count": 353,
      "outputs": [
        {
          "output_type": "display_data",
          "data": {
            "text/plain": [
              "[1] 4"
            ],
            "text/latex": "4",
            "text/markdown": "4",
            "text/html": [
              "4"
            ]
          },
          "metadata": {
            "tags": []
          }
        }
      ]
    },
    {
      "cell_type": "code",
      "metadata": {
        "colab": {
          "base_uri": "https://localhost:8080/",
          "height": 235
        },
        "id": "ylwwmxJzoYgQ",
        "outputId": "654eae1a-78b3-4d5a-ac66-1fd352850c07"
      },
      "source": [
        "rf <- randomForest(termDeposit ~ ., data = train, na.action = na.omit, importance = T, mtry = mtry_sqrt, ntree = 1000) #random forest 모델 생성\r\n",
        "rf"
      ],
      "execution_count": 354,
      "outputs": [
        {
          "output_type": "display_data",
          "data": {
            "text/plain": [
              "\n",
              "Call:\n",
              " randomForest(formula = termDeposit ~ ., data = train, importance = T,      mtry = mtry_sqrt, ntree = 1000, na.action = na.omit) \n",
              "               Type of random forest: classification\n",
              "                     Number of trees: 1000\n",
              "No. of variables tried at each split: 4\n",
              "\n",
              "        OOB estimate of  error rate: 12.31%\n",
              "Confusion matrix:\n",
              "      no  yes class.error\n",
              "no  3533  613   0.1478534\n",
              "yes  257 2667   0.0878933"
            ]
          },
          "metadata": {
            "tags": []
          }
        }
      ]
    },
    {
      "cell_type": "code",
      "metadata": {
        "colab": {
          "base_uri": "https://localhost:8080/",
          "height": 745
        },
        "id": "-ak69i2-rOhf",
        "outputId": "041e000f-b10d-4e59-d7a3-8f10a9bd476d"
      },
      "source": [
        "ran_pre2 <-ran_pre%>% select(-ID, -previous)%>%mutate_at(c(\"job\",\"education\",\"marital\",\"education\",\"default\",\"loan\",\"contact\",\"month\",\"day_of_week\",\"poutcome\"),factor)\r\n",
        "summary(ran_pre2) #데이터 범주화\r\n"
      ],
      "execution_count": 355,
      "outputs": [
        {
          "output_type": "display_data",
          "data": {
            "text/plain": [
              "      age                 job          marital                  education  \n",
              " Min.   :18.00   admin.     :324   divorced:136   basic.4y           :117  \n",
              " 1st Qu.:32.00   blue-collar:239   married :657   basic.6y           : 54  \n",
              " Median :38.00   technician :186   single  :328   basic.9y           :119  \n",
              " Mean   :40.48   services   : 81                  high.school        :277  \n",
              " 3rd Qu.:48.00   management : 74                  professional.course:134  \n",
              " Max.   :98.00   retired    : 60                  university.degree  :369  \n",
              "                 (Other)    :157                  unknown            : 51  \n",
              "    default      housing               loan          contact        month    \n",
              " no     :945   Length:1121        no     :949   cellular :786   may    :329  \n",
              " unknown:176   Class :character   unknown: 18   telephone:335   jul    :172  \n",
              "               Mode  :character   yes    :154                   aug    :164  \n",
              "                                                                jun    :148  \n",
              "                                                                nov    :108  \n",
              "                                                                apr    : 76  \n",
              "                                                                (Other):124  \n",
              " day_of_week    duration         campaign          pdays      \n",
              " fri:212     Min.   :   4.0   Min.   : 1.000   Min.   :  0.0  \n",
              " mon:224     1st Qu.: 133.0   1st Qu.: 1.000   1st Qu.:999.0  \n",
              " thu:244     Median : 245.0   Median : 2.000   Median :999.0  \n",
              " tue:218     Mean   : 382.1   Mean   : 2.324   Mean   :893.6  \n",
              " wed:223     3rd Qu.: 484.0   3rd Qu.: 3.000   3rd Qu.:999.0  \n",
              "             Max.   :2926.0   Max.   :24.000   Max.   :999.0  \n",
              "                                                              \n",
              "        poutcome    emp.var.rate     cons.price.idx  cons.conf.idx   \n",
              " failure    :117   Min.   :-3.4000   Min.   :92.20   Min.   :-50.80  \n",
              " nonexistent:892   1st Qu.:-1.8000   1st Qu.:92.89   1st Qu.:-42.70  \n",
              " success    :112   Median :-0.1000   Median :93.44   Median :-41.80  \n",
              "                   Mean   :-0.4286   Mean   :93.49   Mean   :-40.15  \n",
              "                   3rd Qu.: 1.4000   3rd Qu.:93.99   3rd Qu.:-36.40  \n",
              "                   Max.   : 1.4000   Max.   :94.77   Max.   :-26.90  \n",
              "                                                                     \n",
              "   euribor3m      nr.employed  \n",
              " Min.   :0.634   Min.   :4964  \n",
              " 1st Qu.:1.250   1st Qu.:5076  \n",
              " Median :4.076   Median :5191  \n",
              " Mean   :3.049   Mean   :5140  \n",
              " 3rd Qu.:4.959   3rd Qu.:5228  \n",
              " Max.   :5.000   Max.   :5228  \n",
              "                               "
            ]
          },
          "metadata": {
            "tags": []
          }
        }
      ]
    },
    {
      "cell_type": "code",
      "metadata": {
        "id": "P9biIwHbuUYx"
      },
      "source": [
        ""
      ],
      "execution_count": 347,
      "outputs": []
    },
    {
      "cell_type": "code",
      "metadata": {
        "id": "8up-Y-OfraIp"
      },
      "source": [
        "common <- intersect(names(train), names(ran_pre2)) \r\n",
        "for (p in common) { \r\n",
        "  if (class(train[[p]]) == \"factor\") {  #오류로 인한 코드 작성\r\n",
        "    levels(ran_pre2[[p]]) <- levels(train[[p]]) \r\n",
        "  } \r\n",
        "}\r\n",
        "predict <- predict(rf, ran_pre2, type = \"class\") %>% tibble(termDeposit = .)\r\n",
        "predict <-ran_pre %>% select(ID) %>% dplyr::bind_cols(.,predict) #랜덤 포레스트 모델 데이터 예측"
      ],
      "execution_count": 357,
      "outputs": []
    },
    {
      "cell_type": "code",
      "metadata": {
        "colab": {
          "base_uri": "https://localhost:8080/",
          "height": 1000
        },
        "id": "uPg6G2N6vJUf",
        "outputId": "3f3fc0bc-5549-4d96-e277-83c86f04415a"
      },
      "source": [
        "predict"
      ],
      "execution_count": 358,
      "outputs": [
        {
          "output_type": "display_data",
          "data": {
            "text/plain": [
              "     ID    termDeposit\n",
              "1    T1    no         \n",
              "2    T2    no         \n",
              "3    T3    yes        \n",
              "4    T4    yes        \n",
              "5    T5    no         \n",
              "6    T6    yes        \n",
              "7    T7    yes        \n",
              "8    T8    no         \n",
              "9    T9    no         \n",
              "10   T10   no         \n",
              "11   T11   no         \n",
              "12   T12   yes        \n",
              "13   T13   no         \n",
              "14   T14   no         \n",
              "15   T15   no         \n",
              "16   T16   no         \n",
              "17   T17   yes        \n",
              "18   T18   yes        \n",
              "19   T19   yes        \n",
              "20   T20   no         \n",
              "21   T21   no         \n",
              "22   T22   no         \n",
              "23   T23   no         \n",
              "24   T24   no         \n",
              "25   T25   yes        \n",
              "26   T26   no         \n",
              "27   T27   yes        \n",
              "28   T28   yes        \n",
              "29   T29   yes        \n",
              "30   T30   yes        \n",
              "⋮    ⋮     ⋮          \n",
              "1092 T1092 no         \n",
              "1093 T1093 no         \n",
              "1094 T1094 no         \n",
              "1095 T1095 no         \n",
              "1096 T1096 no         \n",
              "1097 T1097 no         \n",
              "1098 T1098 no         \n",
              "1099 T1099 no         \n",
              "1100 T1100 yes        \n",
              "1101 T1101 no         \n",
              "1102 T1102 no         \n",
              "1103 T1103 no         \n",
              "1104 T1104 no         \n",
              "1105 T1105 yes        \n",
              "1106 T1106 no         \n",
              "1107 T1107 no         \n",
              "1108 T1108 yes        \n",
              "1109 T1109 no         \n",
              "1110 T1110 no         \n",
              "1111 T1111 no         \n",
              "1112 T1112 no         \n",
              "1113 T1113 yes        \n",
              "1114 T1114 no         \n",
              "1115 T1115 yes        \n",
              "1116 T1116 yes        \n",
              "1117 T1117 no         \n",
              "1118 T1118 no         \n",
              "1119 T1119 yes        \n",
              "1120 T1120 no         \n",
              "1121 T1121 no         "
            ],
            "text/latex": "A tibble: 1121 × 2\n\\begin{tabular}{ll}\n ID & termDeposit\\\\\n <chr> & <fct>\\\\\n\\hline\n\t T1  & no \\\\\n\t T2  & no \\\\\n\t T3  & yes\\\\\n\t T4  & yes\\\\\n\t T5  & no \\\\\n\t T6  & yes\\\\\n\t T7  & yes\\\\\n\t T8  & no \\\\\n\t T9  & no \\\\\n\t T10 & no \\\\\n\t T11 & no \\\\\n\t T12 & yes\\\\\n\t T13 & no \\\\\n\t T14 & no \\\\\n\t T15 & no \\\\\n\t T16 & no \\\\\n\t T17 & yes\\\\\n\t T18 & yes\\\\\n\t T19 & yes\\\\\n\t T20 & no \\\\\n\t T21 & no \\\\\n\t T22 & no \\\\\n\t T23 & no \\\\\n\t T24 & no \\\\\n\t T25 & yes\\\\\n\t T26 & no \\\\\n\t T27 & yes\\\\\n\t T28 & yes\\\\\n\t T29 & yes\\\\\n\t T30 & yes\\\\\n\t ⋮ & ⋮\\\\\n\t T1092 & no \\\\\n\t T1093 & no \\\\\n\t T1094 & no \\\\\n\t T1095 & no \\\\\n\t T1096 & no \\\\\n\t T1097 & no \\\\\n\t T1098 & no \\\\\n\t T1099 & no \\\\\n\t T1100 & yes\\\\\n\t T1101 & no \\\\\n\t T1102 & no \\\\\n\t T1103 & no \\\\\n\t T1104 & no \\\\\n\t T1105 & yes\\\\\n\t T1106 & no \\\\\n\t T1107 & no \\\\\n\t T1108 & yes\\\\\n\t T1109 & no \\\\\n\t T1110 & no \\\\\n\t T1111 & no \\\\\n\t T1112 & no \\\\\n\t T1113 & yes\\\\\n\t T1114 & no \\\\\n\t T1115 & yes\\\\\n\t T1116 & yes\\\\\n\t T1117 & no \\\\\n\t T1118 & no \\\\\n\t T1119 & yes\\\\\n\t T1120 & no \\\\\n\t T1121 & no \\\\\n\\end{tabular}\n",
            "text/markdown": "\nA tibble: 1121 × 2\n\n| ID &lt;chr&gt; | termDeposit &lt;fct&gt; |\n|---|---|\n| T1  | no  |\n| T2  | no  |\n| T3  | yes |\n| T4  | yes |\n| T5  | no  |\n| T6  | yes |\n| T7  | yes |\n| T8  | no  |\n| T9  | no  |\n| T10 | no  |\n| T11 | no  |\n| T12 | yes |\n| T13 | no  |\n| T14 | no  |\n| T15 | no  |\n| T16 | no  |\n| T17 | yes |\n| T18 | yes |\n| T19 | yes |\n| T20 | no  |\n| T21 | no  |\n| T22 | no  |\n| T23 | no  |\n| T24 | no  |\n| T25 | yes |\n| T26 | no  |\n| T27 | yes |\n| T28 | yes |\n| T29 | yes |\n| T30 | yes |\n| ⋮ | ⋮ |\n| T1092 | no  |\n| T1093 | no  |\n| T1094 | no  |\n| T1095 | no  |\n| T1096 | no  |\n| T1097 | no  |\n| T1098 | no  |\n| T1099 | no  |\n| T1100 | yes |\n| T1101 | no  |\n| T1102 | no  |\n| T1103 | no  |\n| T1104 | no  |\n| T1105 | yes |\n| T1106 | no  |\n| T1107 | no  |\n| T1108 | yes |\n| T1109 | no  |\n| T1110 | no  |\n| T1111 | no  |\n| T1112 | no  |\n| T1113 | yes |\n| T1114 | no  |\n| T1115 | yes |\n| T1116 | yes |\n| T1117 | no  |\n| T1118 | no  |\n| T1119 | yes |\n| T1120 | no  |\n| T1121 | no  |\n\n",
            "text/html": [
              "<table>\n",
              "<caption>A tibble: 1121 × 2</caption>\n",
              "<thead>\n",
              "\t<tr><th scope=col>ID</th><th scope=col>termDeposit</th></tr>\n",
              "\t<tr><th scope=col>&lt;chr&gt;</th><th scope=col>&lt;fct&gt;</th></tr>\n",
              "</thead>\n",
              "<tbody>\n",
              "\t<tr><td>T1 </td><td>no </td></tr>\n",
              "\t<tr><td>T2 </td><td>no </td></tr>\n",
              "\t<tr><td>T3 </td><td>yes</td></tr>\n",
              "\t<tr><td>T4 </td><td>yes</td></tr>\n",
              "\t<tr><td>T5 </td><td>no </td></tr>\n",
              "\t<tr><td>T6 </td><td>yes</td></tr>\n",
              "\t<tr><td>T7 </td><td>yes</td></tr>\n",
              "\t<tr><td>T8 </td><td>no </td></tr>\n",
              "\t<tr><td>T9 </td><td>no </td></tr>\n",
              "\t<tr><td>T10</td><td>no </td></tr>\n",
              "\t<tr><td>T11</td><td>no </td></tr>\n",
              "\t<tr><td>T12</td><td>yes</td></tr>\n",
              "\t<tr><td>T13</td><td>no </td></tr>\n",
              "\t<tr><td>T14</td><td>no </td></tr>\n",
              "\t<tr><td>T15</td><td>no </td></tr>\n",
              "\t<tr><td>T16</td><td>no </td></tr>\n",
              "\t<tr><td>T17</td><td>yes</td></tr>\n",
              "\t<tr><td>T18</td><td>yes</td></tr>\n",
              "\t<tr><td>T19</td><td>yes</td></tr>\n",
              "\t<tr><td>T20</td><td>no </td></tr>\n",
              "\t<tr><td>T21</td><td>no </td></tr>\n",
              "\t<tr><td>T22</td><td>no </td></tr>\n",
              "\t<tr><td>T23</td><td>no </td></tr>\n",
              "\t<tr><td>T24</td><td>no </td></tr>\n",
              "\t<tr><td>T25</td><td>yes</td></tr>\n",
              "\t<tr><td>T26</td><td>no </td></tr>\n",
              "\t<tr><td>T27</td><td>yes</td></tr>\n",
              "\t<tr><td>T28</td><td>yes</td></tr>\n",
              "\t<tr><td>T29</td><td>yes</td></tr>\n",
              "\t<tr><td>T30</td><td>yes</td></tr>\n",
              "\t<tr><td>⋮</td><td>⋮</td></tr>\n",
              "\t<tr><td>T1092</td><td>no </td></tr>\n",
              "\t<tr><td>T1093</td><td>no </td></tr>\n",
              "\t<tr><td>T1094</td><td>no </td></tr>\n",
              "\t<tr><td>T1095</td><td>no </td></tr>\n",
              "\t<tr><td>T1096</td><td>no </td></tr>\n",
              "\t<tr><td>T1097</td><td>no </td></tr>\n",
              "\t<tr><td>T1098</td><td>no </td></tr>\n",
              "\t<tr><td>T1099</td><td>no </td></tr>\n",
              "\t<tr><td>T1100</td><td>yes</td></tr>\n",
              "\t<tr><td>T1101</td><td>no </td></tr>\n",
              "\t<tr><td>T1102</td><td>no </td></tr>\n",
              "\t<tr><td>T1103</td><td>no </td></tr>\n",
              "\t<tr><td>T1104</td><td>no </td></tr>\n",
              "\t<tr><td>T1105</td><td>yes</td></tr>\n",
              "\t<tr><td>T1106</td><td>no </td></tr>\n",
              "\t<tr><td>T1107</td><td>no </td></tr>\n",
              "\t<tr><td>T1108</td><td>yes</td></tr>\n",
              "\t<tr><td>T1109</td><td>no </td></tr>\n",
              "\t<tr><td>T1110</td><td>no </td></tr>\n",
              "\t<tr><td>T1111</td><td>no </td></tr>\n",
              "\t<tr><td>T1112</td><td>no </td></tr>\n",
              "\t<tr><td>T1113</td><td>yes</td></tr>\n",
              "\t<tr><td>T1114</td><td>no </td></tr>\n",
              "\t<tr><td>T1115</td><td>yes</td></tr>\n",
              "\t<tr><td>T1116</td><td>yes</td></tr>\n",
              "\t<tr><td>T1117</td><td>no </td></tr>\n",
              "\t<tr><td>T1118</td><td>no </td></tr>\n",
              "\t<tr><td>T1119</td><td>yes</td></tr>\n",
              "\t<tr><td>T1120</td><td>no </td></tr>\n",
              "\t<tr><td>T1121</td><td>no </td></tr>\n",
              "</tbody>\n",
              "</table>\n"
            ]
          },
          "metadata": {
            "tags": []
          }
        }
      ]
    },
    {
      "cell_type": "code",
      "metadata": {
        "id": "3wb421xevL-4"
      },
      "source": [
        "predict <- predict%>%write_csv(path=\"randomforest_20165324.csv\") #파일 쓰기"
      ],
      "execution_count": 393,
      "outputs": []
    },
    {
      "cell_type": "markdown",
      "metadata": {
        "id": "TjtEAYXw9UHL"
      },
      "source": [
        "## 4. **Support Vector Machine**"
      ]
    },
    {
      "cell_type": "markdown",
      "metadata": {
        "id": "DqsTjBliLnxb"
      },
      "source": [
        "**패키지 설치**"
      ]
    },
    {
      "cell_type": "code",
      "metadata": {
        "id": "zabZwfYR9Wd4",
        "colab": {
          "base_uri": "https://localhost:8080/"
        },
        "outputId": "618154cd-a9de-4c83-bf91-b8613ccaf109"
      },
      "source": [
        "install.packages(c(\"tidyverse\", \"caret\", \"e1071\"))"
      ],
      "execution_count": 363,
      "outputs": [
        {
          "output_type": "stream",
          "text": [
            "Installing packages into ‘/usr/local/lib/R/site-library’\n",
            "(as ‘lib’ is unspecified)\n",
            "\n"
          ],
          "name": "stderr"
        }
      ]
    },
    {
      "cell_type": "code",
      "metadata": {
        "id": "hf3X6lA_wHNF"
      },
      "source": [
        "library(tidyverse)\r\n",
        "library(caret)\r\n",
        "library(e1071)\r\n"
      ],
      "execution_count": 365,
      "outputs": []
    },
    {
      "cell_type": "code",
      "metadata": {
        "colab": {
          "base_uri": "https://localhost:8080/",
          "height": 417
        },
        "id": "QA1ohEyHw2nl",
        "outputId": "2be95bc2-6cff-498e-90a5-e5570af03ee2"
      },
      "source": [
        "svm<-svm(formula = termDeposit ~., data = train, type = \"C-classification\", kernel = \"radial\", cost=1000, gamma=0.1) #Support Vector machine 모델 생성\r\n",
        "summary(svm)"
      ],
      "execution_count": 368,
      "outputs": [
        {
          "output_type": "display_data",
          "data": {
            "text/plain": [
              "\n",
              "Call:\n",
              "svm(formula = termDeposit ~ ., data = train, type = \"C-classification\", \n",
              "    kernel = \"radial\", cost = 1000, gamma = 0.1)\n",
              "\n",
              "\n",
              "Parameters:\n",
              "   SVM-Type:  C-classification \n",
              " SVM-Kernel:  radial \n",
              "       cost:  1000 \n",
              "\n",
              "Number of Support Vectors:  2517\n",
              "\n",
              " ( 1119 1398 )\n",
              "\n",
              "\n",
              "Number of Classes:  2 \n",
              "\n",
              "Levels: \n",
              " no yes\n",
              "\n",
              "\n"
            ]
          },
          "metadata": {
            "tags": []
          }
        }
      ]
    },
    {
      "cell_type": "code",
      "metadata": {
        "id": "QxaETwK_xVnz"
      },
      "source": [
        "predict_value <- predict(svm, test) %>% tibble(predict_value = .) \r\n",
        "tune <- tune.svm(termDeposit~ ., data=train, gamma=0.1, cost=1:30) #gridsearch를 통한 best svm 모델 찾기\r\n"
      ],
      "execution_count": 371,
      "outputs": []
    },
    {
      "cell_type": "code",
      "metadata": {
        "colab": {
          "base_uri": "https://localhost:8080/",
          "height": 799
        },
        "id": "Dp7AzDrvzPi0",
        "outputId": "f3688c9e-b5d7-469d-dc1d-c01d731019e6"
      },
      "source": [
        "tune %>% summary() #tune 값 확인"
      ],
      "execution_count": 372,
      "outputs": [
        {
          "output_type": "display_data",
          "data": {
            "text/plain": [
              "\n",
              "Parameter tuning of ‘svm’:\n",
              "\n",
              "- sampling method: 10-fold cross validation \n",
              "\n",
              "- best parameters:\n",
              " gamma cost\n",
              "   0.1    1\n",
              "\n",
              "- best performance: 0.1330976 \n",
              "\n",
              "- Detailed performance results:\n",
              "   gamma cost     error  dispersion\n",
              "1    0.1    1 0.1330976 0.009533841\n",
              "2    0.1    2 0.1362093 0.008302525\n",
              "3    0.1    3 0.1366337 0.006640949\n",
              "4    0.1    4 0.1398868 0.007438267\n",
              "5    0.1    5 0.1431400 0.006627547\n",
              "6    0.1    6 0.1461103 0.005737687\n",
              "7    0.1    7 0.1473833 0.006526150\n",
              "8    0.1    8 0.1495050 0.005659673\n",
              "9    0.1    9 0.1510608 0.006318478\n",
              "10   0.1   10 0.1528996 0.005829926\n",
              "11   0.1   11 0.1565771 0.005080137\n",
              "12   0.1   12 0.1584158 0.004619500\n",
              "13   0.1   13 0.1592645 0.006740619\n",
              "14   0.1   14 0.1608204 0.007366195\n",
              "15   0.1   15 0.1615276 0.007297981\n",
              "16   0.1   16 0.1628006 0.007788630\n",
              "17   0.1   17 0.1636492 0.008617823\n",
              "18   0.1   18 0.1649222 0.007810006\n",
              "19   0.1   19 0.1657709 0.007654768\n",
              "20   0.1   20 0.1677511 0.007430792\n",
              "21   0.1   21 0.1684583 0.007133164\n",
              "22   0.1   22 0.1691655 0.007490383\n",
              "23   0.1   23 0.1691655 0.007370720\n",
              "24   0.1   24 0.1698727 0.008472144\n",
              "25   0.1   25 0.1707214 0.008275708\n",
              "26   0.1   26 0.1712871 0.008730580\n",
              "27   0.1   27 0.1724187 0.008472144\n",
              "28   0.1   28 0.1724187 0.008730580\n",
              "29   0.1   29 0.1719943 0.009689944\n",
              "30   0.1   30 0.1711457 0.009453059\n"
            ]
          },
          "metadata": {
            "tags": []
          }
        }
      ]
    },
    {
      "cell_type": "code",
      "metadata": {
        "id": "SFL9xoPxxBkr"
      },
      "source": [
        "tuned<-tune$best.parameters #최적의 svm 모델값 대입"
      ],
      "execution_count": 373,
      "outputs": []
    },
    {
      "cell_type": "code",
      "metadata": {
        "id": "zxxFxj5f8av_"
      },
      "source": [
        "svm_t<-svm(termDeposit ~., data=train, type = \"C-classification\", kernel = \"linear\", gamma=tuned[1,1],cost=tuned[1,2]) #최적의 svm 모델 만들기"
      ],
      "execution_count": 376,
      "outputs": []
    },
    {
      "cell_type": "code",
      "metadata": {
        "id": "dKMYwsqq8tXW"
      },
      "source": [
        "predict <- predict(svm_t, test) %>% tibble(predict_value = .) #예측값 확인"
      ],
      "execution_count": 377,
      "outputs": []
    },
    {
      "cell_type": "code",
      "metadata": {
        "id": "90twq_0h84vL"
      },
      "source": [
        "svm_test<- fread(\"Test.csv\")%>% as_tibble() #데이터 원본 불러오기\r\n",
        "predict<-svm_test%>% select(-ID,-previous)%>%mutate_at(c(\"job\",\"education\",\"marital\",\"education\",\"default\",\"loan\",\"contact\",\"month\",\"day_of_week\",\"poutcome\"),factor) #데이터 범주 설정"
      ],
      "execution_count": 398,
      "outputs": []
    },
    {
      "cell_type": "code",
      "metadata": {
        "colab": {
          "base_uri": "https://localhost:8080/"
        },
        "id": "LiDnB9AH91tC",
        "outputId": "84ea3131-ee4f-4a11-9cc3-2215b2ede318"
      },
      "source": [
        "common <- intersect(names(train), names(predict)) \r\n",
        "for (p in common) { \r\n",
        "  if (class(train[[p]]) == \"factor\") { \r\n",
        "    levels(predict[[p]]) <- levels(train[[p]]) #오류로 인한 코드 작성\r\n",
        "  } \r\n",
        "}\r\n",
        "svm_value <- predict(svm_t, predict, type=\"class\") %>% tibble(termDeposit = .)\r\n",
        "svm_value <- svm_test %>% select(ID) %>% dplyr::bind_cols(., svm_value) # 데이터 예측 및 출력\r\n",
        "svm_value%>%show()\r\n"
      ],
      "execution_count": 402,
      "outputs": [
        {
          "output_type": "stream",
          "text": [
            "\u001b[90m# A tibble: 1,121 x 2\u001b[39m\n",
            "   ID    termDeposit\n",
            "   \u001b[3m\u001b[90m<chr>\u001b[39m\u001b[23m \u001b[3m\u001b[90m<fct>\u001b[39m\u001b[23m      \n",
            "\u001b[90m 1\u001b[39m T1    yes        \n",
            "\u001b[90m 2\u001b[39m T2    no         \n",
            "\u001b[90m 3\u001b[39m T3    yes        \n",
            "\u001b[90m 4\u001b[39m T4    yes        \n",
            "\u001b[90m 5\u001b[39m T5    no         \n",
            "\u001b[90m 6\u001b[39m T6    yes        \n",
            "\u001b[90m 7\u001b[39m T7    yes        \n",
            "\u001b[90m 8\u001b[39m T8    no         \n",
            "\u001b[90m 9\u001b[39m T9    yes        \n",
            "\u001b[90m10\u001b[39m T10   no         \n",
            "\u001b[90m# … with 1,111 more rows\u001b[39m\n"
          ],
          "name": "stdout"
        }
      ]
    },
    {
      "cell_type": "code",
      "metadata": {
        "id": "e_ycYI6KAl9G"
      },
      "source": [
        "svm_value<- svm_value %>%write_csv(path=\"supportvector_20165324.csv\") #데이터 쓰기"
      ],
      "execution_count": 403,
      "outputs": []
    },
    {
      "cell_type": "code",
      "metadata": {
        "id": "ZopFeSTJ_vLI"
      },
      "source": [
        ""
      ],
      "execution_count": 397,
      "outputs": []
    }
  ]
}